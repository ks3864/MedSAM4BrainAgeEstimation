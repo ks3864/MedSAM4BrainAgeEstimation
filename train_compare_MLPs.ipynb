{
 "cells": [
  {
   "cell_type": "code",
   "execution_count": 1,
   "id": "b1d835e0",
   "metadata": {},
   "outputs": [],
   "source": [
    "# Import necessary libraries\n",
    "import torch\n",
    "import torch.nn as nn\n",
    "import torch.optim as optim\n",
    "from torch.utils.data import Dataset, DataLoader\n",
    "import pandas as pd\n",
    "import numpy as np\n",
    "from pathlib import Path\n",
    "import torch.nn.functional as F\n",
    "import os\n",
    "import gc\n",
    "from tqdm import tqdm\n",
    "import time\n",
    "import random\n",
    "import statistics # For mean and stdev"
   ]
  },
  {
   "cell_type": "code",
   "execution_count": 2,
   "id": "465bebaf",
   "metadata": {},
   "outputs": [
    {
     "name": "stdout",
     "output_type": "stream",
     "text": [
      "Using device: cuda\n",
      "Feature root: /data/kuang/Projects/MedSAM/data/BrainAGE_preprocessed\n",
      "CSV path: /data/kuang/Projects/MedSAM/data/Subject_demographics_info_brain_age.csv\n",
      "Results will be saved in: mlp_comparison_results_5runs\n",
      "Number of runs per model: 5\n"
     ]
    }
   ],
   "source": [
    "\n",
    "# --- Configuration ---\n",
    "FEATURE_ROOT = Path(\"/data/kuang/Projects/MedSAM/data/BrainAGE_preprocessed\")\n",
    "CSV_PATH = Path(\"/data/kuang/Projects/MedSAM/data/Subject_demographics_info_brain_age.csv\")\n",
    "RESULTS_DIR = Path(\"./mlp_comparison_results_5runs\") # Directory for results\n",
    "DEVICE = \"cuda\" if torch.cuda.is_available() else \"cpu\"\n",
    "SPLITS = [\"train\", \"validation\", \"test\"]\n",
    "NUM_RUNS = 5 # Number of times to train each model\n",
    "\n",
    "# --- Hyperparameters ---\n",
    "EPOCHS = 500 # Adjust as needed\n",
    "LEARNING_RATE = 1e-4\n",
    "BATCH_SIZE = 32\n",
    "WEIGHT_DECAY = 1e-5\n",
    "DROPOUT_RATE = 0.3\n",
    "SCHEDULER_PATIENCE_PERCENT = 0.10\n",
    "EARLY_STOPPING_PATIENCE = 40\n",
    "NUM_WORKERS = 4\n",
    "ATTENTION_HEADS = 8\n",
    "\n",
    "# Create results directory\n",
    "RESULTS_DIR.mkdir(exist_ok=True)\n",
    "\n",
    "print(f\"Using device: {DEVICE}\")\n",
    "print(f\"Feature root: {FEATURE_ROOT}\")\n",
    "print(f\"CSV path: {CSV_PATH}\")\n",
    "print(f\"Results will be saved in: {RESULTS_DIR}\")\n",
    "print(f\"Number of runs per model: {NUM_RUNS}\")\n",
    "\n",
    "# --- Function to set random seeds ---\n",
    "def set_seed(seed):\n",
    "    \"\"\"Sets random seed for reproducibility.\"\"\"\n",
    "    random.seed(seed)\n",
    "    np.random.seed(seed)\n",
    "    torch.manual_seed(seed)\n",
    "    if torch.cuda.is_available():\n",
    "        torch.cuda.manual_seed(seed)\n",
    "        torch.cuda.manual_seed_all(seed) # if you are using multi-GPU.\n",
    "    # Ensure deterministic behavior for cuDNN\n",
    "    torch.backends.cudnn.deterministic = True\n",
    "    torch.backends.cudnn.benchmark = False # Can impact performance, but needed for full determinism\n",
    "    print(f\"Set random seed to {seed}\")\n",
    "\n"
   ]
  },
  {
   "cell_type": "code",
   "execution_count": 3,
   "id": "6d15d9f2",
   "metadata": {},
   "outputs": [],
   "source": [
    "\n",
    "# --- Dataset Definition (Identical to previous) ---\n",
    "class AgePredictionDataset(Dataset):\n",
    "    def __init__(self, npy_dir, csv_path, split_name):\n",
    "        self.npy_dir = Path(npy_dir)\n",
    "        csv_path = Path(csv_path)\n",
    "        self.split_name = split_name\n",
    "\n",
    "        # print(f\"\\n[Dataset: {self.split_name}] Loading from NPY dir: {self.npy_dir}\") # Less verbose during multi-runs\n",
    "        # print(f\"[Dataset: {self.split_name}] Loading metadata from CSV: {csv_path}\")\n",
    "\n",
    "        if not self.npy_dir.is_dir():\n",
    "            raise FileNotFoundError(f\"NPY directory not found: {self.npy_dir}\")\n",
    "        if not csv_path.is_file():\n",
    "            raise FileNotFoundError(f\"CSV file not found: {csv_path}\")\n",
    "\n",
    "        try:\n",
    "            df = pd.read_csv(csv_path)\n",
    "            self.meta_dict = df.set_index('filename')['age'].to_dict()\n",
    "            # print(f\"[Dataset: {self.split_name}] Loaded metadata for {len(self.meta_dict)} subjects from CSV.\")\n",
    "        except Exception as e:\n",
    "            raise ValueError(f\"Error loading or processing CSV {csv_path}: {e}\")\n",
    "\n",
    "        all_npy_files = list(self.npy_dir.glob(\"*.npy\"))\n",
    "        self.valid_files = []\n",
    "        missing_meta_count = 0\n",
    "        for npy_file in all_npy_files:\n",
    "            original_filename_key = npy_file.name[:-4]\n",
    "            if original_filename_key in self.meta_dict:\n",
    "                self.valid_files.append(npy_file)\n",
    "            else:\n",
    "                missing_meta_count += 1\n",
    "\n",
    "        # if missing_meta_count > 0:\n",
    "        #     print(f\"[Dataset: {self.split_name}] Warning: {missing_meta_count} .npy files did not have corresponding metadata.\")\n",
    "\n",
    "        if not self.valid_files:\n",
    "             raise RuntimeError(f\"No valid .npy files found in {self.npy_dir} that match the metadata.\")\n",
    "\n",
    "        # print(f\"[Dataset: {self.split_name}] Found {len(self.valid_files)} valid .npy files with metadata.\")\n",
    "\n",
    "    def __len__(self):\n",
    "        return len(self.valid_files)\n",
    "\n",
    "    def __getitem__(self, idx):\n",
    "        npy_path = self.valid_files[idx]\n",
    "        original_filename_key = npy_path.name[:-4]\n",
    "\n",
    "        try:\n",
    "            embedding = np.load(npy_path)\n",
    "            embedding_tensor = torch.tensor(embedding, dtype=torch.float32)\n",
    "\n",
    "            if embedding_tensor.shape == (1, 256, 64, 64):\n",
    "                 pooled_embedding = F.adaptive_avg_pool2d(embedding_tensor, (1, 1)).squeeze()\n",
    "            elif embedding_tensor.shape == (256, 64, 64):\n",
    "                 pooled_embedding = F.adaptive_avg_pool2d(embedding_tensor.unsqueeze(0), (1, 1)).squeeze()\n",
    "            elif embedding_tensor.shape == (256,):\n",
    "                 pooled_embedding = embedding_tensor\n",
    "            else:\n",
    "                 # print(f\"Warning: Unexpected embedding shape {embedding_tensor.shape} for {npy_path}. Trying to squeeze.\") # Less verbose\n",
    "                 pooled_embedding = embedding_tensor.squeeze()\n",
    "                 if pooled_embedding.ndim == 0 or pooled_embedding.shape[0] != 256:\n",
    "                      raise ValueError(f\"Embedding shape after squeeze is not 256 for {npy_path}: {pooled_embedding.shape}\")\n",
    "\n",
    "            age = self.meta_dict[original_filename_key]\n",
    "            age_tensor = torch.tensor(age, dtype=torch.float32)\n",
    "\n",
    "            return pooled_embedding, age_tensor\n",
    "\n",
    "        except Exception as e:\n",
    "            print(f\"Error loading or processing file {npy_path} for subject {original_filename_key}: {e}\")\n",
    "            raise RuntimeError(f\"Failed to load/process {npy_path}\") from e\n",
    "\n"
   ]
  },
  {
   "cell_type": "code",
   "execution_count": 4,
   "id": "0b4478c6",
   "metadata": {},
   "outputs": [],
   "source": [
    "\n",
    "# --- Model Definitions (Identical to previous) ---\n",
    "class AgeMLP_2Layer(nn.Module):\n",
    "    def __init__(self, input_dim=256, hidden_dim1=128, hidden_dim2=64, dropout_rate=DROPOUT_RATE):\n",
    "        super(AgeMLP_2Layer, self).__init__()\n",
    "        self.mlp = nn.Sequential(\n",
    "            nn.Linear(input_dim, hidden_dim1), nn.ReLU(), nn.Dropout(dropout_rate),\n",
    "            nn.Linear(hidden_dim1, hidden_dim2), nn.ReLU(), nn.Dropout(dropout_rate),\n",
    "            nn.Linear(hidden_dim2, 1)\n",
    "        )\n",
    "    def forward(self, x): return self.mlp(x).squeeze(-1)\n",
    "\n",
    "class AgeMLP_3Layer(nn.Module):\n",
    "    def __init__(self, input_dim=256, hidden_dim1=128, hidden_dim2=64, hidden_dim3=32, dropout_rate=DROPOUT_RATE):\n",
    "        super(AgeMLP_3Layer, self).__init__()\n",
    "        self.mlp = nn.Sequential(\n",
    "            nn.Linear(input_dim, hidden_dim1), nn.ReLU(), nn.Dropout(dropout_rate),\n",
    "            nn.Linear(hidden_dim1, hidden_dim2), nn.ReLU(), nn.Dropout(dropout_rate),\n",
    "            nn.Linear(hidden_dim2, hidden_dim3), nn.ReLU(), nn.Dropout(dropout_rate),\n",
    "            nn.Linear(hidden_dim3, 1)\n",
    "        )\n",
    "    def forward(self, x): return self.mlp(x).squeeze(-1)\n",
    "\n",
    "class AgeMLP_3Layer_AttentionBN(nn.Module):\n",
    "    def __init__(self, input_dim=256, embed_dim=256, num_heads=ATTENTION_HEADS,\n",
    "                 hidden_dim1=128, hidden_dim2=64, hidden_dim3=32, dropout_rate=DROPOUT_RATE):\n",
    "        super(AgeMLP_3Layer_AttentionBN, self).__init__()\n",
    "        if embed_dim % num_heads != 0: raise ValueError(f\"embed_dim ({embed_dim}) must be divisible by num_heads ({num_heads})\")\n",
    "        self.attention = nn.MultiheadAttention(embed_dim=embed_dim, num_heads=num_heads, batch_first=False)\n",
    "        self.norm_attn = nn.LayerNorm(embed_dim)\n",
    "        self.mlp = nn.Sequential(\n",
    "            nn.Linear(input_dim, hidden_dim1), nn.BatchNorm1d(hidden_dim1), nn.ReLU(), nn.Dropout(dropout_rate),\n",
    "            nn.Linear(hidden_dim1, hidden_dim2), nn.BatchNorm1d(hidden_dim2), nn.ReLU(), nn.Dropout(dropout_rate),\n",
    "            nn.Linear(hidden_dim2, hidden_dim3), nn.BatchNorm1d(hidden_dim3), nn.ReLU(), nn.Dropout(dropout_rate),\n",
    "            nn.Linear(hidden_dim3, 1)\n",
    "        )\n",
    "    def forward(self, x):\n",
    "        x_attn = x.unsqueeze(0); attn_output, _ = self.attention(x_attn, x_attn, x_attn)\n",
    "        x = self.norm_attn(x_attn + attn_output); x = x.squeeze(0)\n",
    "        output = self.mlp(x); return output.squeeze(-1)\n",
    "\n"
   ]
  },
  {
   "cell_type": "code",
   "execution_count": 5,
   "id": "f53b0bc6",
   "metadata": {},
   "outputs": [],
   "source": [
    "\n",
    "# --- Training and Evaluation Functions (Identical to previous) ---\n",
    "def train_one_epoch(model, loader, criterion, optimizer, device):\n",
    "    model.train(); total_loss = 0.0; num_samples = 0\n",
    "    pbar = tqdm(loader, desc=\"Training\", leave=False)\n",
    "    for features, ages in pbar:\n",
    "        features, ages = features.to(device), ages.to(device)\n",
    "        optimizer.zero_grad(); predictions = model(features)\n",
    "        loss = criterion(predictions, ages); loss.backward(); optimizer.step()\n",
    "        total_loss += loss.item() * features.size(0); num_samples += features.size(0)\n",
    "        pbar.set_postfix(loss=loss.item())\n",
    "    return total_loss / num_samples if num_samples > 0 else 0\n",
    "\n",
    "@torch.no_grad()\n",
    "def evaluate(model, loader, criterion, device):\n",
    "    model.eval(); total_loss = 0.0; total_mae = 0.0; num_samples = 0\n",
    "    pbar = tqdm(loader, desc=\"Evaluating\", leave=False)\n",
    "    for features, ages in pbar:\n",
    "        features, ages = features.to(device), ages.to(device)\n",
    "        predictions = model(features); loss = criterion(predictions, ages)\n",
    "        total_loss += loss.item() * features.size(0)\n",
    "        mae = F.l1_loss(predictions, ages, reduction='sum')\n",
    "        total_mae += mae.item(); num_samples += features.size(0)\n",
    "        pbar.set_postfix(loss=loss.item(), mae=(total_mae/num_samples if num_samples > 0 else 0))\n",
    "    avg_loss = total_loss / num_samples if num_samples > 0 else 0\n",
    "    avg_mae = total_mae / num_samples if num_samples > 0 else 0\n",
    "    return avg_loss, avg_mae\n",
    "\n",
    "# --- Modified Training and Evaluation Loop for Single Run ---\n",
    "def train_evaluate_single_run(model_class, model_name, run_number, loaders, device):\n",
    "    \"\"\"Trains and evaluates a model for a single run with a specific seed.\"\"\"\n",
    "    print(f\"\\n--- Starting Run {run_number+1}/{NUM_RUNS} for Model: {model_name} ---\")\n",
    "    current_seed = run_number # Use run number as seed for simplicity\n",
    "    set_seed(current_seed)\n",
    "\n",
    "    model_save_path = RESULTS_DIR / f\"best_model_{model_name}_run_{run_number}.pth\"\n",
    "\n",
    "    model = model_class().to(device)\n",
    "    criterion = nn.L1Loss()\n",
    "    optimizer = optim.Adam(model.parameters(), lr=LEARNING_RATE, weight_decay=WEIGHT_DECAY)\n",
    "    scheduler_patience_epochs = max(1, int(EPOCHS * SCHEDULER_PATIENCE_PERCENT))\n",
    "    scheduler = optim.lr_scheduler.ReduceLROnPlateau(optimizer, 'min', patience=scheduler_patience_epochs, factor=0.5, verbose=False) # Less verbose scheduler\n",
    "\n",
    "    best_val_mae = float('inf')\n",
    "    epochs_no_improve = 0\n",
    "    best_epoch = -1\n",
    "    train_start_time = time.time()\n",
    "\n",
    "    # print(f\"Model save path: {model_save_path}\") # Less verbose\n",
    "\n",
    "    for epoch in range(EPOCHS):\n",
    "        # epoch_start_time = time.time() # Less verbose\n",
    "        train_loss = train_one_epoch(model, loaders['train'], criterion, optimizer, device)\n",
    "        val_loss, val_mae = evaluate(model, loaders['validation'], criterion, device)\n",
    "        # epoch_duration = time.time() - epoch_start_time # Less verbose\n",
    "\n",
    "        # Less verbose epoch print\n",
    "        if (epoch + 1) % 10 == 0 or epoch == 0 or epoch == EPOCHS -1 : # Print every 10 epochs + first/last\n",
    "             print(f\"  Epoch {epoch+1}/{EPOCHS} | Train Loss: {train_loss:.4f} | Val Loss: {val_loss:.4f} | Val MAE: {val_mae:.3f}\")\n",
    "\n",
    "        scheduler.step(val_loss)\n",
    "\n",
    "        if val_mae < best_val_mae:\n",
    "            best_val_mae = val_mae\n",
    "            best_epoch = epoch + 1\n",
    "            epochs_no_improve = 0\n",
    "            try:\n",
    "                torch.save(model.state_dict(), model_save_path)\n",
    "                # print(f\"  -> New best Val MAE: {best_val_mae:.3f}. Saved model.\") # Less verbose\n",
    "            except Exception as e:\n",
    "                 print(f\"  -> Error saving model: {e}\")\n",
    "        else:\n",
    "            epochs_no_improve += 1\n",
    "\n",
    "        if epochs_no_improve >= EARLY_STOPPING_PATIENCE:\n",
    "            print(f\"  Early stopping triggered at epoch {epoch+1}.\")\n",
    "            break\n",
    "\n",
    "        # Optional: Clean up GPU memory periodically\n",
    "        if (epoch + 1) % 50 == 0: # Less frequent cleanup\n",
    "             gc.collect()\n",
    "             if device.startswith('cuda'):\n",
    "                 torch.cuda.empty_cache()\n",
    "\n",
    "    train_duration = time.time() - train_start_time\n",
    "    print(f\"--- Run {run_number+1} Finished for {model_name} (Time: {train_duration:.2f}s) ---\")\n",
    "\n",
    "    final_test_mae = None\n",
    "    if best_epoch != -1:\n",
    "         print(f\"  Best Validation MAE: {best_val_mae:.3f} at epoch {best_epoch}\")\n",
    "         # --- Evaluate on Test Set ---\n",
    "         # print(f\"  Evaluating Best Model on Test Set...\") # Less verbose\n",
    "         try:\n",
    "             model.load_state_dict(torch.load(model_save_path, map_location=device))\n",
    "             test_loss, test_mae = evaluate(model, loaders['test'], criterion, device)\n",
    "             print(f\"  Test MAE for Run {run_number+1}: {test_mae:.3f}\")\n",
    "             final_test_mae = test_mae\n",
    "         except FileNotFoundError:\n",
    "             print(f\"  Error: Best model file not found at {model_save_path}. Skipping test evaluation.\")\n",
    "         except Exception as e:\n",
    "             print(f\"  Error during test set evaluation: {e}\")\n",
    "    else:\n",
    "         print(\"  No improvement found during training. Model not saved. Skipping test evaluation.\")\n",
    "\n",
    "    # Clean up model and memory\n",
    "    del model\n",
    "    gc.collect()\n",
    "    if device.startswith('cuda'):\n",
    "        torch.cuda.empty_cache()\n",
    "\n",
    "    return best_val_mae, final_test_mae\n",
    "\n"
   ]
  },
  {
   "cell_type": "code",
   "execution_count": 7,
   "id": "c9766426",
   "metadata": {},
   "outputs": [
    {
     "name": "stdout",
     "output_type": "stream",
     "text": [
      "\n",
      "--- Setting up Datasets and DataLoaders ---\n",
      "--- Datasets and DataLoaders Ready ---\n",
      "\n",
      "========================= Testing Model: MLP_2Layer (5 runs) =========================\n",
      "\n",
      "--- Starting Run 1/5 for Model: MLP_2Layer ---\n",
      "Set random seed to 0\n"
     ]
    },
    {
     "name": "stderr",
     "output_type": "stream",
     "text": [
      "                                                                              \r"
     ]
    },
    {
     "name": "stdout",
     "output_type": "stream",
     "text": [
      "  Epoch 1/500 | Train Loss: 54.1984 | Val Loss: 53.3151 | Val MAE: 53.315\n"
     ]
    },
    {
     "name": "stderr",
     "output_type": "stream",
     "text": [
      "                                                                              \r"
     ]
    },
    {
     "name": "stdout",
     "output_type": "stream",
     "text": [
      "  Epoch 10/500 | Train Loss: 19.3070 | Val Loss: 18.0109 | Val MAE: 18.011\n"
     ]
    },
    {
     "name": "stderr",
     "output_type": "stream",
     "text": [
      "                                                                              \r"
     ]
    },
    {
     "name": "stdout",
     "output_type": "stream",
     "text": [
      "  Epoch 20/500 | Train Loss: 18.8666 | Val Loss: 17.4821 | Val MAE: 17.482\n"
     ]
    },
    {
     "name": "stderr",
     "output_type": "stream",
     "text": [
      "                                                                              \r"
     ]
    },
    {
     "name": "stdout",
     "output_type": "stream",
     "text": [
      "  Epoch 30/500 | Train Loss: 18.2698 | Val Loss: 16.9208 | Val MAE: 16.921\n"
     ]
    },
    {
     "name": "stderr",
     "output_type": "stream",
     "text": [
      "                                                                              \r"
     ]
    },
    {
     "name": "stdout",
     "output_type": "stream",
     "text": [
      "  Epoch 40/500 | Train Loss: 17.4417 | Val Loss: 16.2331 | Val MAE: 16.233\n"
     ]
    },
    {
     "name": "stderr",
     "output_type": "stream",
     "text": [
      "                                                                              \r"
     ]
    },
    {
     "name": "stdout",
     "output_type": "stream",
     "text": [
      "  Epoch 50/500 | Train Loss: 16.5938 | Val Loss: 15.4270 | Val MAE: 15.427\n"
     ]
    },
    {
     "name": "stderr",
     "output_type": "stream",
     "text": [
      "                                                                              \r"
     ]
    },
    {
     "name": "stdout",
     "output_type": "stream",
     "text": [
      "  Epoch 60/500 | Train Loss: 15.7160 | Val Loss: 14.5024 | Val MAE: 14.502\n"
     ]
    },
    {
     "name": "stderr",
     "output_type": "stream",
     "text": [
      "                                                                              \r"
     ]
    },
    {
     "name": "stdout",
     "output_type": "stream",
     "text": [
      "  Epoch 70/500 | Train Loss: 14.6900 | Val Loss: 13.4997 | Val MAE: 13.500\n"
     ]
    },
    {
     "name": "stderr",
     "output_type": "stream",
     "text": [
      "                                                                              \r"
     ]
    },
    {
     "name": "stdout",
     "output_type": "stream",
     "text": [
      "  Epoch 80/500 | Train Loss: 14.0254 | Val Loss: 12.7253 | Val MAE: 12.725\n"
     ]
    },
    {
     "name": "stderr",
     "output_type": "stream",
     "text": [
      "                                                                              \r"
     ]
    },
    {
     "name": "stdout",
     "output_type": "stream",
     "text": [
      "  Epoch 90/500 | Train Loss: 13.3930 | Val Loss: 12.1774 | Val MAE: 12.177\n"
     ]
    },
    {
     "name": "stderr",
     "output_type": "stream",
     "text": [
      "                                                                              \r"
     ]
    },
    {
     "name": "stdout",
     "output_type": "stream",
     "text": [
      "  Epoch 100/500 | Train Loss: 13.0552 | Val Loss: 11.8052 | Val MAE: 11.805\n"
     ]
    },
    {
     "name": "stderr",
     "output_type": "stream",
     "text": [
      "                                                                              \r"
     ]
    },
    {
     "name": "stdout",
     "output_type": "stream",
     "text": [
      "  Epoch 110/500 | Train Loss: 12.8540 | Val Loss: 11.5189 | Val MAE: 11.519\n"
     ]
    },
    {
     "name": "stderr",
     "output_type": "stream",
     "text": [
      "                                                                              \r"
     ]
    },
    {
     "name": "stdout",
     "output_type": "stream",
     "text": [
      "  Epoch 120/500 | Train Loss: 12.7769 | Val Loss: 11.3104 | Val MAE: 11.310\n"
     ]
    },
    {
     "name": "stderr",
     "output_type": "stream",
     "text": [
      "                                                                              \r"
     ]
    },
    {
     "name": "stdout",
     "output_type": "stream",
     "text": [
      "  Epoch 130/500 | Train Loss: 12.6419 | Val Loss: 11.1046 | Val MAE: 11.105\n"
     ]
    },
    {
     "name": "stderr",
     "output_type": "stream",
     "text": [
      "                                                                              \r"
     ]
    },
    {
     "name": "stdout",
     "output_type": "stream",
     "text": [
      "  Epoch 140/500 | Train Loss: 12.3729 | Val Loss: 10.8208 | Val MAE: 10.821\n"
     ]
    },
    {
     "name": "stderr",
     "output_type": "stream",
     "text": [
      "                                                                              \r"
     ]
    },
    {
     "name": "stdout",
     "output_type": "stream",
     "text": [
      "  Epoch 150/500 | Train Loss: 12.3239 | Val Loss: 10.6314 | Val MAE: 10.631\n"
     ]
    },
    {
     "name": "stderr",
     "output_type": "stream",
     "text": [
      "                                                                              \r"
     ]
    },
    {
     "name": "stdout",
     "output_type": "stream",
     "text": [
      "  Epoch 160/500 | Train Loss: 12.0876 | Val Loss: 10.4053 | Val MAE: 10.405\n"
     ]
    },
    {
     "name": "stderr",
     "output_type": "stream",
     "text": [
      "                                                                              \r"
     ]
    },
    {
     "name": "stdout",
     "output_type": "stream",
     "text": [
      "  Epoch 170/500 | Train Loss: 12.0898 | Val Loss: 10.2112 | Val MAE: 10.211\n"
     ]
    },
    {
     "name": "stderr",
     "output_type": "stream",
     "text": [
      "                                                                              \r"
     ]
    },
    {
     "name": "stdout",
     "output_type": "stream",
     "text": [
      "  Epoch 180/500 | Train Loss: 11.8777 | Val Loss: 10.0683 | Val MAE: 10.068\n"
     ]
    },
    {
     "name": "stderr",
     "output_type": "stream",
     "text": [
      "                                                                              \r"
     ]
    },
    {
     "name": "stdout",
     "output_type": "stream",
     "text": [
      "  Epoch 190/500 | Train Loss: 11.8553 | Val Loss: 9.9235 | Val MAE: 9.924\n"
     ]
    },
    {
     "name": "stderr",
     "output_type": "stream",
     "text": [
      "                                                                              \r"
     ]
    },
    {
     "name": "stdout",
     "output_type": "stream",
     "text": [
      "  Epoch 200/500 | Train Loss: 11.4754 | Val Loss: 9.8033 | Val MAE: 9.803\n"
     ]
    },
    {
     "name": "stderr",
     "output_type": "stream",
     "text": [
      "                                                                              \r"
     ]
    },
    {
     "name": "stdout",
     "output_type": "stream",
     "text": [
      "  Epoch 210/500 | Train Loss: 11.4775 | Val Loss: 9.6941 | Val MAE: 9.694\n"
     ]
    },
    {
     "name": "stderr",
     "output_type": "stream",
     "text": [
      "                                                                              \r"
     ]
    },
    {
     "name": "stdout",
     "output_type": "stream",
     "text": [
      "  Epoch 220/500 | Train Loss: 11.4576 | Val Loss: 9.5895 | Val MAE: 9.590\n"
     ]
    },
    {
     "name": "stderr",
     "output_type": "stream",
     "text": [
      "                                                                              \r"
     ]
    },
    {
     "name": "stdout",
     "output_type": "stream",
     "text": [
      "  Epoch 230/500 | Train Loss: 11.3727 | Val Loss: 9.5421 | Val MAE: 9.542\n"
     ]
    },
    {
     "name": "stderr",
     "output_type": "stream",
     "text": [
      "                                                                              \r"
     ]
    },
    {
     "name": "stdout",
     "output_type": "stream",
     "text": [
      "  Epoch 240/500 | Train Loss: 11.0127 | Val Loss: 9.4540 | Val MAE: 9.454\n"
     ]
    },
    {
     "name": "stderr",
     "output_type": "stream",
     "text": [
      "                                                                              \r"
     ]
    },
    {
     "name": "stdout",
     "output_type": "stream",
     "text": [
      "  Epoch 250/500 | Train Loss: 11.0975 | Val Loss: 9.3523 | Val MAE: 9.352\n"
     ]
    },
    {
     "name": "stderr",
     "output_type": "stream",
     "text": [
      "                                                                              \r"
     ]
    },
    {
     "name": "stdout",
     "output_type": "stream",
     "text": [
      "  Epoch 260/500 | Train Loss: 11.2843 | Val Loss: 9.2481 | Val MAE: 9.248\n"
     ]
    },
    {
     "name": "stderr",
     "output_type": "stream",
     "text": [
      "                                                                              \r"
     ]
    },
    {
     "name": "stdout",
     "output_type": "stream",
     "text": [
      "  Epoch 270/500 | Train Loss: 11.1571 | Val Loss: 9.2207 | Val MAE: 9.221\n"
     ]
    },
    {
     "name": "stderr",
     "output_type": "stream",
     "text": [
      "                                                                              \r"
     ]
    },
    {
     "name": "stdout",
     "output_type": "stream",
     "text": [
      "  Epoch 280/500 | Train Loss: 11.0553 | Val Loss: 9.1568 | Val MAE: 9.157\n"
     ]
    },
    {
     "name": "stderr",
     "output_type": "stream",
     "text": [
      "                                                                              \r"
     ]
    },
    {
     "name": "stdout",
     "output_type": "stream",
     "text": [
      "  Epoch 290/500 | Train Loss: 11.0451 | Val Loss: 9.0728 | Val MAE: 9.073\n"
     ]
    },
    {
     "name": "stderr",
     "output_type": "stream",
     "text": [
      "                                                                              \r"
     ]
    },
    {
     "name": "stdout",
     "output_type": "stream",
     "text": [
      "  Epoch 300/500 | Train Loss: 10.9283 | Val Loss: 9.0571 | Val MAE: 9.057\n"
     ]
    },
    {
     "name": "stderr",
     "output_type": "stream",
     "text": [
      "                                                                              \r"
     ]
    },
    {
     "name": "stdout",
     "output_type": "stream",
     "text": [
      "  Epoch 310/500 | Train Loss: 10.8229 | Val Loss: 8.9585 | Val MAE: 8.959\n"
     ]
    },
    {
     "name": "stderr",
     "output_type": "stream",
     "text": [
      "                                                                              \r"
     ]
    },
    {
     "name": "stdout",
     "output_type": "stream",
     "text": [
      "  Epoch 320/500 | Train Loss: 10.8135 | Val Loss: 8.9584 | Val MAE: 8.958\n"
     ]
    },
    {
     "name": "stderr",
     "output_type": "stream",
     "text": [
      "                                                                              \r"
     ]
    },
    {
     "name": "stdout",
     "output_type": "stream",
     "text": [
      "  Epoch 330/500 | Train Loss: 10.7721 | Val Loss: 8.8798 | Val MAE: 8.880\n"
     ]
    },
    {
     "name": "stderr",
     "output_type": "stream",
     "text": [
      "                                                                              \r"
     ]
    },
    {
     "name": "stdout",
     "output_type": "stream",
     "text": [
      "  Epoch 340/500 | Train Loss: 10.9004 | Val Loss: 8.8391 | Val MAE: 8.839\n"
     ]
    },
    {
     "name": "stderr",
     "output_type": "stream",
     "text": [
      "                                                                              \r"
     ]
    },
    {
     "name": "stdout",
     "output_type": "stream",
     "text": [
      "  Epoch 350/500 | Train Loss: 10.9312 | Val Loss: 8.8217 | Val MAE: 8.822\n"
     ]
    },
    {
     "name": "stderr",
     "output_type": "stream",
     "text": [
      "                                                                              \r"
     ]
    },
    {
     "name": "stdout",
     "output_type": "stream",
     "text": [
      "  Epoch 360/500 | Train Loss: 10.5988 | Val Loss: 8.7771 | Val MAE: 8.777\n"
     ]
    },
    {
     "name": "stderr",
     "output_type": "stream",
     "text": [
      "                                                                              \r"
     ]
    },
    {
     "name": "stdout",
     "output_type": "stream",
     "text": [
      "  Epoch 370/500 | Train Loss: 10.6348 | Val Loss: 8.7190 | Val MAE: 8.719\n"
     ]
    },
    {
     "name": "stderr",
     "output_type": "stream",
     "text": [
      "                                                                              \r"
     ]
    },
    {
     "name": "stdout",
     "output_type": "stream",
     "text": [
      "  Epoch 380/500 | Train Loss: 10.5281 | Val Loss: 8.6885 | Val MAE: 8.688\n"
     ]
    },
    {
     "name": "stderr",
     "output_type": "stream",
     "text": [
      "                                                                              \r"
     ]
    },
    {
     "name": "stdout",
     "output_type": "stream",
     "text": [
      "  Epoch 390/500 | Train Loss: 10.5801 | Val Loss: 8.6678 | Val MAE: 8.668\n"
     ]
    },
    {
     "name": "stderr",
     "output_type": "stream",
     "text": [
      "                                                                              \r"
     ]
    },
    {
     "name": "stdout",
     "output_type": "stream",
     "text": [
      "  Epoch 400/500 | Train Loss: 10.6317 | Val Loss: 8.6301 | Val MAE: 8.630\n"
     ]
    },
    {
     "name": "stderr",
     "output_type": "stream",
     "text": [
      "                                                                              \r"
     ]
    },
    {
     "name": "stdout",
     "output_type": "stream",
     "text": [
      "  Epoch 410/500 | Train Loss: 10.5023 | Val Loss: 8.5862 | Val MAE: 8.586\n"
     ]
    },
    {
     "name": "stderr",
     "output_type": "stream",
     "text": [
      "                                                                              \r"
     ]
    },
    {
     "name": "stdout",
     "output_type": "stream",
     "text": [
      "  Epoch 420/500 | Train Loss: 10.4891 | Val Loss: 8.6264 | Val MAE: 8.626\n"
     ]
    },
    {
     "name": "stderr",
     "output_type": "stream",
     "text": [
      "                                                                              \r"
     ]
    },
    {
     "name": "stdout",
     "output_type": "stream",
     "text": [
      "  Epoch 430/500 | Train Loss: 10.4914 | Val Loss: 8.5493 | Val MAE: 8.549\n"
     ]
    },
    {
     "name": "stderr",
     "output_type": "stream",
     "text": [
      "                                                                              \r"
     ]
    },
    {
     "name": "stdout",
     "output_type": "stream",
     "text": [
      "  Epoch 440/500 | Train Loss: 10.1410 | Val Loss: 8.5042 | Val MAE: 8.504\n"
     ]
    },
    {
     "name": "stderr",
     "output_type": "stream",
     "text": [
      "                                                                              \r"
     ]
    },
    {
     "name": "stdout",
     "output_type": "stream",
     "text": [
      "  Epoch 450/500 | Train Loss: 10.4051 | Val Loss: 8.4820 | Val MAE: 8.482\n"
     ]
    },
    {
     "name": "stderr",
     "output_type": "stream",
     "text": [
      "                                                                              \r"
     ]
    },
    {
     "name": "stdout",
     "output_type": "stream",
     "text": [
      "  Epoch 460/500 | Train Loss: 10.3582 | Val Loss: 8.4600 | Val MAE: 8.460\n"
     ]
    },
    {
     "name": "stderr",
     "output_type": "stream",
     "text": [
      "                                                                              \r"
     ]
    },
    {
     "name": "stdout",
     "output_type": "stream",
     "text": [
      "  Epoch 470/500 | Train Loss: 10.3274 | Val Loss: 8.4361 | Val MAE: 8.436\n"
     ]
    },
    {
     "name": "stderr",
     "output_type": "stream",
     "text": [
      "                                                                              \r"
     ]
    },
    {
     "name": "stdout",
     "output_type": "stream",
     "text": [
      "  Epoch 480/500 | Train Loss: 10.3516 | Val Loss: 8.4239 | Val MAE: 8.424\n"
     ]
    },
    {
     "name": "stderr",
     "output_type": "stream",
     "text": [
      "                                                                              \r"
     ]
    },
    {
     "name": "stdout",
     "output_type": "stream",
     "text": [
      "  Epoch 490/500 | Train Loss: 10.4238 | Val Loss: 8.3933 | Val MAE: 8.393\n"
     ]
    },
    {
     "name": "stderr",
     "output_type": "stream",
     "text": [
      "                                                                              \r"
     ]
    },
    {
     "name": "stdout",
     "output_type": "stream",
     "text": [
      "  Epoch 500/500 | Train Loss: 10.2795 | Val Loss: 8.3632 | Val MAE: 8.363\n",
      "--- Run 1 Finished for MLP_2Layer (Time: 687.09s) ---\n",
      "  Best Validation MAE: 8.363 at epoch 500\n"
     ]
    },
    {
     "name": "stderr",
     "output_type": "stream",
     "text": [
      "                                                                               \r"
     ]
    },
    {
     "name": "stdout",
     "output_type": "stream",
     "text": [
      "  Test MAE for Run 1: 9.099\n",
      "\n",
      "--- Starting Run 2/5 for Model: MLP_2Layer ---\n",
      "Set random seed to 1\n"
     ]
    },
    {
     "name": "stderr",
     "output_type": "stream",
     "text": [
      "                                                                              \r"
     ]
    },
    {
     "name": "stdout",
     "output_type": "stream",
     "text": [
      "  Epoch 1/500 | Train Loss: 54.2977 | Val Loss: 53.4398 | Val MAE: 53.440\n"
     ]
    },
    {
     "name": "stderr",
     "output_type": "stream",
     "text": [
      "                                                                              \r"
     ]
    },
    {
     "name": "stdout",
     "output_type": "stream",
     "text": [
      "  Epoch 10/500 | Train Loss: 19.3843 | Val Loss: 18.0459 | Val MAE: 18.046\n"
     ]
    },
    {
     "name": "stderr",
     "output_type": "stream",
     "text": [
      "                                                                              \r"
     ]
    },
    {
     "name": "stdout",
     "output_type": "stream",
     "text": [
      "  Epoch 20/500 | Train Loss: 18.6822 | Val Loss: 17.4191 | Val MAE: 17.419\n"
     ]
    },
    {
     "name": "stderr",
     "output_type": "stream",
     "text": [
      "                                                                              \r"
     ]
    },
    {
     "name": "stdout",
     "output_type": "stream",
     "text": [
      "  Epoch 30/500 | Train Loss: 18.1388 | Val Loss: 16.6082 | Val MAE: 16.608\n"
     ]
    },
    {
     "name": "stderr",
     "output_type": "stream",
     "text": [
      "                                                                              \r"
     ]
    },
    {
     "name": "stdout",
     "output_type": "stream",
     "text": [
      "  Epoch 40/500 | Train Loss: 16.9802 | Val Loss: 15.6025 | Val MAE: 15.603\n"
     ]
    },
    {
     "name": "stderr",
     "output_type": "stream",
     "text": [
      "                                                                              \r"
     ]
    },
    {
     "name": "stdout",
     "output_type": "stream",
     "text": [
      "  Epoch 50/500 | Train Loss: 15.8246 | Val Loss: 14.5526 | Val MAE: 14.553\n"
     ]
    },
    {
     "name": "stderr",
     "output_type": "stream",
     "text": [
      "                                                                              \r"
     ]
    },
    {
     "name": "stdout",
     "output_type": "stream",
     "text": [
      "  Epoch 60/500 | Train Loss: 14.8363 | Val Loss: 13.5051 | Val MAE: 13.505\n"
     ]
    },
    {
     "name": "stderr",
     "output_type": "stream",
     "text": [
      "                                                                              \r"
     ]
    },
    {
     "name": "stdout",
     "output_type": "stream",
     "text": [
      "  Epoch 70/500 | Train Loss: 14.1609 | Val Loss: 12.6186 | Val MAE: 12.619\n"
     ]
    },
    {
     "name": "stderr",
     "output_type": "stream",
     "text": [
      "                                                                              \r"
     ]
    },
    {
     "name": "stdout",
     "output_type": "stream",
     "text": [
      "  Epoch 80/500 | Train Loss: 13.6435 | Val Loss: 12.1459 | Val MAE: 12.146\n"
     ]
    },
    {
     "name": "stderr",
     "output_type": "stream",
     "text": [
      "                                                                              \r"
     ]
    },
    {
     "name": "stdout",
     "output_type": "stream",
     "text": [
      "  Epoch 90/500 | Train Loss: 13.1880 | Val Loss: 11.7699 | Val MAE: 11.770\n"
     ]
    },
    {
     "name": "stderr",
     "output_type": "stream",
     "text": [
      "                                                                              \r"
     ]
    },
    {
     "name": "stdout",
     "output_type": "stream",
     "text": [
      "  Epoch 100/500 | Train Loss: 12.9011 | Val Loss: 11.4307 | Val MAE: 11.431\n"
     ]
    },
    {
     "name": "stderr",
     "output_type": "stream",
     "text": [
      "                                                                              \r"
     ]
    },
    {
     "name": "stdout",
     "output_type": "stream",
     "text": [
      "  Epoch 110/500 | Train Loss: 12.6677 | Val Loss: 11.2248 | Val MAE: 11.225\n"
     ]
    },
    {
     "name": "stderr",
     "output_type": "stream",
     "text": [
      "                                                                              \r"
     ]
    },
    {
     "name": "stdout",
     "output_type": "stream",
     "text": [
      "  Epoch 120/500 | Train Loss: 12.7174 | Val Loss: 10.9456 | Val MAE: 10.946\n"
     ]
    },
    {
     "name": "stderr",
     "output_type": "stream",
     "text": [
      "                                                                              \r"
     ]
    },
    {
     "name": "stdout",
     "output_type": "stream",
     "text": [
      "  Epoch 130/500 | Train Loss: 12.3954 | Val Loss: 10.7432 | Val MAE: 10.743\n"
     ]
    },
    {
     "name": "stderr",
     "output_type": "stream",
     "text": [
      "                                                                              \r"
     ]
    },
    {
     "name": "stdout",
     "output_type": "stream",
     "text": [
      "  Epoch 140/500 | Train Loss: 12.0744 | Val Loss: 10.5306 | Val MAE: 10.531\n"
     ]
    },
    {
     "name": "stderr",
     "output_type": "stream",
     "text": [
      "                                                                              \r"
     ]
    },
    {
     "name": "stdout",
     "output_type": "stream",
     "text": [
      "  Epoch 150/500 | Train Loss: 12.0956 | Val Loss: 10.2900 | Val MAE: 10.290\n"
     ]
    },
    {
     "name": "stderr",
     "output_type": "stream",
     "text": [
      "                                                                              \r"
     ]
    },
    {
     "name": "stdout",
     "output_type": "stream",
     "text": [
      "  Epoch 160/500 | Train Loss: 12.0348 | Val Loss: 10.1316 | Val MAE: 10.132\n"
     ]
    },
    {
     "name": "stderr",
     "output_type": "stream",
     "text": [
      "                                                                              \r"
     ]
    },
    {
     "name": "stdout",
     "output_type": "stream",
     "text": [
      "  Epoch 170/500 | Train Loss: 11.6988 | Val Loss: 9.9533 | Val MAE: 9.953\n"
     ]
    },
    {
     "name": "stderr",
     "output_type": "stream",
     "text": [
      "                                                                              \r"
     ]
    },
    {
     "name": "stdout",
     "output_type": "stream",
     "text": [
      "  Epoch 180/500 | Train Loss: 11.5575 | Val Loss: 9.8052 | Val MAE: 9.805\n"
     ]
    },
    {
     "name": "stderr",
     "output_type": "stream",
     "text": [
      "                                                                              \r"
     ]
    },
    {
     "name": "stdout",
     "output_type": "stream",
     "text": [
      "  Epoch 190/500 | Train Loss: 11.3543 | Val Loss: 9.6632 | Val MAE: 9.663\n"
     ]
    },
    {
     "name": "stderr",
     "output_type": "stream",
     "text": [
      "                                                                              \r"
     ]
    },
    {
     "name": "stdout",
     "output_type": "stream",
     "text": [
      "  Epoch 200/500 | Train Loss: 11.5752 | Val Loss: 9.5568 | Val MAE: 9.557\n"
     ]
    },
    {
     "name": "stderr",
     "output_type": "stream",
     "text": [
      "                                                                              \r"
     ]
    },
    {
     "name": "stdout",
     "output_type": "stream",
     "text": [
      "  Epoch 210/500 | Train Loss: 11.0999 | Val Loss: 9.5023 | Val MAE: 9.502\n"
     ]
    },
    {
     "name": "stderr",
     "output_type": "stream",
     "text": [
      "                                                                              \r"
     ]
    },
    {
     "name": "stdout",
     "output_type": "stream",
     "text": [
      "  Epoch 220/500 | Train Loss: 11.1324 | Val Loss: 9.3640 | Val MAE: 9.364\n"
     ]
    },
    {
     "name": "stderr",
     "output_type": "stream",
     "text": [
      "                                                                              \r"
     ]
    },
    {
     "name": "stdout",
     "output_type": "stream",
     "text": [
      "  Epoch 230/500 | Train Loss: 10.9914 | Val Loss: 9.3030 | Val MAE: 9.303\n"
     ]
    },
    {
     "name": "stderr",
     "output_type": "stream",
     "text": [
      "                                                                              \r"
     ]
    },
    {
     "name": "stdout",
     "output_type": "stream",
     "text": [
      "  Epoch 240/500 | Train Loss: 11.2762 | Val Loss: 9.3088 | Val MAE: 9.309\n"
     ]
    },
    {
     "name": "stderr",
     "output_type": "stream",
     "text": [
      "                                                                              \r"
     ]
    },
    {
     "name": "stdout",
     "output_type": "stream",
     "text": [
      "  Epoch 250/500 | Train Loss: 11.1651 | Val Loss: 9.1753 | Val MAE: 9.175\n"
     ]
    },
    {
     "name": "stderr",
     "output_type": "stream",
     "text": [
      "                                                                              \r"
     ]
    },
    {
     "name": "stdout",
     "output_type": "stream",
     "text": [
      "  Epoch 260/500 | Train Loss: 10.8318 | Val Loss: 9.1661 | Val MAE: 9.166\n"
     ]
    },
    {
     "name": "stderr",
     "output_type": "stream",
     "text": [
      "                                                                              \r"
     ]
    },
    {
     "name": "stdout",
     "output_type": "stream",
     "text": [
      "  Epoch 270/500 | Train Loss: 10.7004 | Val Loss: 9.0134 | Val MAE: 9.013\n"
     ]
    },
    {
     "name": "stderr",
     "output_type": "stream",
     "text": [
      "                                                                              \r"
     ]
    },
    {
     "name": "stdout",
     "output_type": "stream",
     "text": [
      "  Epoch 280/500 | Train Loss: 10.7306 | Val Loss: 8.9943 | Val MAE: 8.994\n"
     ]
    },
    {
     "name": "stderr",
     "output_type": "stream",
     "text": [
      "                                                                              \r"
     ]
    },
    {
     "name": "stdout",
     "output_type": "stream",
     "text": [
      "  Epoch 290/500 | Train Loss: 10.9597 | Val Loss: 8.9369 | Val MAE: 8.937\n"
     ]
    },
    {
     "name": "stderr",
     "output_type": "stream",
     "text": [
      "                                                                              \r"
     ]
    },
    {
     "name": "stdout",
     "output_type": "stream",
     "text": [
      "  Epoch 300/500 | Train Loss: 10.6599 | Val Loss: 8.9007 | Val MAE: 8.901\n"
     ]
    },
    {
     "name": "stderr",
     "output_type": "stream",
     "text": [
      "                                                                              \r"
     ]
    },
    {
     "name": "stdout",
     "output_type": "stream",
     "text": [
      "  Epoch 310/500 | Train Loss: 10.6997 | Val Loss: 8.8554 | Val MAE: 8.855\n"
     ]
    },
    {
     "name": "stderr",
     "output_type": "stream",
     "text": [
      "                                                                              \r"
     ]
    },
    {
     "name": "stdout",
     "output_type": "stream",
     "text": [
      "  Epoch 320/500 | Train Loss: 10.5915 | Val Loss: 8.8164 | Val MAE: 8.816\n"
     ]
    },
    {
     "name": "stderr",
     "output_type": "stream",
     "text": [
      "                                                                              \r"
     ]
    },
    {
     "name": "stdout",
     "output_type": "stream",
     "text": [
      "  Epoch 330/500 | Train Loss: 10.4958 | Val Loss: 8.7120 | Val MAE: 8.712\n"
     ]
    },
    {
     "name": "stderr",
     "output_type": "stream",
     "text": [
      "                                                                              \r"
     ]
    },
    {
     "name": "stdout",
     "output_type": "stream",
     "text": [
      "  Epoch 340/500 | Train Loss: 10.6517 | Val Loss: 8.6672 | Val MAE: 8.667\n"
     ]
    },
    {
     "name": "stderr",
     "output_type": "stream",
     "text": [
      "                                                                              \r"
     ]
    },
    {
     "name": "stdout",
     "output_type": "stream",
     "text": [
      "  Epoch 350/500 | Train Loss: 10.4832 | Val Loss: 8.6268 | Val MAE: 8.627\n"
     ]
    },
    {
     "name": "stderr",
     "output_type": "stream",
     "text": [
      "                                                                              \r"
     ]
    },
    {
     "name": "stdout",
     "output_type": "stream",
     "text": [
      "  Epoch 360/500 | Train Loss: 10.4971 | Val Loss: 8.5983 | Val MAE: 8.598\n"
     ]
    },
    {
     "name": "stderr",
     "output_type": "stream",
     "text": [
      "                                                                              \r"
     ]
    },
    {
     "name": "stdout",
     "output_type": "stream",
     "text": [
      "  Epoch 370/500 | Train Loss: 10.2951 | Val Loss: 8.5588 | Val MAE: 8.559\n"
     ]
    },
    {
     "name": "stderr",
     "output_type": "stream",
     "text": [
      "                                                                              \r"
     ]
    },
    {
     "name": "stdout",
     "output_type": "stream",
     "text": [
      "  Epoch 380/500 | Train Loss: 10.3511 | Val Loss: 8.5201 | Val MAE: 8.520\n"
     ]
    },
    {
     "name": "stderr",
     "output_type": "stream",
     "text": [
      "                                                                              \r"
     ]
    },
    {
     "name": "stdout",
     "output_type": "stream",
     "text": [
      "  Epoch 390/500 | Train Loss: 10.5053 | Val Loss: 8.4977 | Val MAE: 8.498\n"
     ]
    },
    {
     "name": "stderr",
     "output_type": "stream",
     "text": [
      "                                                                              \r"
     ]
    },
    {
     "name": "stdout",
     "output_type": "stream",
     "text": [
      "  Epoch 400/500 | Train Loss: 10.4755 | Val Loss: 8.4526 | Val MAE: 8.453\n"
     ]
    },
    {
     "name": "stderr",
     "output_type": "stream",
     "text": [
      "                                                                              \r"
     ]
    },
    {
     "name": "stdout",
     "output_type": "stream",
     "text": [
      "  Epoch 410/500 | Train Loss: 10.3219 | Val Loss: 8.4669 | Val MAE: 8.467\n"
     ]
    },
    {
     "name": "stderr",
     "output_type": "stream",
     "text": [
      "                                                                              \r"
     ]
    },
    {
     "name": "stdout",
     "output_type": "stream",
     "text": [
      "  Epoch 420/500 | Train Loss: 10.2027 | Val Loss: 8.4242 | Val MAE: 8.424\n"
     ]
    },
    {
     "name": "stderr",
     "output_type": "stream",
     "text": [
      "                                                                              \r"
     ]
    },
    {
     "name": "stdout",
     "output_type": "stream",
     "text": [
      "  Epoch 430/500 | Train Loss: 10.3031 | Val Loss: 8.3856 | Val MAE: 8.386\n"
     ]
    },
    {
     "name": "stderr",
     "output_type": "stream",
     "text": [
      "                                                                              \r"
     ]
    },
    {
     "name": "stdout",
     "output_type": "stream",
     "text": [
      "  Epoch 440/500 | Train Loss: 10.1625 | Val Loss: 8.3672 | Val MAE: 8.367\n"
     ]
    },
    {
     "name": "stderr",
     "output_type": "stream",
     "text": [
      "                                                                              \r"
     ]
    },
    {
     "name": "stdout",
     "output_type": "stream",
     "text": [
      "  Epoch 450/500 | Train Loss: 10.5653 | Val Loss: 8.3360 | Val MAE: 8.336\n"
     ]
    },
    {
     "name": "stderr",
     "output_type": "stream",
     "text": [
      "                                                                              \r"
     ]
    },
    {
     "name": "stdout",
     "output_type": "stream",
     "text": [
      "  Epoch 460/500 | Train Loss: 10.3330 | Val Loss: 8.3085 | Val MAE: 8.308\n"
     ]
    },
    {
     "name": "stderr",
     "output_type": "stream",
     "text": [
      "                                                                              \r"
     ]
    },
    {
     "name": "stdout",
     "output_type": "stream",
     "text": [
      "  Epoch 470/500 | Train Loss: 10.1545 | Val Loss: 8.2840 | Val MAE: 8.284\n"
     ]
    },
    {
     "name": "stderr",
     "output_type": "stream",
     "text": [
      "                                                                              \r"
     ]
    },
    {
     "name": "stdout",
     "output_type": "stream",
     "text": [
      "  Epoch 480/500 | Train Loss: 10.1304 | Val Loss: 8.2685 | Val MAE: 8.269\n"
     ]
    },
    {
     "name": "stderr",
     "output_type": "stream",
     "text": [
      "                                                                              \r"
     ]
    },
    {
     "name": "stdout",
     "output_type": "stream",
     "text": [
      "  Epoch 490/500 | Train Loss: 10.1280 | Val Loss: 8.2502 | Val MAE: 8.250\n"
     ]
    },
    {
     "name": "stderr",
     "output_type": "stream",
     "text": [
      "                                                                              \r"
     ]
    },
    {
     "name": "stdout",
     "output_type": "stream",
     "text": [
      "  Epoch 500/500 | Train Loss: 9.9880 | Val Loss: 8.2133 | Val MAE: 8.213\n",
      "--- Run 2 Finished for MLP_2Layer (Time: 657.75s) ---\n",
      "  Best Validation MAE: 8.211 at epoch 499\n"
     ]
    },
    {
     "name": "stderr",
     "output_type": "stream",
     "text": [
      "                                                                               \r"
     ]
    },
    {
     "name": "stdout",
     "output_type": "stream",
     "text": [
      "  Test MAE for Run 2: 8.949\n",
      "\n",
      "--- Starting Run 3/5 for Model: MLP_2Layer ---\n",
      "Set random seed to 2\n"
     ]
    },
    {
     "name": "stderr",
     "output_type": "stream",
     "text": [
      "                                                                              \r"
     ]
    },
    {
     "name": "stdout",
     "output_type": "stream",
     "text": [
      "  Epoch 1/500 | Train Loss: 54.1707 | Val Loss: 53.2711 | Val MAE: 53.271\n"
     ]
    },
    {
     "name": "stderr",
     "output_type": "stream",
     "text": [
      "                                                                              \r"
     ]
    },
    {
     "name": "stdout",
     "output_type": "stream",
     "text": [
      "  Epoch 10/500 | Train Loss: 19.2353 | Val Loss: 18.0670 | Val MAE: 18.067\n"
     ]
    },
    {
     "name": "stderr",
     "output_type": "stream",
     "text": [
      "                                                                              \r"
     ]
    },
    {
     "name": "stdout",
     "output_type": "stream",
     "text": [
      "  Epoch 20/500 | Train Loss: 18.7851 | Val Loss: 17.4048 | Val MAE: 17.405\n"
     ]
    },
    {
     "name": "stderr",
     "output_type": "stream",
     "text": [
      "                                                                              \r"
     ]
    },
    {
     "name": "stdout",
     "output_type": "stream",
     "text": [
      "  Epoch 30/500 | Train Loss: 18.2417 | Val Loss: 16.6544 | Val MAE: 16.654\n"
     ]
    },
    {
     "name": "stderr",
     "output_type": "stream",
     "text": [
      "                                                                              \r"
     ]
    },
    {
     "name": "stdout",
     "output_type": "stream",
     "text": [
      "  Epoch 40/500 | Train Loss: 16.9551 | Val Loss: 15.7186 | Val MAE: 15.719\n"
     ]
    },
    {
     "name": "stderr",
     "output_type": "stream",
     "text": [
      "                                                                              \r"
     ]
    },
    {
     "name": "stdout",
     "output_type": "stream",
     "text": [
      "  Epoch 50/500 | Train Loss: 16.1136 | Val Loss: 14.7050 | Val MAE: 14.705\n"
     ]
    },
    {
     "name": "stderr",
     "output_type": "stream",
     "text": [
      "                                                                              \r"
     ]
    },
    {
     "name": "stdout",
     "output_type": "stream",
     "text": [
      "  Epoch 60/500 | Train Loss: 15.3844 | Val Loss: 13.6557 | Val MAE: 13.656\n"
     ]
    },
    {
     "name": "stderr",
     "output_type": "stream",
     "text": [
      "                                                                              \r"
     ]
    },
    {
     "name": "stdout",
     "output_type": "stream",
     "text": [
      "  Epoch 70/500 | Train Loss: 14.1586 | Val Loss: 12.8628 | Val MAE: 12.863\n"
     ]
    },
    {
     "name": "stderr",
     "output_type": "stream",
     "text": [
      "                                                                              \r"
     ]
    },
    {
     "name": "stdout",
     "output_type": "stream",
     "text": [
      "  Epoch 80/500 | Train Loss: 13.7490 | Val Loss: 12.3202 | Val MAE: 12.320\n"
     ]
    },
    {
     "name": "stderr",
     "output_type": "stream",
     "text": [
      "                                                                              \r"
     ]
    },
    {
     "name": "stdout",
     "output_type": "stream",
     "text": [
      "  Epoch 90/500 | Train Loss: 13.4322 | Val Loss: 11.8646 | Val MAE: 11.865\n"
     ]
    },
    {
     "name": "stderr",
     "output_type": "stream",
     "text": [
      "                                                                              \r"
     ]
    },
    {
     "name": "stdout",
     "output_type": "stream",
     "text": [
      "  Epoch 100/500 | Train Loss: 13.2261 | Val Loss: 11.5411 | Val MAE: 11.541\n"
     ]
    },
    {
     "name": "stderr",
     "output_type": "stream",
     "text": [
      "                                                                              \r"
     ]
    },
    {
     "name": "stdout",
     "output_type": "stream",
     "text": [
      "  Epoch 110/500 | Train Loss: 13.1595 | Val Loss: 11.3301 | Val MAE: 11.330\n"
     ]
    },
    {
     "name": "stderr",
     "output_type": "stream",
     "text": [
      "                                                                              \r"
     ]
    },
    {
     "name": "stdout",
     "output_type": "stream",
     "text": [
      "  Epoch 120/500 | Train Loss: 13.3594 | Val Loss: 11.1056 | Val MAE: 11.106\n"
     ]
    },
    {
     "name": "stderr",
     "output_type": "stream",
     "text": [
      "                                                                              \r"
     ]
    },
    {
     "name": "stdout",
     "output_type": "stream",
     "text": [
      "  Epoch 130/500 | Train Loss: 12.6595 | Val Loss: 10.8753 | Val MAE: 10.875\n"
     ]
    },
    {
     "name": "stderr",
     "output_type": "stream",
     "text": [
      "                                                                              \r"
     ]
    },
    {
     "name": "stdout",
     "output_type": "stream",
     "text": [
      "  Epoch 140/500 | Train Loss: 12.7161 | Val Loss: 10.6170 | Val MAE: 10.617\n"
     ]
    },
    {
     "name": "stderr",
     "output_type": "stream",
     "text": [
      "                                                                              \r"
     ]
    },
    {
     "name": "stdout",
     "output_type": "stream",
     "text": [
      "  Epoch 150/500 | Train Loss: 12.4770 | Val Loss: 10.4370 | Val MAE: 10.437\n"
     ]
    },
    {
     "name": "stderr",
     "output_type": "stream",
     "text": [
      "                                                                              \r"
     ]
    },
    {
     "name": "stdout",
     "output_type": "stream",
     "text": [
      "  Epoch 160/500 | Train Loss: 11.9820 | Val Loss: 10.2369 | Val MAE: 10.237\n"
     ]
    },
    {
     "name": "stderr",
     "output_type": "stream",
     "text": [
      "                                                                              \r"
     ]
    },
    {
     "name": "stdout",
     "output_type": "stream",
     "text": [
      "  Epoch 170/500 | Train Loss: 12.1326 | Val Loss: 10.0640 | Val MAE: 10.064\n"
     ]
    },
    {
     "name": "stderr",
     "output_type": "stream",
     "text": [
      "                                                                              \r"
     ]
    },
    {
     "name": "stdout",
     "output_type": "stream",
     "text": [
      "  Epoch 180/500 | Train Loss: 11.8992 | Val Loss: 9.9680 | Val MAE: 9.968\n"
     ]
    },
    {
     "name": "stderr",
     "output_type": "stream",
     "text": [
      "                                                                              \r"
     ]
    },
    {
     "name": "stdout",
     "output_type": "stream",
     "text": [
      "  Epoch 190/500 | Train Loss: 11.8126 | Val Loss: 9.7856 | Val MAE: 9.786\n"
     ]
    },
    {
     "name": "stderr",
     "output_type": "stream",
     "text": [
      "                                                                              \r"
     ]
    },
    {
     "name": "stdout",
     "output_type": "stream",
     "text": [
      "  Epoch 200/500 | Train Loss: 11.9894 | Val Loss: 9.6570 | Val MAE: 9.657\n"
     ]
    },
    {
     "name": "stderr",
     "output_type": "stream",
     "text": [
      "                                                                              \r"
     ]
    },
    {
     "name": "stdout",
     "output_type": "stream",
     "text": [
      "  Epoch 210/500 | Train Loss: 11.7629 | Val Loss: 9.7991 | Val MAE: 9.799\n"
     ]
    },
    {
     "name": "stderr",
     "output_type": "stream",
     "text": [
      "                                                                              \r"
     ]
    },
    {
     "name": "stdout",
     "output_type": "stream",
     "text": [
      "  Epoch 220/500 | Train Loss: 11.3408 | Val Loss: 9.4490 | Val MAE: 9.449\n"
     ]
    },
    {
     "name": "stderr",
     "output_type": "stream",
     "text": [
      "                                                                              \r"
     ]
    },
    {
     "name": "stdout",
     "output_type": "stream",
     "text": [
      "  Epoch 230/500 | Train Loss: 11.2152 | Val Loss: 9.4112 | Val MAE: 9.411\n"
     ]
    },
    {
     "name": "stderr",
     "output_type": "stream",
     "text": [
      "                                                                              \r"
     ]
    },
    {
     "name": "stdout",
     "output_type": "stream",
     "text": [
      "  Epoch 240/500 | Train Loss: 11.5240 | Val Loss: 9.3903 | Val MAE: 9.390\n"
     ]
    },
    {
     "name": "stderr",
     "output_type": "stream",
     "text": [
      "                                                                              \r"
     ]
    },
    {
     "name": "stdout",
     "output_type": "stream",
     "text": [
      "  Epoch 250/500 | Train Loss: 11.2565 | Val Loss: 9.2343 | Val MAE: 9.234\n"
     ]
    },
    {
     "name": "stderr",
     "output_type": "stream",
     "text": [
      "                                                                              \r"
     ]
    },
    {
     "name": "stdout",
     "output_type": "stream",
     "text": [
      "  Epoch 260/500 | Train Loss: 11.3700 | Val Loss: 9.1649 | Val MAE: 9.165\n"
     ]
    },
    {
     "name": "stderr",
     "output_type": "stream",
     "text": [
      "                                                                              \r"
     ]
    },
    {
     "name": "stdout",
     "output_type": "stream",
     "text": [
      "  Epoch 270/500 | Train Loss: 11.1794 | Val Loss: 9.1776 | Val MAE: 9.178\n"
     ]
    },
    {
     "name": "stderr",
     "output_type": "stream",
     "text": [
      "                                                                              \r"
     ]
    },
    {
     "name": "stdout",
     "output_type": "stream",
     "text": [
      "  Epoch 280/500 | Train Loss: 11.2921 | Val Loss: 9.0852 | Val MAE: 9.085\n"
     ]
    },
    {
     "name": "stderr",
     "output_type": "stream",
     "text": [
      "                                                                              \r"
     ]
    },
    {
     "name": "stdout",
     "output_type": "stream",
     "text": [
      "  Epoch 290/500 | Train Loss: 11.1413 | Val Loss: 9.0155 | Val MAE: 9.015\n"
     ]
    },
    {
     "name": "stderr",
     "output_type": "stream",
     "text": [
      "                                                                              \r"
     ]
    },
    {
     "name": "stdout",
     "output_type": "stream",
     "text": [
      "  Epoch 300/500 | Train Loss: 11.1265 | Val Loss: 8.9479 | Val MAE: 8.948\n"
     ]
    },
    {
     "name": "stderr",
     "output_type": "stream",
     "text": [
      "                                                                              \r"
     ]
    },
    {
     "name": "stdout",
     "output_type": "stream",
     "text": [
      "  Epoch 310/500 | Train Loss: 10.9769 | Val Loss: 8.8882 | Val MAE: 8.888\n"
     ]
    },
    {
     "name": "stderr",
     "output_type": "stream",
     "text": [
      "                                                                      \r"
     ]
    },
    {
     "name": "stdout",
     "output_type": "stream",
     "text": [
      "  Epoch 320/500 | Train Loss: 10.9590 | Val Loss: 8.8857 | Val MAE: 8.886\n"
     ]
    },
    {
     "name": "stderr",
     "output_type": "stream",
     "text": [
      "                                                                              \r"
     ]
    },
    {
     "name": "stdout",
     "output_type": "stream",
     "text": [
      "  Epoch 330/500 | Train Loss: 11.1214 | Val Loss: 8.8799 | Val MAE: 8.880\n"
     ]
    },
    {
     "name": "stderr",
     "output_type": "stream",
     "text": [
      "                                                                              \r"
     ]
    },
    {
     "name": "stdout",
     "output_type": "stream",
     "text": [
      "  Epoch 340/500 | Train Loss: 10.9875 | Val Loss: 8.8638 | Val MAE: 8.864\n"
     ]
    },
    {
     "name": "stderr",
     "output_type": "stream",
     "text": [
      "                                                                              \r"
     ]
    },
    {
     "name": "stdout",
     "output_type": "stream",
     "text": [
      "  Epoch 350/500 | Train Loss: 10.9238 | Val Loss: 8.8239 | Val MAE: 8.824\n"
     ]
    },
    {
     "name": "stderr",
     "output_type": "stream",
     "text": [
      "                                                                              \r"
     ]
    },
    {
     "name": "stdout",
     "output_type": "stream",
     "text": [
      "  Epoch 360/500 | Train Loss: 10.6572 | Val Loss: 8.7140 | Val MAE: 8.714\n"
     ]
    },
    {
     "name": "stderr",
     "output_type": "stream",
     "text": [
      "                                                                              \r"
     ]
    },
    {
     "name": "stdout",
     "output_type": "stream",
     "text": [
      "  Epoch 370/500 | Train Loss: 10.6914 | Val Loss: 8.6716 | Val MAE: 8.672\n"
     ]
    },
    {
     "name": "stderr",
     "output_type": "stream",
     "text": [
      "                                                                              \r"
     ]
    },
    {
     "name": "stdout",
     "output_type": "stream",
     "text": [
      "  Epoch 380/500 | Train Loss: 10.6499 | Val Loss: 8.6448 | Val MAE: 8.645\n"
     ]
    },
    {
     "name": "stderr",
     "output_type": "stream",
     "text": [
      "                                                                              \r"
     ]
    },
    {
     "name": "stdout",
     "output_type": "stream",
     "text": [
      "  Epoch 390/500 | Train Loss: 10.6698 | Val Loss: 8.6274 | Val MAE: 8.627\n"
     ]
    },
    {
     "name": "stderr",
     "output_type": "stream",
     "text": [
      "                                                                              \r"
     ]
    },
    {
     "name": "stdout",
     "output_type": "stream",
     "text": [
      "  Epoch 400/500 | Train Loss: 10.5513 | Val Loss: 8.5687 | Val MAE: 8.569\n"
     ]
    },
    {
     "name": "stderr",
     "output_type": "stream",
     "text": [
      "                                                                              \r"
     ]
    },
    {
     "name": "stdout",
     "output_type": "stream",
     "text": [
      "  Epoch 410/500 | Train Loss: 10.8634 | Val Loss: 8.5487 | Val MAE: 8.549\n"
     ]
    },
    {
     "name": "stderr",
     "output_type": "stream",
     "text": [
      "                                                                              \r"
     ]
    },
    {
     "name": "stdout",
     "output_type": "stream",
     "text": [
      "  Epoch 420/500 | Train Loss: 10.7677 | Val Loss: 8.5170 | Val MAE: 8.517\n"
     ]
    },
    {
     "name": "stderr",
     "output_type": "stream",
     "text": [
      "                                                                              \r"
     ]
    },
    {
     "name": "stdout",
     "output_type": "stream",
     "text": [
      "  Epoch 430/500 | Train Loss: 10.5304 | Val Loss: 8.5193 | Val MAE: 8.519\n"
     ]
    },
    {
     "name": "stderr",
     "output_type": "stream",
     "text": [
      "                                                                              \r"
     ]
    },
    {
     "name": "stdout",
     "output_type": "stream",
     "text": [
      "  Epoch 440/500 | Train Loss: 10.4190 | Val Loss: 8.4555 | Val MAE: 8.455\n"
     ]
    },
    {
     "name": "stderr",
     "output_type": "stream",
     "text": [
      "                                                                              \r"
     ]
    },
    {
     "name": "stdout",
     "output_type": "stream",
     "text": [
      "  Epoch 450/500 | Train Loss: 10.4524 | Val Loss: 8.4610 | Val MAE: 8.461\n"
     ]
    },
    {
     "name": "stderr",
     "output_type": "stream",
     "text": [
      "                                                                              \r"
     ]
    },
    {
     "name": "stdout",
     "output_type": "stream",
     "text": [
      "  Epoch 460/500 | Train Loss: 10.7284 | Val Loss: 8.4109 | Val MAE: 8.411\n"
     ]
    },
    {
     "name": "stderr",
     "output_type": "stream",
     "text": [
      "                                                                              \r"
     ]
    },
    {
     "name": "stdout",
     "output_type": "stream",
     "text": [
      "  Epoch 470/500 | Train Loss: 10.4568 | Val Loss: 8.3789 | Val MAE: 8.379\n"
     ]
    },
    {
     "name": "stderr",
     "output_type": "stream",
     "text": [
      "                                                                              \r"
     ]
    },
    {
     "name": "stdout",
     "output_type": "stream",
     "text": [
      "  Epoch 480/500 | Train Loss: 10.3301 | Val Loss: 8.4338 | Val MAE: 8.434\n"
     ]
    },
    {
     "name": "stderr",
     "output_type": "stream",
     "text": [
      "                                                                              \r"
     ]
    },
    {
     "name": "stdout",
     "output_type": "stream",
     "text": [
      "  Epoch 490/500 | Train Loss: 10.1645 | Val Loss: 8.3508 | Val MAE: 8.351\n"
     ]
    },
    {
     "name": "stderr",
     "output_type": "stream",
     "text": [
      "                                                                              \r"
     ]
    },
    {
     "name": "stdout",
     "output_type": "stream",
     "text": [
      "  Epoch 500/500 | Train Loss: 10.3199 | Val Loss: 8.3053 | Val MAE: 8.305\n",
      "--- Run 3 Finished for MLP_2Layer (Time: 397.09s) ---\n",
      "  Best Validation MAE: 8.303 at epoch 499\n"
     ]
    },
    {
     "name": "stderr",
     "output_type": "stream",
     "text": [
      "                                                                       \r"
     ]
    },
    {
     "name": "stdout",
     "output_type": "stream",
     "text": [
      "  Test MAE for Run 3: 9.018\n",
      "\n",
      "--- Starting Run 4/5 for Model: MLP_2Layer ---\n",
      "Set random seed to 3\n"
     ]
    },
    {
     "name": "stderr",
     "output_type": "stream",
     "text": [
      "                                                                            \r"
     ]
    },
    {
     "name": "stdout",
     "output_type": "stream",
     "text": [
      "  Epoch 1/500 | Train Loss: 54.1878 | Val Loss: 53.3681 | Val MAE: 53.368\n"
     ]
    },
    {
     "name": "stderr",
     "output_type": "stream",
     "text": [
      "                                                                              \r"
     ]
    },
    {
     "name": "stdout",
     "output_type": "stream",
     "text": [
      "  Epoch 10/500 | Train Loss: 20.4359 | Val Loss: 18.4845 | Val MAE: 18.485\n"
     ]
    },
    {
     "name": "stderr",
     "output_type": "stream",
     "text": [
      "                                                                              \r"
     ]
    },
    {
     "name": "stdout",
     "output_type": "stream",
     "text": [
      "  Epoch 20/500 | Train Loss: 19.0227 | Val Loss: 17.6060 | Val MAE: 17.606\n"
     ]
    },
    {
     "name": "stderr",
     "output_type": "stream",
     "text": [
      "                                                                              \r"
     ]
    },
    {
     "name": "stdout",
     "output_type": "stream",
     "text": [
      "  Epoch 30/500 | Train Loss: 18.3906 | Val Loss: 17.1154 | Val MAE: 17.115\n"
     ]
    },
    {
     "name": "stderr",
     "output_type": "stream",
     "text": [
      "                                                                              \r"
     ]
    },
    {
     "name": "stdout",
     "output_type": "stream",
     "text": [
      "  Epoch 40/500 | Train Loss: 18.1639 | Val Loss: 16.5343 | Val MAE: 16.534\n"
     ]
    },
    {
     "name": "stderr",
     "output_type": "stream",
     "text": [
      "                                                                              \r"
     ]
    },
    {
     "name": "stdout",
     "output_type": "stream",
     "text": [
      "  Epoch 50/500 | Train Loss: 17.3345 | Val Loss: 15.8298 | Val MAE: 15.830\n"
     ]
    },
    {
     "name": "stderr",
     "output_type": "stream",
     "text": [
      "                                                                              \r"
     ]
    },
    {
     "name": "stdout",
     "output_type": "stream",
     "text": [
      "  Epoch 60/500 | Train Loss: 16.4120 | Val Loss: 14.9985 | Val MAE: 14.998\n"
     ]
    },
    {
     "name": "stderr",
     "output_type": "stream",
     "text": [
      "                                                                              \r"
     ]
    },
    {
     "name": "stdout",
     "output_type": "stream",
     "text": [
      "  Epoch 70/500 | Train Loss: 15.5374 | Val Loss: 14.2159 | Val MAE: 14.216\n"
     ]
    },
    {
     "name": "stderr",
     "output_type": "stream",
     "text": [
      "                                                                              \r"
     ]
    },
    {
     "name": "stdout",
     "output_type": "stream",
     "text": [
      "  Epoch 80/500 | Train Loss: 14.9327 | Val Loss: 13.4081 | Val MAE: 13.408\n"
     ]
    },
    {
     "name": "stderr",
     "output_type": "stream",
     "text": [
      "                                                                              \r"
     ]
    },
    {
     "name": "stdout",
     "output_type": "stream",
     "text": [
      "  Epoch 90/500 | Train Loss: 14.4064 | Val Loss: 12.6833 | Val MAE: 12.683\n"
     ]
    },
    {
     "name": "stderr",
     "output_type": "stream",
     "text": [
      "                                                                              \r"
     ]
    },
    {
     "name": "stdout",
     "output_type": "stream",
     "text": [
      "  Epoch 100/500 | Train Loss: 13.8996 | Val Loss: 12.1719 | Val MAE: 12.172\n"
     ]
    },
    {
     "name": "stderr",
     "output_type": "stream",
     "text": [
      "                                                                              \r"
     ]
    },
    {
     "name": "stdout",
     "output_type": "stream",
     "text": [
      "  Epoch 110/500 | Train Loss: 13.4784 | Val Loss: 11.9012 | Val MAE: 11.901\n"
     ]
    },
    {
     "name": "stderr",
     "output_type": "stream",
     "text": [
      "                                                                              \r"
     ]
    },
    {
     "name": "stdout",
     "output_type": "stream",
     "text": [
      "  Epoch 120/500 | Train Loss: 13.3218 | Val Loss: 11.5723 | Val MAE: 11.572\n"
     ]
    },
    {
     "name": "stderr",
     "output_type": "stream",
     "text": [
      "                                                                              \r"
     ]
    },
    {
     "name": "stdout",
     "output_type": "stream",
     "text": [
      "  Epoch 130/500 | Train Loss: 13.1111 | Val Loss: 11.4014 | Val MAE: 11.401\n"
     ]
    },
    {
     "name": "stderr",
     "output_type": "stream",
     "text": [
      "                                                                              \r"
     ]
    },
    {
     "name": "stdout",
     "output_type": "stream",
     "text": [
      "  Epoch 140/500 | Train Loss: 13.0934 | Val Loss: 11.2107 | Val MAE: 11.211\n"
     ]
    },
    {
     "name": "stderr",
     "output_type": "stream",
     "text": [
      "                                                                              \r"
     ]
    },
    {
     "name": "stdout",
     "output_type": "stream",
     "text": [
      "  Epoch 150/500 | Train Loss: 12.8091 | Val Loss: 10.9652 | Val MAE: 10.965\n"
     ]
    },
    {
     "name": "stderr",
     "output_type": "stream",
     "text": [
      "                                                                              \r"
     ]
    },
    {
     "name": "stdout",
     "output_type": "stream",
     "text": [
      "  Epoch 160/500 | Train Loss: 12.4803 | Val Loss: 10.7703 | Val MAE: 10.770\n"
     ]
    },
    {
     "name": "stderr",
     "output_type": "stream",
     "text": [
      "                                                                              \r"
     ]
    },
    {
     "name": "stdout",
     "output_type": "stream",
     "text": [
      "  Epoch 170/500 | Train Loss: 12.6303 | Val Loss: 10.5639 | Val MAE: 10.564\n"
     ]
    },
    {
     "name": "stderr",
     "output_type": "stream",
     "text": [
      "                                                                              \r"
     ]
    },
    {
     "name": "stdout",
     "output_type": "stream",
     "text": [
      "  Epoch 180/500 | Train Loss: 12.1852 | Val Loss: 10.4080 | Val MAE: 10.408\n"
     ]
    },
    {
     "name": "stderr",
     "output_type": "stream",
     "text": [
      "                                                                              \r"
     ]
    },
    {
     "name": "stdout",
     "output_type": "stream",
     "text": [
      "  Epoch 190/500 | Train Loss: 11.8729 | Val Loss: 10.2238 | Val MAE: 10.224\n"
     ]
    },
    {
     "name": "stderr",
     "output_type": "stream",
     "text": [
      "                                                                              \r"
     ]
    },
    {
     "name": "stdout",
     "output_type": "stream",
     "text": [
      "  Epoch 200/500 | Train Loss: 11.7555 | Val Loss: 10.1273 | Val MAE: 10.127\n"
     ]
    },
    {
     "name": "stderr",
     "output_type": "stream",
     "text": [
      "                                                                              \r"
     ]
    },
    {
     "name": "stdout",
     "output_type": "stream",
     "text": [
      "  Epoch 210/500 | Train Loss: 11.8932 | Val Loss: 9.9193 | Val MAE: 9.919\n"
     ]
    },
    {
     "name": "stderr",
     "output_type": "stream",
     "text": [
      "                                                                              \r"
     ]
    },
    {
     "name": "stdout",
     "output_type": "stream",
     "text": [
      "  Epoch 220/500 | Train Loss: 11.9514 | Val Loss: 9.8137 | Val MAE: 9.814\n"
     ]
    },
    {
     "name": "stderr",
     "output_type": "stream",
     "text": [
      "                                                                              \r"
     ]
    },
    {
     "name": "stdout",
     "output_type": "stream",
     "text": [
      "  Epoch 230/500 | Train Loss: 11.6285 | Val Loss: 9.7010 | Val MAE: 9.701\n"
     ]
    },
    {
     "name": "stderr",
     "output_type": "stream",
     "text": [
      "                                                                              \r"
     ]
    },
    {
     "name": "stdout",
     "output_type": "stream",
     "text": [
      "  Epoch 240/500 | Train Loss: 11.7003 | Val Loss: 9.5928 | Val MAE: 9.593\n"
     ]
    },
    {
     "name": "stderr",
     "output_type": "stream",
     "text": [
      "                                                                              \r"
     ]
    },
    {
     "name": "stdout",
     "output_type": "stream",
     "text": [
      "  Epoch 250/500 | Train Loss: 11.3607 | Val Loss: 9.5334 | Val MAE: 9.533\n"
     ]
    },
    {
     "name": "stderr",
     "output_type": "stream",
     "text": [
      "                                                                      \r"
     ]
    },
    {
     "name": "stdout",
     "output_type": "stream",
     "text": [
      "  Epoch 260/500 | Train Loss: 11.3903 | Val Loss: 9.4967 | Val MAE: 9.497\n"
     ]
    },
    {
     "name": "stderr",
     "output_type": "stream",
     "text": [
      "                                                                              \r"
     ]
    },
    {
     "name": "stdout",
     "output_type": "stream",
     "text": [
      "  Epoch 270/500 | Train Loss: 11.2518 | Val Loss: 9.3897 | Val MAE: 9.390\n"
     ]
    },
    {
     "name": "stderr",
     "output_type": "stream",
     "text": [
      "                                                                              \r"
     ]
    },
    {
     "name": "stdout",
     "output_type": "stream",
     "text": [
      "  Epoch 280/500 | Train Loss: 11.1487 | Val Loss: 9.2988 | Val MAE: 9.299\n"
     ]
    },
    {
     "name": "stderr",
     "output_type": "stream",
     "text": [
      "                                                                              \r"
     ]
    },
    {
     "name": "stdout",
     "output_type": "stream",
     "text": [
      "  Epoch 290/500 | Train Loss: 11.3850 | Val Loss: 9.2292 | Val MAE: 9.229\n"
     ]
    },
    {
     "name": "stderr",
     "output_type": "stream",
     "text": [
      "                                                                              \r"
     ]
    },
    {
     "name": "stdout",
     "output_type": "stream",
     "text": [
      "  Epoch 300/500 | Train Loss: 11.1647 | Val Loss: 9.1590 | Val MAE: 9.159\n"
     ]
    },
    {
     "name": "stderr",
     "output_type": "stream",
     "text": [
      "                                                                              \r"
     ]
    },
    {
     "name": "stdout",
     "output_type": "stream",
     "text": [
      "  Epoch 310/500 | Train Loss: 11.2956 | Val Loss: 9.1096 | Val MAE: 9.110\n"
     ]
    },
    {
     "name": "stderr",
     "output_type": "stream",
     "text": [
      "                                                                              \r"
     ]
    },
    {
     "name": "stdout",
     "output_type": "stream",
     "text": [
      "  Epoch 320/500 | Train Loss: 10.9779 | Val Loss: 9.1006 | Val MAE: 9.101\n"
     ]
    },
    {
     "name": "stderr",
     "output_type": "stream",
     "text": [
      "                                                                              \r"
     ]
    },
    {
     "name": "stdout",
     "output_type": "stream",
     "text": [
      "  Epoch 330/500 | Train Loss: 10.8054 | Val Loss: 9.0166 | Val MAE: 9.017\n"
     ]
    },
    {
     "name": "stderr",
     "output_type": "stream",
     "text": [
      "                                                                              \r"
     ]
    },
    {
     "name": "stdout",
     "output_type": "stream",
     "text": [
      "  Epoch 340/500 | Train Loss: 10.8900 | Val Loss: 8.9543 | Val MAE: 8.954\n"
     ]
    },
    {
     "name": "stderr",
     "output_type": "stream",
     "text": [
      "                                                                              \r"
     ]
    },
    {
     "name": "stdout",
     "output_type": "stream",
     "text": [
      "  Epoch 350/500 | Train Loss: 10.7894 | Val Loss: 8.9124 | Val MAE: 8.912\n"
     ]
    },
    {
     "name": "stderr",
     "output_type": "stream",
     "text": [
      "                                                                              \r"
     ]
    },
    {
     "name": "stdout",
     "output_type": "stream",
     "text": [
      "  Epoch 360/500 | Train Loss: 10.8381 | Val Loss: 8.8840 | Val MAE: 8.884\n"
     ]
    },
    {
     "name": "stderr",
     "output_type": "stream",
     "text": [
      "                                                                              \r"
     ]
    },
    {
     "name": "stdout",
     "output_type": "stream",
     "text": [
      "  Epoch 370/500 | Train Loss: 10.9232 | Val Loss: 8.8763 | Val MAE: 8.876\n"
     ]
    },
    {
     "name": "stderr",
     "output_type": "stream",
     "text": [
      "                                                                              \r"
     ]
    },
    {
     "name": "stdout",
     "output_type": "stream",
     "text": [
      "  Epoch 380/500 | Train Loss: 10.7807 | Val Loss: 8.8275 | Val MAE: 8.827\n"
     ]
    },
    {
     "name": "stderr",
     "output_type": "stream",
     "text": [
      "                                                                      \r"
     ]
    },
    {
     "name": "stdout",
     "output_type": "stream",
     "text": [
      "  Epoch 390/500 | Train Loss: 10.9644 | Val Loss: 8.8268 | Val MAE: 8.827\n"
     ]
    },
    {
     "name": "stderr",
     "output_type": "stream",
     "text": [
      "                                                                              \r"
     ]
    },
    {
     "name": "stdout",
     "output_type": "stream",
     "text": [
      "  Epoch 400/500 | Train Loss: 10.9229 | Val Loss: 8.7722 | Val MAE: 8.772\n"
     ]
    },
    {
     "name": "stderr",
     "output_type": "stream",
     "text": [
      "                                                                              \r"
     ]
    },
    {
     "name": "stdout",
     "output_type": "stream",
     "text": [
      "  Epoch 410/500 | Train Loss: 10.9685 | Val Loss: 8.7169 | Val MAE: 8.717\n"
     ]
    },
    {
     "name": "stderr",
     "output_type": "stream",
     "text": [
      "                                                                              \r"
     ]
    },
    {
     "name": "stdout",
     "output_type": "stream",
     "text": [
      "  Epoch 420/500 | Train Loss: 10.5909 | Val Loss: 8.6881 | Val MAE: 8.688\n"
     ]
    },
    {
     "name": "stderr",
     "output_type": "stream",
     "text": [
      "                                                                              \r"
     ]
    },
    {
     "name": "stdout",
     "output_type": "stream",
     "text": [
      "  Epoch 430/500 | Train Loss: 10.3287 | Val Loss: 8.6421 | Val MAE: 8.642\n"
     ]
    },
    {
     "name": "stderr",
     "output_type": "stream",
     "text": [
      "                                                                              \r"
     ]
    },
    {
     "name": "stdout",
     "output_type": "stream",
     "text": [
      "  Epoch 440/500 | Train Loss: 10.7231 | Val Loss: 8.6248 | Val MAE: 8.625\n"
     ]
    },
    {
     "name": "stderr",
     "output_type": "stream",
     "text": [
      "                                                                              \r"
     ]
    },
    {
     "name": "stdout",
     "output_type": "stream",
     "text": [
      "  Epoch 450/500 | Train Loss: 10.3510 | Val Loss: 8.5882 | Val MAE: 8.588\n"
     ]
    },
    {
     "name": "stderr",
     "output_type": "stream",
     "text": [
      "                                                                              \r"
     ]
    },
    {
     "name": "stdout",
     "output_type": "stream",
     "text": [
      "  Epoch 460/500 | Train Loss: 10.5955 | Val Loss: 8.5729 | Val MAE: 8.573\n"
     ]
    },
    {
     "name": "stderr",
     "output_type": "stream",
     "text": [
      "                                                                              \r"
     ]
    },
    {
     "name": "stdout",
     "output_type": "stream",
     "text": [
      "  Epoch 470/500 | Train Loss: 10.8117 | Val Loss: 8.5562 | Val MAE: 8.556\n"
     ]
    },
    {
     "name": "stderr",
     "output_type": "stream",
     "text": [
      "                                                                              \r"
     ]
    },
    {
     "name": "stdout",
     "output_type": "stream",
     "text": [
      "  Epoch 480/500 | Train Loss: 10.2990 | Val Loss: 8.5115 | Val MAE: 8.512\n"
     ]
    },
    {
     "name": "stderr",
     "output_type": "stream",
     "text": [
      "                                                                              \r"
     ]
    },
    {
     "name": "stdout",
     "output_type": "stream",
     "text": [
      "  Epoch 490/500 | Train Loss: 10.2309 | Val Loss: 8.4909 | Val MAE: 8.491\n"
     ]
    },
    {
     "name": "stderr",
     "output_type": "stream",
     "text": [
      "                                                                              \r"
     ]
    },
    {
     "name": "stdout",
     "output_type": "stream",
     "text": [
      "  Epoch 500/500 | Train Loss: 10.2484 | Val Loss: 8.4978 | Val MAE: 8.498\n",
      "--- Run 4 Finished for MLP_2Layer (Time: 376.74s) ---\n",
      "  Best Validation MAE: 8.467 at epoch 498\n"
     ]
    },
    {
     "name": "stderr",
     "output_type": "stream",
     "text": [
      "                                                                               \r"
     ]
    },
    {
     "name": "stdout",
     "output_type": "stream",
     "text": [
      "  Test MAE for Run 4: 9.171\n",
      "\n",
      "--- Starting Run 5/5 for Model: MLP_2Layer ---\n",
      "Set random seed to 4\n"
     ]
    },
    {
     "name": "stderr",
     "output_type": "stream",
     "text": [
      "                                                                              \r"
     ]
    },
    {
     "name": "stdout",
     "output_type": "stream",
     "text": [
      "  Epoch 1/500 | Train Loss: 54.1775 | Val Loss: 53.3265 | Val MAE: 53.327\n"
     ]
    },
    {
     "name": "stderr",
     "output_type": "stream",
     "text": [
      "                                                                              \r"
     ]
    },
    {
     "name": "stdout",
     "output_type": "stream",
     "text": [
      "  Epoch 10/500 | Train Loss: 20.1695 | Val Loss: 18.4804 | Val MAE: 18.480\n"
     ]
    },
    {
     "name": "stderr",
     "output_type": "stream",
     "text": [
      "                                                                              \r"
     ]
    },
    {
     "name": "stdout",
     "output_type": "stream",
     "text": [
      "  Epoch 20/500 | Train Loss: 18.9907 | Val Loss: 17.6097 | Val MAE: 17.610\n"
     ]
    },
    {
     "name": "stderr",
     "output_type": "stream",
     "text": [
      "                                                                              \r"
     ]
    },
    {
     "name": "stdout",
     "output_type": "stream",
     "text": [
      "  Epoch 30/500 | Train Loss: 18.6241 | Val Loss: 17.0839 | Val MAE: 17.084\n"
     ]
    },
    {
     "name": "stderr",
     "output_type": "stream",
     "text": [
      "                                                                              \r"
     ]
    },
    {
     "name": "stdout",
     "output_type": "stream",
     "text": [
      "  Epoch 40/500 | Train Loss: 17.9250 | Val Loss: 16.3826 | Val MAE: 16.383\n"
     ]
    },
    {
     "name": "stderr",
     "output_type": "stream",
     "text": [
      "                                                                              \r"
     ]
    },
    {
     "name": "stdout",
     "output_type": "stream",
     "text": [
      "  Epoch 50/500 | Train Loss: 16.9585 | Val Loss: 15.5432 | Val MAE: 15.543\n"
     ]
    },
    {
     "name": "stderr",
     "output_type": "stream",
     "text": [
      "                                                                              \r"
     ]
    },
    {
     "name": "stdout",
     "output_type": "stream",
     "text": [
      "  Epoch 60/500 | Train Loss: 15.8847 | Val Loss: 14.6144 | Val MAE: 14.614\n"
     ]
    },
    {
     "name": "stderr",
     "output_type": "stream",
     "text": [
      "                                                                              \r"
     ]
    },
    {
     "name": "stdout",
     "output_type": "stream",
     "text": [
      "  Epoch 70/500 | Train Loss: 15.4091 | Val Loss: 13.6450 | Val MAE: 13.645\n"
     ]
    },
    {
     "name": "stderr",
     "output_type": "stream",
     "text": [
      "                                                                              \r"
     ]
    },
    {
     "name": "stdout",
     "output_type": "stream",
     "text": [
      "  Epoch 80/500 | Train Loss: 13.9694 | Val Loss: 12.9035 | Val MAE: 12.903\n"
     ]
    },
    {
     "name": "stderr",
     "output_type": "stream",
     "text": [
      "                                                                              \r"
     ]
    },
    {
     "name": "stdout",
     "output_type": "stream",
     "text": [
      "  Epoch 90/500 | Train Loss: 13.7196 | Val Loss: 12.3515 | Val MAE: 12.351\n"
     ]
    },
    {
     "name": "stderr",
     "output_type": "stream",
     "text": [
      "                                                                              \r"
     ]
    },
    {
     "name": "stdout",
     "output_type": "stream",
     "text": [
      "  Epoch 100/500 | Train Loss: 13.6245 | Val Loss: 11.9401 | Val MAE: 11.940\n"
     ]
    },
    {
     "name": "stderr",
     "output_type": "stream",
     "text": [
      "                                                                              \r"
     ]
    },
    {
     "name": "stdout",
     "output_type": "stream",
     "text": [
      "  Epoch 110/500 | Train Loss: 13.4576 | Val Loss: 11.6404 | Val MAE: 11.640\n"
     ]
    },
    {
     "name": "stderr",
     "output_type": "stream",
     "text": [
      "                                                                              \r"
     ]
    },
    {
     "name": "stdout",
     "output_type": "stream",
     "text": [
      "  Epoch 120/500 | Train Loss: 13.0043 | Val Loss: 11.4315 | Val MAE: 11.431\n"
     ]
    },
    {
     "name": "stderr",
     "output_type": "stream",
     "text": [
      "                                                                              \r"
     ]
    },
    {
     "name": "stdout",
     "output_type": "stream",
     "text": [
      "  Epoch 130/500 | Train Loss: 13.0577 | Val Loss: 11.2393 | Val MAE: 11.239\n"
     ]
    },
    {
     "name": "stderr",
     "output_type": "stream",
     "text": [
      "                                                                              \r"
     ]
    },
    {
     "name": "stdout",
     "output_type": "stream",
     "text": [
      "  Epoch 140/500 | Train Loss: 12.8609 | Val Loss: 11.0140 | Val MAE: 11.014\n"
     ]
    },
    {
     "name": "stderr",
     "output_type": "stream",
     "text": [
      "                                                                      \r"
     ]
    },
    {
     "name": "stdout",
     "output_type": "stream",
     "text": [
      "  Epoch 150/500 | Train Loss: 12.6276 | Val Loss: 10.7788 | Val MAE: 10.779\n"
     ]
    },
    {
     "name": "stderr",
     "output_type": "stream",
     "text": [
      "                                                                              \r"
     ]
    },
    {
     "name": "stdout",
     "output_type": "stream",
     "text": [
      "  Epoch 160/500 | Train Loss: 12.6071 | Val Loss: 10.5992 | Val MAE: 10.599\n"
     ]
    },
    {
     "name": "stderr",
     "output_type": "stream",
     "text": [
      "                                                                              \r"
     ]
    },
    {
     "name": "stdout",
     "output_type": "stream",
     "text": [
      "  Epoch 170/500 | Train Loss: 12.1560 | Val Loss: 10.4626 | Val MAE: 10.463\n"
     ]
    },
    {
     "name": "stderr",
     "output_type": "stream",
     "text": [
      "                                                                              \r"
     ]
    },
    {
     "name": "stdout",
     "output_type": "stream",
     "text": [
      "  Epoch 180/500 | Train Loss: 12.2190 | Val Loss: 10.2283 | Val MAE: 10.228\n"
     ]
    },
    {
     "name": "stderr",
     "output_type": "stream",
     "text": [
      "                                                                              \r"
     ]
    },
    {
     "name": "stdout",
     "output_type": "stream",
     "text": [
      "  Epoch 190/500 | Train Loss: 12.1489 | Val Loss: 10.0844 | Val MAE: 10.084\n"
     ]
    },
    {
     "name": "stderr",
     "output_type": "stream",
     "text": [
      "                                                                              \r"
     ]
    },
    {
     "name": "stdout",
     "output_type": "stream",
     "text": [
      "  Epoch 200/500 | Train Loss: 11.7562 | Val Loss: 9.9211 | Val MAE: 9.921\n"
     ]
    },
    {
     "name": "stderr",
     "output_type": "stream",
     "text": [
      "                                                                              \r"
     ]
    },
    {
     "name": "stdout",
     "output_type": "stream",
     "text": [
      "  Epoch 210/500 | Train Loss: 11.8625 | Val Loss: 9.8845 | Val MAE: 9.884\n"
     ]
    },
    {
     "name": "stderr",
     "output_type": "stream",
     "text": [
      "                                                                              \r"
     ]
    },
    {
     "name": "stdout",
     "output_type": "stream",
     "text": [
      "  Epoch 220/500 | Train Loss: 12.0501 | Val Loss: 9.7727 | Val MAE: 9.773\n"
     ]
    },
    {
     "name": "stderr",
     "output_type": "stream",
     "text": [
      "                                                                              \r"
     ]
    },
    {
     "name": "stdout",
     "output_type": "stream",
     "text": [
      "  Epoch 230/500 | Train Loss: 11.5778 | Val Loss: 9.6129 | Val MAE: 9.613\n"
     ]
    },
    {
     "name": "stderr",
     "output_type": "stream",
     "text": [
      "                                                                              \r"
     ]
    },
    {
     "name": "stdout",
     "output_type": "stream",
     "text": [
      "  Epoch 240/500 | Train Loss: 11.6210 | Val Loss: 9.5158 | Val MAE: 9.516\n"
     ]
    },
    {
     "name": "stderr",
     "output_type": "stream",
     "text": [
      "                                                                              \r"
     ]
    },
    {
     "name": "stdout",
     "output_type": "stream",
     "text": [
      "  Epoch 250/500 | Train Loss: 11.6377 | Val Loss: 9.4212 | Val MAE: 9.421\n"
     ]
    },
    {
     "name": "stderr",
     "output_type": "stream",
     "text": [
      "                                                                              \r"
     ]
    },
    {
     "name": "stdout",
     "output_type": "stream",
     "text": [
      "  Epoch 260/500 | Train Loss: 11.4463 | Val Loss: 9.3964 | Val MAE: 9.396\n"
     ]
    },
    {
     "name": "stderr",
     "output_type": "stream",
     "text": [
      "                                                                      \r"
     ]
    },
    {
     "name": "stdout",
     "output_type": "stream",
     "text": [
      "  Epoch 270/500 | Train Loss: 11.5727 | Val Loss: 9.3098 | Val MAE: 9.310\n"
     ]
    },
    {
     "name": "stderr",
     "output_type": "stream",
     "text": [
      "                                                                              \r"
     ]
    },
    {
     "name": "stdout",
     "output_type": "stream",
     "text": [
      "  Epoch 280/500 | Train Loss: 11.1706 | Val Loss: 9.2142 | Val MAE: 9.214\n"
     ]
    },
    {
     "name": "stderr",
     "output_type": "stream",
     "text": [
      "                                                                              \r"
     ]
    },
    {
     "name": "stdout",
     "output_type": "stream",
     "text": [
      "  Epoch 290/500 | Train Loss: 11.0570 | Val Loss: 9.1987 | Val MAE: 9.199\n"
     ]
    },
    {
     "name": "stderr",
     "output_type": "stream",
     "text": [
      "                                                                              \r"
     ]
    },
    {
     "name": "stdout",
     "output_type": "stream",
     "text": [
      "  Epoch 300/500 | Train Loss: 11.0757 | Val Loss: 9.1260 | Val MAE: 9.126\n"
     ]
    },
    {
     "name": "stderr",
     "output_type": "stream",
     "text": [
      "                                                                              \r"
     ]
    },
    {
     "name": "stdout",
     "output_type": "stream",
     "text": [
      "  Epoch 310/500 | Train Loss: 11.2167 | Val Loss: 9.0277 | Val MAE: 9.028\n"
     ]
    },
    {
     "name": "stderr",
     "output_type": "stream",
     "text": [
      "                                                                              \r"
     ]
    },
    {
     "name": "stdout",
     "output_type": "stream",
     "text": [
      "  Epoch 320/500 | Train Loss: 10.9916 | Val Loss: 9.0201 | Val MAE: 9.020\n"
     ]
    },
    {
     "name": "stderr",
     "output_type": "stream",
     "text": [
      "                                                                              \r"
     ]
    },
    {
     "name": "stdout",
     "output_type": "stream",
     "text": [
      "  Epoch 330/500 | Train Loss: 11.1017 | Val Loss: 8.9409 | Val MAE: 8.941\n"
     ]
    },
    {
     "name": "stderr",
     "output_type": "stream",
     "text": [
      "                                                                              \r"
     ]
    },
    {
     "name": "stdout",
     "output_type": "stream",
     "text": [
      "  Epoch 340/500 | Train Loss: 11.1107 | Val Loss: 8.9087 | Val MAE: 8.909\n"
     ]
    },
    {
     "name": "stderr",
     "output_type": "stream",
     "text": [
      "                                                                              \r"
     ]
    },
    {
     "name": "stdout",
     "output_type": "stream",
     "text": [
      "  Epoch 350/500 | Train Loss: 11.0385 | Val Loss: 8.9118 | Val MAE: 8.912\n"
     ]
    },
    {
     "name": "stderr",
     "output_type": "stream",
     "text": [
      "                                                                              \r"
     ]
    },
    {
     "name": "stdout",
     "output_type": "stream",
     "text": [
      "  Epoch 360/500 | Train Loss: 10.8104 | Val Loss: 8.8511 | Val MAE: 8.851\n"
     ]
    },
    {
     "name": "stderr",
     "output_type": "stream",
     "text": [
      "                                                                              \r"
     ]
    },
    {
     "name": "stdout",
     "output_type": "stream",
     "text": [
      "  Epoch 370/500 | Train Loss: 10.7140 | Val Loss: 8.8083 | Val MAE: 8.808\n"
     ]
    },
    {
     "name": "stderr",
     "output_type": "stream",
     "text": [
      "                                                                              \r"
     ]
    },
    {
     "name": "stdout",
     "output_type": "stream",
     "text": [
      "  Epoch 380/500 | Train Loss: 10.6255 | Val Loss: 8.7701 | Val MAE: 8.770\n"
     ]
    },
    {
     "name": "stderr",
     "output_type": "stream",
     "text": [
      "                                                                              \r"
     ]
    },
    {
     "name": "stdout",
     "output_type": "stream",
     "text": [
      "  Epoch 390/500 | Train Loss: 10.4809 | Val Loss: 8.6923 | Val MAE: 8.692\n"
     ]
    },
    {
     "name": "stderr",
     "output_type": "stream",
     "text": [
      "                                                                              \r"
     ]
    },
    {
     "name": "stdout",
     "output_type": "stream",
     "text": [
      "  Epoch 400/500 | Train Loss: 10.6292 | Val Loss: 8.6686 | Val MAE: 8.669\n"
     ]
    },
    {
     "name": "stderr",
     "output_type": "stream",
     "text": [
      "                                                                              \r"
     ]
    },
    {
     "name": "stdout",
     "output_type": "stream",
     "text": [
      "  Epoch 410/500 | Train Loss: 10.6603 | Val Loss: 8.6335 | Val MAE: 8.633\n"
     ]
    },
    {
     "name": "stderr",
     "output_type": "stream",
     "text": [
      "                                                                              \r"
     ]
    },
    {
     "name": "stdout",
     "output_type": "stream",
     "text": [
      "  Epoch 420/500 | Train Loss: 10.8319 | Val Loss: 8.6183 | Val MAE: 8.618\n"
     ]
    },
    {
     "name": "stderr",
     "output_type": "stream",
     "text": [
      "                                                                              \r"
     ]
    },
    {
     "name": "stdout",
     "output_type": "stream",
     "text": [
      "  Epoch 430/500 | Train Loss: 10.4678 | Val Loss: 8.5687 | Val MAE: 8.569\n"
     ]
    },
    {
     "name": "stderr",
     "output_type": "stream",
     "text": [
      "                                                                              \r"
     ]
    },
    {
     "name": "stdout",
     "output_type": "stream",
     "text": [
      "  Epoch 440/500 | Train Loss: 10.5067 | Val Loss: 8.5326 | Val MAE: 8.533\n"
     ]
    },
    {
     "name": "stderr",
     "output_type": "stream",
     "text": [
      "                                                                              \r"
     ]
    },
    {
     "name": "stdout",
     "output_type": "stream",
     "text": [
      "  Epoch 450/500 | Train Loss: 10.3527 | Val Loss: 8.5212 | Val MAE: 8.521\n"
     ]
    },
    {
     "name": "stderr",
     "output_type": "stream",
     "text": [
      "                                                                              \r"
     ]
    },
    {
     "name": "stdout",
     "output_type": "stream",
     "text": [
      "  Epoch 460/500 | Train Loss: 10.6877 | Val Loss: 8.5073 | Val MAE: 8.507\n"
     ]
    },
    {
     "name": "stderr",
     "output_type": "stream",
     "text": [
      "                                                                              \r"
     ]
    },
    {
     "name": "stdout",
     "output_type": "stream",
     "text": [
      "  Epoch 470/500 | Train Loss: 10.6625 | Val Loss: 8.5511 | Val MAE: 8.551\n"
     ]
    },
    {
     "name": "stderr",
     "output_type": "stream",
     "text": [
      "                                                                              \r"
     ]
    },
    {
     "name": "stdout",
     "output_type": "stream",
     "text": [
      "  Epoch 480/500 | Train Loss: 10.4780 | Val Loss: 8.4467 | Val MAE: 8.447\n"
     ]
    },
    {
     "name": "stderr",
     "output_type": "stream",
     "text": [
      "                                                                              \r"
     ]
    },
    {
     "name": "stdout",
     "output_type": "stream",
     "text": [
      "  Epoch 490/500 | Train Loss: 10.2591 | Val Loss: 8.4340 | Val MAE: 8.434\n"
     ]
    },
    {
     "name": "stderr",
     "output_type": "stream",
     "text": [
      "                                                                              \r"
     ]
    },
    {
     "name": "stdout",
     "output_type": "stream",
     "text": [
      "  Epoch 500/500 | Train Loss: 10.3341 | Val Loss: 8.4359 | Val MAE: 8.436\n",
      "--- Run 5 Finished for MLP_2Layer (Time: 378.15s) ---\n",
      "  Best Validation MAE: 8.409 at epoch 499\n"
     ]
    },
    {
     "name": "stderr",
     "output_type": "stream",
     "text": [
      "                                                                               \r"
     ]
    },
    {
     "name": "stdout",
     "output_type": "stream",
     "text": [
      "  Test MAE for Run 5: 9.165\n",
      "========================= Finished Testing Model: MLP_2Layer =========================\n",
      "\n",
      "========================= Testing Model: MLP_3Layer (5 runs) =========================\n",
      "\n",
      "--- Starting Run 1/5 for Model: MLP_3Layer ---\n",
      "Set random seed to 0\n"
     ]
    },
    {
     "name": "stderr",
     "output_type": "stream",
     "text": [
      "                                                                              \r"
     ]
    },
    {
     "name": "stdout",
     "output_type": "stream",
     "text": [
      "  Epoch 1/500 | Train Loss: 54.1873 | Val Loss: 53.3134 | Val MAE: 53.313\n"
     ]
    },
    {
     "name": "stderr",
     "output_type": "stream",
     "text": [
      "                                                                              \r"
     ]
    },
    {
     "name": "stdout",
     "output_type": "stream",
     "text": [
      "  Epoch 10/500 | Train Loss: 20.2137 | Val Loss: 17.8607 | Val MAE: 17.861\n"
     ]
    },
    {
     "name": "stderr",
     "output_type": "stream",
     "text": [
      "                                                                              \r"
     ]
    },
    {
     "name": "stdout",
     "output_type": "stream",
     "text": [
      "  Epoch 20/500 | Train Loss: 19.2876 | Val Loss: 17.1204 | Val MAE: 17.120\n"
     ]
    },
    {
     "name": "stderr",
     "output_type": "stream",
     "text": [
      "                                                                              \r"
     ]
    },
    {
     "name": "stdout",
     "output_type": "stream",
     "text": [
      "  Epoch 30/500 | Train Loss: 18.1547 | Val Loss: 16.0649 | Val MAE: 16.065\n"
     ]
    },
    {
     "name": "stderr",
     "output_type": "stream",
     "text": [
      "                                                                              \r"
     ]
    },
    {
     "name": "stdout",
     "output_type": "stream",
     "text": [
      "  Epoch 40/500 | Train Loss: 17.0160 | Val Loss: 14.7511 | Val MAE: 14.751\n"
     ]
    },
    {
     "name": "stderr",
     "output_type": "stream",
     "text": [
      "                                                                              \r"
     ]
    },
    {
     "name": "stdout",
     "output_type": "stream",
     "text": [
      "  Epoch 50/500 | Train Loss: 16.0317 | Val Loss: 13.4170 | Val MAE: 13.417\n"
     ]
    },
    {
     "name": "stderr",
     "output_type": "stream",
     "text": [
      "                                                                              \r"
     ]
    },
    {
     "name": "stdout",
     "output_type": "stream",
     "text": [
      "  Epoch 60/500 | Train Loss: 14.7980 | Val Loss: 12.4907 | Val MAE: 12.491\n"
     ]
    },
    {
     "name": "stderr",
     "output_type": "stream",
     "text": [
      "                                                                              \r"
     ]
    },
    {
     "name": "stdout",
     "output_type": "stream",
     "text": [
      "  Epoch 70/500 | Train Loss: 14.4966 | Val Loss: 12.1082 | Val MAE: 12.108\n"
     ]
    },
    {
     "name": "stderr",
     "output_type": "stream",
     "text": [
      "                                                                              \r"
     ]
    },
    {
     "name": "stdout",
     "output_type": "stream",
     "text": [
      "  Epoch 80/500 | Train Loss: 14.0092 | Val Loss: 11.4907 | Val MAE: 11.491\n"
     ]
    },
    {
     "name": "stderr",
     "output_type": "stream",
     "text": [
      "                                                                              \r"
     ]
    },
    {
     "name": "stdout",
     "output_type": "stream",
     "text": [
      "  Epoch 90/500 | Train Loss: 13.8073 | Val Loss: 11.1236 | Val MAE: 11.124\n"
     ]
    },
    {
     "name": "stderr",
     "output_type": "stream",
     "text": [
      "                                                                              \r"
     ]
    },
    {
     "name": "stdout",
     "output_type": "stream",
     "text": [
      "  Epoch 100/500 | Train Loss: 13.5862 | Val Loss: 10.7349 | Val MAE: 10.735\n"
     ]
    },
    {
     "name": "stderr",
     "output_type": "stream",
     "text": [
      "                                                                              \r"
     ]
    },
    {
     "name": "stdout",
     "output_type": "stream",
     "text": [
      "  Epoch 110/500 | Train Loss: 13.1991 | Val Loss: 10.5284 | Val MAE: 10.528\n"
     ]
    },
    {
     "name": "stderr",
     "output_type": "stream",
     "text": [
      "                                                                              \r"
     ]
    },
    {
     "name": "stdout",
     "output_type": "stream",
     "text": [
      "  Epoch 120/500 | Train Loss: 13.0403 | Val Loss: 10.2853 | Val MAE: 10.285\n"
     ]
    },
    {
     "name": "stderr",
     "output_type": "stream",
     "text": [
      "                                                                              \r"
     ]
    },
    {
     "name": "stdout",
     "output_type": "stream",
     "text": [
      "  Epoch 130/500 | Train Loss: 12.9508 | Val Loss: 9.9154 | Val MAE: 9.915\n"
     ]
    },
    {
     "name": "stderr",
     "output_type": "stream",
     "text": [
      "                                                                           \r"
     ]
    },
    {
     "name": "stdout",
     "output_type": "stream",
     "text": [
      "  Epoch 140/500 | Train Loss: 13.0072 | Val Loss: 10.0128 | Val MAE: 10.013\n"
     ]
    },
    {
     "name": "stderr",
     "output_type": "stream",
     "text": [
      "                                                                              \r"
     ]
    },
    {
     "name": "stdout",
     "output_type": "stream",
     "text": [
      "  Epoch 150/500 | Train Loss: 12.7095 | Val Loss: 9.5562 | Val MAE: 9.556\n"
     ]
    },
    {
     "name": "stderr",
     "output_type": "stream",
     "text": [
      "                                                                              \r"
     ]
    },
    {
     "name": "stdout",
     "output_type": "stream",
     "text": [
      "  Epoch 160/500 | Train Loss: 12.3918 | Val Loss: 9.5731 | Val MAE: 9.573\n"
     ]
    },
    {
     "name": "stderr",
     "output_type": "stream",
     "text": [
      "                                                                              \r"
     ]
    },
    {
     "name": "stdout",
     "output_type": "stream",
     "text": [
      "  Epoch 170/500 | Train Loss: 12.1460 | Val Loss: 9.4635 | Val MAE: 9.464\n"
     ]
    },
    {
     "name": "stderr",
     "output_type": "stream",
     "text": [
      "                                                                              \r"
     ]
    },
    {
     "name": "stdout",
     "output_type": "stream",
     "text": [
      "  Epoch 180/500 | Train Loss: 12.2931 | Val Loss: 9.2429 | Val MAE: 9.243\n"
     ]
    },
    {
     "name": "stderr",
     "output_type": "stream",
     "text": [
      "                                                                              \r"
     ]
    },
    {
     "name": "stdout",
     "output_type": "stream",
     "text": [
      "  Epoch 190/500 | Train Loss: 12.5738 | Val Loss: 9.4503 | Val MAE: 9.450\n"
     ]
    },
    {
     "name": "stderr",
     "output_type": "stream",
     "text": [
      "                                                                              \r"
     ]
    },
    {
     "name": "stdout",
     "output_type": "stream",
     "text": [
      "  Epoch 200/500 | Train Loss: 12.4443 | Val Loss: 9.0386 | Val MAE: 9.039\n"
     ]
    },
    {
     "name": "stderr",
     "output_type": "stream",
     "text": [
      "                                                                              \r"
     ]
    },
    {
     "name": "stdout",
     "output_type": "stream",
     "text": [
      "  Epoch 210/500 | Train Loss: 12.0267 | Val Loss: 9.1442 | Val MAE: 9.144\n"
     ]
    },
    {
     "name": "stderr",
     "output_type": "stream",
     "text": [
      "                                                                              \r"
     ]
    },
    {
     "name": "stdout",
     "output_type": "stream",
     "text": [
      "  Epoch 220/500 | Train Loss: 12.4077 | Val Loss: 9.0452 | Val MAE: 9.045\n"
     ]
    },
    {
     "name": "stderr",
     "output_type": "stream",
     "text": [
      "                                                                              \r"
     ]
    },
    {
     "name": "stdout",
     "output_type": "stream",
     "text": [
      "  Epoch 230/500 | Train Loss: 11.9724 | Val Loss: 9.0632 | Val MAE: 9.063\n"
     ]
    },
    {
     "name": "stderr",
     "output_type": "stream",
     "text": [
      "                                                                              \r"
     ]
    },
    {
     "name": "stdout",
     "output_type": "stream",
     "text": [
      "  Epoch 240/500 | Train Loss: 11.5817 | Val Loss: 8.8224 | Val MAE: 8.822\n"
     ]
    },
    {
     "name": "stderr",
     "output_type": "stream",
     "text": [
      "                                                                              \r"
     ]
    },
    {
     "name": "stdout",
     "output_type": "stream",
     "text": [
      "  Epoch 250/500 | Train Loss: 11.9272 | Val Loss: 9.0531 | Val MAE: 9.053\n"
     ]
    },
    {
     "name": "stderr",
     "output_type": "stream",
     "text": [
      "                                                                              \r"
     ]
    },
    {
     "name": "stdout",
     "output_type": "stream",
     "text": [
      "  Epoch 260/500 | Train Loss: 11.5320 | Val Loss: 8.7078 | Val MAE: 8.708\n"
     ]
    },
    {
     "name": "stderr",
     "output_type": "stream",
     "text": [
      "                                                                              \r"
     ]
    },
    {
     "name": "stdout",
     "output_type": "stream",
     "text": [
      "  Epoch 270/500 | Train Loss: 11.5792 | Val Loss: 8.6537 | Val MAE: 8.654\n"
     ]
    },
    {
     "name": "stderr",
     "output_type": "stream",
     "text": [
      "                                                                              \r"
     ]
    },
    {
     "name": "stdout",
     "output_type": "stream",
     "text": [
      "  Epoch 280/500 | Train Loss: 11.7457 | Val Loss: 8.6267 | Val MAE: 8.627\n"
     ]
    },
    {
     "name": "stderr",
     "output_type": "stream",
     "text": [
      "                                                                              \r"
     ]
    },
    {
     "name": "stdout",
     "output_type": "stream",
     "text": [
      "  Epoch 290/500 | Train Loss: 11.8767 | Val Loss: 8.5623 | Val MAE: 8.562\n"
     ]
    },
    {
     "name": "stderr",
     "output_type": "stream",
     "text": [
      "                                                                              \r"
     ]
    },
    {
     "name": "stdout",
     "output_type": "stream",
     "text": [
      "  Epoch 300/500 | Train Loss: 11.3942 | Val Loss: 8.6295 | Val MAE: 8.629\n"
     ]
    },
    {
     "name": "stderr",
     "output_type": "stream",
     "text": [
      "                                                                              \r"
     ]
    },
    {
     "name": "stdout",
     "output_type": "stream",
     "text": [
      "  Epoch 310/500 | Train Loss: 11.7985 | Val Loss: 8.5549 | Val MAE: 8.555\n"
     ]
    },
    {
     "name": "stderr",
     "output_type": "stream",
     "text": [
      "                                                                              \r"
     ]
    },
    {
     "name": "stdout",
     "output_type": "stream",
     "text": [
      "  Epoch 320/500 | Train Loss: 11.5626 | Val Loss: 8.5762 | Val MAE: 8.576\n"
     ]
    },
    {
     "name": "stderr",
     "output_type": "stream",
     "text": [
      "                                                                              \r"
     ]
    },
    {
     "name": "stdout",
     "output_type": "stream",
     "text": [
      "  Epoch 330/500 | Train Loss: 11.6867 | Val Loss: 8.3837 | Val MAE: 8.384\n"
     ]
    },
    {
     "name": "stderr",
     "output_type": "stream",
     "text": [
      "                                                                              \r"
     ]
    },
    {
     "name": "stdout",
     "output_type": "stream",
     "text": [
      "  Epoch 340/500 | Train Loss: 11.6516 | Val Loss: 8.4194 | Val MAE: 8.419\n"
     ]
    },
    {
     "name": "stderr",
     "output_type": "stream",
     "text": [
      "                                                                              \r"
     ]
    },
    {
     "name": "stdout",
     "output_type": "stream",
     "text": [
      "  Epoch 350/500 | Train Loss: 11.5387 | Val Loss: 8.5852 | Val MAE: 8.585\n"
     ]
    },
    {
     "name": "stderr",
     "output_type": "stream",
     "text": [
      "                                                                              \r"
     ]
    },
    {
     "name": "stdout",
     "output_type": "stream",
     "text": [
      "  Epoch 360/500 | Train Loss: 11.6665 | Val Loss: 8.2936 | Val MAE: 8.294\n"
     ]
    },
    {
     "name": "stderr",
     "output_type": "stream",
     "text": [
      "                                                                              \r"
     ]
    },
    {
     "name": "stdout",
     "output_type": "stream",
     "text": [
      "  Epoch 370/500 | Train Loss: 11.6578 | Val Loss: 8.3074 | Val MAE: 8.307\n"
     ]
    },
    {
     "name": "stderr",
     "output_type": "stream",
     "text": [
      "                                                                              \r"
     ]
    },
    {
     "name": "stdout",
     "output_type": "stream",
     "text": [
      "  Epoch 380/500 | Train Loss: 11.2208 | Val Loss: 8.2553 | Val MAE: 8.255\n"
     ]
    },
    {
     "name": "stderr",
     "output_type": "stream",
     "text": [
      "                                                                              \r"
     ]
    },
    {
     "name": "stdout",
     "output_type": "stream",
     "text": [
      "  Epoch 390/500 | Train Loss: 11.2918 | Val Loss: 8.2253 | Val MAE: 8.225\n"
     ]
    },
    {
     "name": "stderr",
     "output_type": "stream",
     "text": [
      "                                                                              \r"
     ]
    },
    {
     "name": "stdout",
     "output_type": "stream",
     "text": [
      "  Epoch 400/500 | Train Loss: 11.3327 | Val Loss: 8.4682 | Val MAE: 8.468\n"
     ]
    },
    {
     "name": "stderr",
     "output_type": "stream",
     "text": [
      "                                                                      \r"
     ]
    },
    {
     "name": "stdout",
     "output_type": "stream",
     "text": [
      "  Epoch 410/500 | Train Loss: 11.2019 | Val Loss: 8.1762 | Val MAE: 8.176\n"
     ]
    },
    {
     "name": "stderr",
     "output_type": "stream",
     "text": [
      "                                                                      \r"
     ]
    },
    {
     "name": "stdout",
     "output_type": "stream",
     "text": [
      "  Epoch 420/500 | Train Loss: 11.1406 | Val Loss: 8.1554 | Val MAE: 8.155\n"
     ]
    },
    {
     "name": "stderr",
     "output_type": "stream",
     "text": [
      "                                                                      \r"
     ]
    },
    {
     "name": "stdout",
     "output_type": "stream",
     "text": [
      "  Epoch 430/500 | Train Loss: 11.2159 | Val Loss: 8.1500 | Val MAE: 8.150\n"
     ]
    },
    {
     "name": "stderr",
     "output_type": "stream",
     "text": [
      "                                                                              \r"
     ]
    },
    {
     "name": "stdout",
     "output_type": "stream",
     "text": [
      "  Epoch 440/500 | Train Loss: 11.2132 | Val Loss: 8.1705 | Val MAE: 8.171\n"
     ]
    },
    {
     "name": "stderr",
     "output_type": "stream",
     "text": [
      "                                                                              \r"
     ]
    },
    {
     "name": "stdout",
     "output_type": "stream",
     "text": [
      "  Epoch 450/500 | Train Loss: 11.4062 | Val Loss: 8.1117 | Val MAE: 8.112\n"
     ]
    },
    {
     "name": "stderr",
     "output_type": "stream",
     "text": [
      "                                                                              \r"
     ]
    },
    {
     "name": "stdout",
     "output_type": "stream",
     "text": [
      "  Epoch 460/500 | Train Loss: 11.3318 | Val Loss: 8.0723 | Val MAE: 8.072\n"
     ]
    },
    {
     "name": "stderr",
     "output_type": "stream",
     "text": [
      "                                                                              \r"
     ]
    },
    {
     "name": "stdout",
     "output_type": "stream",
     "text": [
      "  Epoch 470/500 | Train Loss: 11.3248 | Val Loss: 8.1395 | Val MAE: 8.140\n"
     ]
    },
    {
     "name": "stderr",
     "output_type": "stream",
     "text": [
      "                                                                              \r"
     ]
    },
    {
     "name": "stdout",
     "output_type": "stream",
     "text": [
      "  Epoch 480/500 | Train Loss: 11.1673 | Val Loss: 8.0566 | Val MAE: 8.057\n"
     ]
    },
    {
     "name": "stderr",
     "output_type": "stream",
     "text": [
      "                                                                              \r"
     ]
    },
    {
     "name": "stdout",
     "output_type": "stream",
     "text": [
      "  Epoch 490/500 | Train Loss: 11.1834 | Val Loss: 8.0768 | Val MAE: 8.077\n"
     ]
    },
    {
     "name": "stderr",
     "output_type": "stream",
     "text": [
      "                                                                              \r"
     ]
    },
    {
     "name": "stdout",
     "output_type": "stream",
     "text": [
      "  Epoch 500/500 | Train Loss: 11.0320 | Val Loss: 8.0071 | Val MAE: 8.007\n",
      "--- Run 1 Finished for MLP_3Layer (Time: 378.97s) ---\n",
      "  Best Validation MAE: 8.000 at epoch 498\n"
     ]
    },
    {
     "name": "stderr",
     "output_type": "stream",
     "text": [
      "                                                                               \r"
     ]
    },
    {
     "name": "stdout",
     "output_type": "stream",
     "text": [
      "  Test MAE for Run 1: 8.738\n",
      "\n",
      "--- Starting Run 2/5 for Model: MLP_3Layer ---\n",
      "Set random seed to 1\n"
     ]
    },
    {
     "name": "stderr",
     "output_type": "stream",
     "text": [
      "                                                                              \r"
     ]
    },
    {
     "name": "stdout",
     "output_type": "stream",
     "text": [
      "  Epoch 1/500 | Train Loss: 54.3921 | Val Loss: 53.5831 | Val MAE: 53.583\n"
     ]
    },
    {
     "name": "stderr",
     "output_type": "stream",
     "text": [
      "                                                                              \r"
     ]
    },
    {
     "name": "stdout",
     "output_type": "stream",
     "text": [
      "  Epoch 10/500 | Train Loss: 20.6409 | Val Loss: 17.8755 | Val MAE: 17.875\n"
     ]
    },
    {
     "name": "stderr",
     "output_type": "stream",
     "text": [
      "                                                                              \r"
     ]
    },
    {
     "name": "stdout",
     "output_type": "stream",
     "text": [
      "  Epoch 20/500 | Train Loss: 19.4351 | Val Loss: 17.0656 | Val MAE: 17.066\n"
     ]
    },
    {
     "name": "stderr",
     "output_type": "stream",
     "text": [
      "                                                                              \r"
     ]
    },
    {
     "name": "stdout",
     "output_type": "stream",
     "text": [
      "  Epoch 30/500 | Train Loss: 18.5539 | Val Loss: 16.0912 | Val MAE: 16.091\n"
     ]
    },
    {
     "name": "stderr",
     "output_type": "stream",
     "text": [
      "                                                                              \r"
     ]
    },
    {
     "name": "stdout",
     "output_type": "stream",
     "text": [
      "  Epoch 40/500 | Train Loss: 17.1614 | Val Loss: 14.7102 | Val MAE: 14.710\n"
     ]
    },
    {
     "name": "stderr",
     "output_type": "stream",
     "text": [
      "                                                                              \r"
     ]
    },
    {
     "name": "stdout",
     "output_type": "stream",
     "text": [
      "  Epoch 50/500 | Train Loss: 15.5818 | Val Loss: 13.3687 | Val MAE: 13.369\n"
     ]
    },
    {
     "name": "stderr",
     "output_type": "stream",
     "text": [
      "                                                                              \r"
     ]
    },
    {
     "name": "stdout",
     "output_type": "stream",
     "text": [
      "  Epoch 60/500 | Train Loss: 15.1600 | Val Loss: 12.7117 | Val MAE: 12.712\n"
     ]
    },
    {
     "name": "stderr",
     "output_type": "stream",
     "text": [
      "                                                                              \r"
     ]
    },
    {
     "name": "stdout",
     "output_type": "stream",
     "text": [
      "  Epoch 70/500 | Train Loss: 15.0277 | Val Loss: 12.1656 | Val MAE: 12.166\n"
     ]
    },
    {
     "name": "stderr",
     "output_type": "stream",
     "text": [
      "                                                                              \r"
     ]
    },
    {
     "name": "stdout",
     "output_type": "stream",
     "text": [
      "  Epoch 80/500 | Train Loss: 14.4253 | Val Loss: 11.6517 | Val MAE: 11.652\n"
     ]
    },
    {
     "name": "stderr",
     "output_type": "stream",
     "text": [
      "                                                                              \r"
     ]
    },
    {
     "name": "stdout",
     "output_type": "stream",
     "text": [
      "  Epoch 90/500 | Train Loss: 14.6047 | Val Loss: 11.4265 | Val MAE: 11.427\n"
     ]
    },
    {
     "name": "stderr",
     "output_type": "stream",
     "text": [
      "                                                                              \r"
     ]
    },
    {
     "name": "stdout",
     "output_type": "stream",
     "text": [
      "  Epoch 100/500 | Train Loss: 14.0071 | Val Loss: 10.9674 | Val MAE: 10.967\n"
     ]
    },
    {
     "name": "stderr",
     "output_type": "stream",
     "text": [
      "                                                                              \r"
     ]
    },
    {
     "name": "stdout",
     "output_type": "stream",
     "text": [
      "  Epoch 110/500 | Train Loss: 13.9579 | Val Loss: 10.8794 | Val MAE: 10.879\n"
     ]
    },
    {
     "name": "stderr",
     "output_type": "stream",
     "text": [
      "                                                                              \r"
     ]
    },
    {
     "name": "stdout",
     "output_type": "stream",
     "text": [
      "  Epoch 120/500 | Train Loss: 13.7966 | Val Loss: 10.3863 | Val MAE: 10.386\n"
     ]
    },
    {
     "name": "stderr",
     "output_type": "stream",
     "text": [
      "                                                                              \r"
     ]
    },
    {
     "name": "stdout",
     "output_type": "stream",
     "text": [
      "  Epoch 130/500 | Train Loss: 13.6020 | Val Loss: 10.4388 | Val MAE: 10.439\n"
     ]
    },
    {
     "name": "stderr",
     "output_type": "stream",
     "text": [
      "                                                                              \r"
     ]
    },
    {
     "name": "stdout",
     "output_type": "stream",
     "text": [
      "  Epoch 140/500 | Train Loss: 13.3684 | Val Loss: 10.1105 | Val MAE: 10.111\n"
     ]
    },
    {
     "name": "stderr",
     "output_type": "stream",
     "text": [
      "                                                                              \r"
     ]
    },
    {
     "name": "stdout",
     "output_type": "stream",
     "text": [
      "  Epoch 150/500 | Train Loss: 13.2988 | Val Loss: 10.0860 | Val MAE: 10.086\n"
     ]
    },
    {
     "name": "stderr",
     "output_type": "stream",
     "text": [
      "                                                                              \r"
     ]
    },
    {
     "name": "stdout",
     "output_type": "stream",
     "text": [
      "  Epoch 160/500 | Train Loss: 13.0800 | Val Loss: 9.7435 | Val MAE: 9.744\n"
     ]
    },
    {
     "name": "stderr",
     "output_type": "stream",
     "text": [
      "                                                                              \r"
     ]
    },
    {
     "name": "stdout",
     "output_type": "stream",
     "text": [
      "  Epoch 170/500 | Train Loss: 13.1126 | Val Loss: 9.7040 | Val MAE: 9.704\n"
     ]
    },
    {
     "name": "stderr",
     "output_type": "stream",
     "text": [
      "                                                                              \r"
     ]
    },
    {
     "name": "stdout",
     "output_type": "stream",
     "text": [
      "  Epoch 180/500 | Train Loss: 13.0782 | Val Loss: 9.6003 | Val MAE: 9.600\n"
     ]
    },
    {
     "name": "stderr",
     "output_type": "stream",
     "text": [
      "                                                                              \r"
     ]
    },
    {
     "name": "stdout",
     "output_type": "stream",
     "text": [
      "  Epoch 190/500 | Train Loss: 12.9636 | Val Loss: 9.5677 | Val MAE: 9.568\n"
     ]
    },
    {
     "name": "stderr",
     "output_type": "stream",
     "text": [
      "                                                                              \r"
     ]
    },
    {
     "name": "stdout",
     "output_type": "stream",
     "text": [
      "  Epoch 200/500 | Train Loss: 12.8382 | Val Loss: 9.5302 | Val MAE: 9.530\n"
     ]
    },
    {
     "name": "stderr",
     "output_type": "stream",
     "text": [
      "                                                                              \r"
     ]
    },
    {
     "name": "stdout",
     "output_type": "stream",
     "text": [
      "  Epoch 210/500 | Train Loss: 12.2969 | Val Loss: 9.2773 | Val MAE: 9.277\n"
     ]
    },
    {
     "name": "stderr",
     "output_type": "stream",
     "text": [
      "                                                                              \r"
     ]
    },
    {
     "name": "stdout",
     "output_type": "stream",
     "text": [
      "  Epoch 220/500 | Train Loss: 12.5447 | Val Loss: 9.2077 | Val MAE: 9.208\n"
     ]
    },
    {
     "name": "stderr",
     "output_type": "stream",
     "text": [
      "                                                                              \r"
     ]
    },
    {
     "name": "stdout",
     "output_type": "stream",
     "text": [
      "  Epoch 230/500 | Train Loss: 12.6282 | Val Loss: 9.1229 | Val MAE: 9.123\n"
     ]
    },
    {
     "name": "stderr",
     "output_type": "stream",
     "text": [
      "                                                                              \r"
     ]
    },
    {
     "name": "stdout",
     "output_type": "stream",
     "text": [
      "  Epoch 240/500 | Train Loss: 12.3502 | Val Loss: 9.1474 | Val MAE: 9.147\n"
     ]
    },
    {
     "name": "stderr",
     "output_type": "stream",
     "text": [
      "                                                                              \r"
     ]
    },
    {
     "name": "stdout",
     "output_type": "stream",
     "text": [
      "  Epoch 250/500 | Train Loss: 12.4019 | Val Loss: 9.1432 | Val MAE: 9.143\n"
     ]
    },
    {
     "name": "stderr",
     "output_type": "stream",
     "text": [
      "                                                                              \r"
     ]
    },
    {
     "name": "stdout",
     "output_type": "stream",
     "text": [
      "  Epoch 260/500 | Train Loss: 12.2386 | Val Loss: 8.9371 | Val MAE: 8.937\n"
     ]
    },
    {
     "name": "stderr",
     "output_type": "stream",
     "text": [
      "                                                                              \r"
     ]
    },
    {
     "name": "stdout",
     "output_type": "stream",
     "text": [
      "  Epoch 270/500 | Train Loss: 12.2786 | Val Loss: 8.9630 | Val MAE: 8.963\n"
     ]
    },
    {
     "name": "stderr",
     "output_type": "stream",
     "text": [
      "                                                                              \r"
     ]
    },
    {
     "name": "stdout",
     "output_type": "stream",
     "text": [
      "  Epoch 280/500 | Train Loss: 12.2512 | Val Loss: 8.8147 | Val MAE: 8.815\n"
     ]
    },
    {
     "name": "stderr",
     "output_type": "stream",
     "text": [
      "                                                                              \r"
     ]
    },
    {
     "name": "stdout",
     "output_type": "stream",
     "text": [
      "  Epoch 290/500 | Train Loss: 12.1241 | Val Loss: 8.6554 | Val MAE: 8.655\n"
     ]
    },
    {
     "name": "stderr",
     "output_type": "stream",
     "text": [
      "                                                                              \r"
     ]
    },
    {
     "name": "stdout",
     "output_type": "stream",
     "text": [
      "  Epoch 300/500 | Train Loss: 12.3095 | Val Loss: 8.6286 | Val MAE: 8.629\n"
     ]
    },
    {
     "name": "stderr",
     "output_type": "stream",
     "text": [
      "                                                                              \r"
     ]
    },
    {
     "name": "stdout",
     "output_type": "stream",
     "text": [
      "  Epoch 310/500 | Train Loss: 12.1723 | Val Loss: 8.5815 | Val MAE: 8.581\n"
     ]
    },
    {
     "name": "stderr",
     "output_type": "stream",
     "text": [
      "                                                                              \r"
     ]
    },
    {
     "name": "stdout",
     "output_type": "stream",
     "text": [
      "  Epoch 320/500 | Train Loss: 11.9974 | Val Loss: 8.5584 | Val MAE: 8.558\n"
     ]
    },
    {
     "name": "stderr",
     "output_type": "stream",
     "text": [
      "                                                                              \r"
     ]
    },
    {
     "name": "stdout",
     "output_type": "stream",
     "text": [
      "  Epoch 330/500 | Train Loss: 12.0027 | Val Loss: 8.6455 | Val MAE: 8.645\n"
     ]
    },
    {
     "name": "stderr",
     "output_type": "stream",
     "text": [
      "                                                                              \r"
     ]
    },
    {
     "name": "stdout",
     "output_type": "stream",
     "text": [
      "  Epoch 340/500 | Train Loss: 12.1099 | Val Loss: 8.6422 | Val MAE: 8.642\n"
     ]
    },
    {
     "name": "stderr",
     "output_type": "stream",
     "text": [
      "                                                                              \r"
     ]
    },
    {
     "name": "stdout",
     "output_type": "stream",
     "text": [
      "  Epoch 350/500 | Train Loss: 12.1937 | Val Loss: 8.4860 | Val MAE: 8.486\n"
     ]
    },
    {
     "name": "stderr",
     "output_type": "stream",
     "text": [
      "                                                                              \r"
     ]
    },
    {
     "name": "stdout",
     "output_type": "stream",
     "text": [
      "  Epoch 360/500 | Train Loss: 12.1685 | Val Loss: 8.5571 | Val MAE: 8.557\n"
     ]
    },
    {
     "name": "stderr",
     "output_type": "stream",
     "text": [
      "                                                                              \r"
     ]
    },
    {
     "name": "stdout",
     "output_type": "stream",
     "text": [
      "  Epoch 370/500 | Train Loss: 12.1311 | Val Loss: 8.3737 | Val MAE: 8.374\n"
     ]
    },
    {
     "name": "stderr",
     "output_type": "stream",
     "text": [
      "                                                                              \r"
     ]
    },
    {
     "name": "stdout",
     "output_type": "stream",
     "text": [
      "  Epoch 380/500 | Train Loss: 12.2248 | Val Loss: 8.3634 | Val MAE: 8.363\n"
     ]
    },
    {
     "name": "stderr",
     "output_type": "stream",
     "text": [
      "                                                                              \r"
     ]
    },
    {
     "name": "stdout",
     "output_type": "stream",
     "text": [
      "  Epoch 390/500 | Train Loss: 11.8174 | Val Loss: 8.3484 | Val MAE: 8.348\n"
     ]
    },
    {
     "name": "stderr",
     "output_type": "stream",
     "text": [
      "                                                                              \r"
     ]
    },
    {
     "name": "stdout",
     "output_type": "stream",
     "text": [
      "  Epoch 400/500 | Train Loss: 11.7792 | Val Loss: 8.4597 | Val MAE: 8.460\n"
     ]
    },
    {
     "name": "stderr",
     "output_type": "stream",
     "text": [
      "                                                                              \r"
     ]
    },
    {
     "name": "stdout",
     "output_type": "stream",
     "text": [
      "  Epoch 410/500 | Train Loss: 11.6609 | Val Loss: 8.4432 | Val MAE: 8.443\n"
     ]
    },
    {
     "name": "stderr",
     "output_type": "stream",
     "text": [
      "                                                                              \r"
     ]
    },
    {
     "name": "stdout",
     "output_type": "stream",
     "text": [
      "  Epoch 420/500 | Train Loss: 11.7422 | Val Loss: 8.4107 | Val MAE: 8.411\n"
     ]
    },
    {
     "name": "stderr",
     "output_type": "stream",
     "text": [
      "                                                                              \r"
     ]
    },
    {
     "name": "stdout",
     "output_type": "stream",
     "text": [
      "  Epoch 430/500 | Train Loss: 11.7246 | Val Loss: 8.2275 | Val MAE: 8.228\n"
     ]
    },
    {
     "name": "stderr",
     "output_type": "stream",
     "text": [
      "                                                                              \r"
     ]
    },
    {
     "name": "stdout",
     "output_type": "stream",
     "text": [
      "  Epoch 440/500 | Train Loss: 11.5824 | Val Loss: 8.1909 | Val MAE: 8.191\n"
     ]
    },
    {
     "name": "stderr",
     "output_type": "stream",
     "text": [
      "                                                                              \r"
     ]
    },
    {
     "name": "stdout",
     "output_type": "stream",
     "text": [
      "  Epoch 450/500 | Train Loss: 11.6182 | Val Loss: 8.1858 | Val MAE: 8.186\n"
     ]
    },
    {
     "name": "stderr",
     "output_type": "stream",
     "text": [
      "                                                                              \r"
     ]
    },
    {
     "name": "stdout",
     "output_type": "stream",
     "text": [
      "  Epoch 460/500 | Train Loss: 11.7925 | Val Loss: 8.1759 | Val MAE: 8.176\n"
     ]
    },
    {
     "name": "stderr",
     "output_type": "stream",
     "text": [
      "                                                                              \r"
     ]
    },
    {
     "name": "stdout",
     "output_type": "stream",
     "text": [
      "  Epoch 470/500 | Train Loss: 11.4862 | Val Loss: 8.1922 | Val MAE: 8.192\n"
     ]
    },
    {
     "name": "stderr",
     "output_type": "stream",
     "text": [
      "                                                                              \r"
     ]
    },
    {
     "name": "stdout",
     "output_type": "stream",
     "text": [
      "  Epoch 480/500 | Train Loss: 11.6255 | Val Loss: 8.1704 | Val MAE: 8.170\n"
     ]
    },
    {
     "name": "stderr",
     "output_type": "stream",
     "text": [
      "                                                                              \r"
     ]
    },
    {
     "name": "stdout",
     "output_type": "stream",
     "text": [
      "  Epoch 490/500 | Train Loss: 11.4366 | Val Loss: 8.1266 | Val MAE: 8.127\n"
     ]
    },
    {
     "name": "stderr",
     "output_type": "stream",
     "text": [
      "                                                                              \r"
     ]
    },
    {
     "name": "stdout",
     "output_type": "stream",
     "text": [
      "  Epoch 500/500 | Train Loss: 11.4829 | Val Loss: 8.1470 | Val MAE: 8.147\n",
      "--- Run 2 Finished for MLP_3Layer (Time: 390.63s) ---\n",
      "  Best Validation MAE: 8.112 at epoch 493\n"
     ]
    },
    {
     "name": "stderr",
     "output_type": "stream",
     "text": [
      "                                                                               \r"
     ]
    },
    {
     "name": "stdout",
     "output_type": "stream",
     "text": [
      "  Test MAE for Run 2: 8.810\n",
      "\n",
      "--- Starting Run 3/5 for Model: MLP_3Layer ---\n",
      "Set random seed to 2\n"
     ]
    },
    {
     "name": "stderr",
     "output_type": "stream",
     "text": [
      "                                                                              \r"
     ]
    },
    {
     "name": "stdout",
     "output_type": "stream",
     "text": [
      "  Epoch 1/500 | Train Loss: 54.4182 | Val Loss: 53.5820 | Val MAE: 53.582\n"
     ]
    },
    {
     "name": "stderr",
     "output_type": "stream",
     "text": [
      "                                                                      \r"
     ]
    },
    {
     "name": "stdout",
     "output_type": "stream",
     "text": [
      "  Epoch 10/500 | Train Loss: 20.1260 | Val Loss: 17.8397 | Val MAE: 17.840\n"
     ]
    },
    {
     "name": "stderr",
     "output_type": "stream",
     "text": [
      "                                                                              \r"
     ]
    },
    {
     "name": "stdout",
     "output_type": "stream",
     "text": [
      "  Epoch 20/500 | Train Loss: 19.2165 | Val Loss: 17.1080 | Val MAE: 17.108\n"
     ]
    },
    {
     "name": "stderr",
     "output_type": "stream",
     "text": [
      "                                                                              \r"
     ]
    },
    {
     "name": "stdout",
     "output_type": "stream",
     "text": [
      "  Epoch 30/500 | Train Loss: 18.7429 | Val Loss: 16.2841 | Val MAE: 16.284\n"
     ]
    },
    {
     "name": "stderr",
     "output_type": "stream",
     "text": [
      "                                                                              \r"
     ]
    },
    {
     "name": "stdout",
     "output_type": "stream",
     "text": [
      "  Epoch 40/500 | Train Loss: 17.2408 | Val Loss: 15.0981 | Val MAE: 15.098\n"
     ]
    },
    {
     "name": "stderr",
     "output_type": "stream",
     "text": [
      "                                                                              \r"
     ]
    },
    {
     "name": "stdout",
     "output_type": "stream",
     "text": [
      "  Epoch 50/500 | Train Loss: 16.0506 | Val Loss: 13.7098 | Val MAE: 13.710\n"
     ]
    },
    {
     "name": "stderr",
     "output_type": "stream",
     "text": [
      "                                                                              \r"
     ]
    },
    {
     "name": "stdout",
     "output_type": "stream",
     "text": [
      "  Epoch 60/500 | Train Loss: 15.1151 | Val Loss: 12.7071 | Val MAE: 12.707\n"
     ]
    },
    {
     "name": "stderr",
     "output_type": "stream",
     "text": [
      "                                                                              \r"
     ]
    },
    {
     "name": "stdout",
     "output_type": "stream",
     "text": [
      "  Epoch 70/500 | Train Loss: 14.4737 | Val Loss: 11.9447 | Val MAE: 11.945\n"
     ]
    },
    {
     "name": "stderr",
     "output_type": "stream",
     "text": [
      "                                                                              \r"
     ]
    },
    {
     "name": "stdout",
     "output_type": "stream",
     "text": [
      "  Epoch 80/500 | Train Loss: 14.5586 | Val Loss: 11.4592 | Val MAE: 11.459\n"
     ]
    },
    {
     "name": "stderr",
     "output_type": "stream",
     "text": [
      "                                                                              \r"
     ]
    },
    {
     "name": "stdout",
     "output_type": "stream",
     "text": [
      "  Epoch 90/500 | Train Loss: 13.9681 | Val Loss: 11.1988 | Val MAE: 11.199\n"
     ]
    },
    {
     "name": "stderr",
     "output_type": "stream",
     "text": [
      "                                                                              \r"
     ]
    },
    {
     "name": "stdout",
     "output_type": "stream",
     "text": [
      "  Epoch 100/500 | Train Loss: 14.2414 | Val Loss: 10.9031 | Val MAE: 10.903\n"
     ]
    },
    {
     "name": "stderr",
     "output_type": "stream",
     "text": [
      "                                                                              \r"
     ]
    },
    {
     "name": "stdout",
     "output_type": "stream",
     "text": [
      "  Epoch 110/500 | Train Loss: 13.7134 | Val Loss: 10.7697 | Val MAE: 10.770\n"
     ]
    },
    {
     "name": "stderr",
     "output_type": "stream",
     "text": [
      "                                                                              \r"
     ]
    },
    {
     "name": "stdout",
     "output_type": "stream",
     "text": [
      "  Epoch 120/500 | Train Loss: 13.4256 | Val Loss: 10.5433 | Val MAE: 10.543\n"
     ]
    },
    {
     "name": "stderr",
     "output_type": "stream",
     "text": [
      "                                                                              \r"
     ]
    },
    {
     "name": "stdout",
     "output_type": "stream",
     "text": [
      "  Epoch 130/500 | Train Loss: 13.5101 | Val Loss: 10.1298 | Val MAE: 10.130\n"
     ]
    },
    {
     "name": "stderr",
     "output_type": "stream",
     "text": [
      "                                                                              \r"
     ]
    },
    {
     "name": "stdout",
     "output_type": "stream",
     "text": [
      "  Epoch 140/500 | Train Loss: 13.3434 | Val Loss: 9.9930 | Val MAE: 9.993\n"
     ]
    },
    {
     "name": "stderr",
     "output_type": "stream",
     "text": [
      "                                                                      \r"
     ]
    },
    {
     "name": "stdout",
     "output_type": "stream",
     "text": [
      "  Epoch 150/500 | Train Loss: 13.0842 | Val Loss: 10.1361 | Val MAE: 10.136\n"
     ]
    },
    {
     "name": "stderr",
     "output_type": "stream",
     "text": [
      "                                                                              \r"
     ]
    },
    {
     "name": "stdout",
     "output_type": "stream",
     "text": [
      "  Epoch 160/500 | Train Loss: 12.6954 | Val Loss: 9.8299 | Val MAE: 9.830\n"
     ]
    },
    {
     "name": "stderr",
     "output_type": "stream",
     "text": [
      "                                                                              \r"
     ]
    },
    {
     "name": "stdout",
     "output_type": "stream",
     "text": [
      "  Epoch 170/500 | Train Loss: 12.9393 | Val Loss: 9.5068 | Val MAE: 9.507\n"
     ]
    },
    {
     "name": "stderr",
     "output_type": "stream",
     "text": [
      "                                                                              \r"
     ]
    },
    {
     "name": "stdout",
     "output_type": "stream",
     "text": [
      "  Epoch 180/500 | Train Loss: 12.6752 | Val Loss: 9.5332 | Val MAE: 9.533\n"
     ]
    },
    {
     "name": "stderr",
     "output_type": "stream",
     "text": [
      "                                                                              \r"
     ]
    },
    {
     "name": "stdout",
     "output_type": "stream",
     "text": [
      "  Epoch 190/500 | Train Loss: 12.9032 | Val Loss: 9.3763 | Val MAE: 9.376\n"
     ]
    },
    {
     "name": "stderr",
     "output_type": "stream",
     "text": [
      "                                                                              \r"
     ]
    },
    {
     "name": "stdout",
     "output_type": "stream",
     "text": [
      "  Epoch 200/500 | Train Loss: 12.6728 | Val Loss: 9.3136 | Val MAE: 9.314\n"
     ]
    },
    {
     "name": "stderr",
     "output_type": "stream",
     "text": [
      "                                                                              \r"
     ]
    },
    {
     "name": "stdout",
     "output_type": "stream",
     "text": [
      "  Epoch 210/500 | Train Loss: 12.6568 | Val Loss: 9.1197 | Val MAE: 9.120\n"
     ]
    },
    {
     "name": "stderr",
     "output_type": "stream",
     "text": [
      "                                                                              \r"
     ]
    },
    {
     "name": "stdout",
     "output_type": "stream",
     "text": [
      "  Epoch 220/500 | Train Loss: 12.4037 | Val Loss: 9.1543 | Val MAE: 9.154\n"
     ]
    },
    {
     "name": "stderr",
     "output_type": "stream",
     "text": [
      "                                                                              \r"
     ]
    },
    {
     "name": "stdout",
     "output_type": "stream",
     "text": [
      "  Epoch 230/500 | Train Loss: 12.4541 | Val Loss: 8.9913 | Val MAE: 8.991\n"
     ]
    },
    {
     "name": "stderr",
     "output_type": "stream",
     "text": [
      "                                                                              \r"
     ]
    },
    {
     "name": "stdout",
     "output_type": "stream",
     "text": [
      "  Epoch 240/500 | Train Loss: 11.9697 | Val Loss: 8.9953 | Val MAE: 8.995\n"
     ]
    },
    {
     "name": "stderr",
     "output_type": "stream",
     "text": [
      "                                                                              \r"
     ]
    },
    {
     "name": "stdout",
     "output_type": "stream",
     "text": [
      "  Epoch 250/500 | Train Loss: 12.1923 | Val Loss: 8.8810 | Val MAE: 8.881\n"
     ]
    },
    {
     "name": "stderr",
     "output_type": "stream",
     "text": [
      "                                                                              \r"
     ]
    },
    {
     "name": "stdout",
     "output_type": "stream",
     "text": [
      "  Epoch 260/500 | Train Loss: 11.9763 | Val Loss: 8.8074 | Val MAE: 8.807\n"
     ]
    },
    {
     "name": "stderr",
     "output_type": "stream",
     "text": [
      "                                                                              \r"
     ]
    },
    {
     "name": "stdout",
     "output_type": "stream",
     "text": [
      "  Epoch 270/500 | Train Loss: 12.2979 | Val Loss: 8.8000 | Val MAE: 8.800\n"
     ]
    },
    {
     "name": "stderr",
     "output_type": "stream",
     "text": [
      "                                                                              \r"
     ]
    },
    {
     "name": "stdout",
     "output_type": "stream",
     "text": [
      "  Epoch 280/500 | Train Loss: 12.1166 | Val Loss: 8.9435 | Val MAE: 8.943\n"
     ]
    },
    {
     "name": "stderr",
     "output_type": "stream",
     "text": [
      "                                                                              \r"
     ]
    },
    {
     "name": "stdout",
     "output_type": "stream",
     "text": [
      "  Epoch 290/500 | Train Loss: 12.0774 | Val Loss: 8.6421 | Val MAE: 8.642\n"
     ]
    },
    {
     "name": "stderr",
     "output_type": "stream",
     "text": [
      "                                                                              \r"
     ]
    },
    {
     "name": "stdout",
     "output_type": "stream",
     "text": [
      "  Epoch 300/500 | Train Loss: 12.1441 | Val Loss: 8.5729 | Val MAE: 8.573\n"
     ]
    },
    {
     "name": "stderr",
     "output_type": "stream",
     "text": [
      "                                                                              \r"
     ]
    },
    {
     "name": "stdout",
     "output_type": "stream",
     "text": [
      "  Epoch 310/500 | Train Loss: 11.8387 | Val Loss: 8.5604 | Val MAE: 8.560\n"
     ]
    },
    {
     "name": "stderr",
     "output_type": "stream",
     "text": [
      "                                                                              \r"
     ]
    },
    {
     "name": "stdout",
     "output_type": "stream",
     "text": [
      "  Epoch 320/500 | Train Loss: 12.0546 | Val Loss: 8.6184 | Val MAE: 8.618\n"
     ]
    },
    {
     "name": "stderr",
     "output_type": "stream",
     "text": [
      "                                                                              \r"
     ]
    },
    {
     "name": "stdout",
     "output_type": "stream",
     "text": [
      "  Epoch 330/500 | Train Loss: 12.0163 | Val Loss: 8.5692 | Val MAE: 8.569\n"
     ]
    },
    {
     "name": "stderr",
     "output_type": "stream",
     "text": [
      "                                                                              \r"
     ]
    },
    {
     "name": "stdout",
     "output_type": "stream",
     "text": [
      "  Epoch 340/500 | Train Loss: 11.8867 | Val Loss: 8.4836 | Val MAE: 8.484\n"
     ]
    },
    {
     "name": "stderr",
     "output_type": "stream",
     "text": [
      "                                                                              \r"
     ]
    },
    {
     "name": "stdout",
     "output_type": "stream",
     "text": [
      "  Epoch 350/500 | Train Loss: 11.8024 | Val Loss: 8.4091 | Val MAE: 8.409\n"
     ]
    },
    {
     "name": "stderr",
     "output_type": "stream",
     "text": [
      "                                                                              \r"
     ]
    },
    {
     "name": "stdout",
     "output_type": "stream",
     "text": [
      "  Epoch 360/500 | Train Loss: 11.6438 | Val Loss: 8.3340 | Val MAE: 8.334\n"
     ]
    },
    {
     "name": "stderr",
     "output_type": "stream",
     "text": [
      "                                                                              \r"
     ]
    },
    {
     "name": "stdout",
     "output_type": "stream",
     "text": [
      "  Epoch 370/500 | Train Loss: 11.6510 | Val Loss: 8.3516 | Val MAE: 8.352\n"
     ]
    },
    {
     "name": "stderr",
     "output_type": "stream",
     "text": [
      "                                                                              \r"
     ]
    },
    {
     "name": "stdout",
     "output_type": "stream",
     "text": [
      "  Epoch 380/500 | Train Loss: 11.5846 | Val Loss: 8.2633 | Val MAE: 8.263\n"
     ]
    },
    {
     "name": "stderr",
     "output_type": "stream",
     "text": [
      "                                                                              \r"
     ]
    },
    {
     "name": "stdout",
     "output_type": "stream",
     "text": [
      "  Epoch 390/500 | Train Loss: 11.3856 | Val Loss: 8.3118 | Val MAE: 8.312\n"
     ]
    },
    {
     "name": "stderr",
     "output_type": "stream",
     "text": [
      "                                                                              \r"
     ]
    },
    {
     "name": "stdout",
     "output_type": "stream",
     "text": [
      "  Epoch 400/500 | Train Loss: 11.5109 | Val Loss: 8.3460 | Val MAE: 8.346\n"
     ]
    },
    {
     "name": "stderr",
     "output_type": "stream",
     "text": [
      "                                                                              \r"
     ]
    },
    {
     "name": "stdout",
     "output_type": "stream",
     "text": [
      "  Epoch 410/500 | Train Loss: 11.2824 | Val Loss: 8.2802 | Val MAE: 8.280\n"
     ]
    },
    {
     "name": "stderr",
     "output_type": "stream",
     "text": [
      "                                                                              \r"
     ]
    },
    {
     "name": "stdout",
     "output_type": "stream",
     "text": [
      "  Epoch 420/500 | Train Loss: 11.3448 | Val Loss: 8.2299 | Val MAE: 8.230\n"
     ]
    },
    {
     "name": "stderr",
     "output_type": "stream",
     "text": [
      "                                                                              \r"
     ]
    },
    {
     "name": "stdout",
     "output_type": "stream",
     "text": [
      "  Epoch 430/500 | Train Loss: 11.2119 | Val Loss: 8.1340 | Val MAE: 8.134\n"
     ]
    },
    {
     "name": "stderr",
     "output_type": "stream",
     "text": [
      "                                                                              \r"
     ]
    },
    {
     "name": "stdout",
     "output_type": "stream",
     "text": [
      "  Epoch 440/500 | Train Loss: 11.2818 | Val Loss: 8.1158 | Val MAE: 8.116\n"
     ]
    },
    {
     "name": "stderr",
     "output_type": "stream",
     "text": [
      "                                                                              \r"
     ]
    },
    {
     "name": "stdout",
     "output_type": "stream",
     "text": [
      "  Epoch 450/500 | Train Loss: 10.9944 | Val Loss: 8.0956 | Val MAE: 8.096\n"
     ]
    },
    {
     "name": "stderr",
     "output_type": "stream",
     "text": [
      "                                                                              \r"
     ]
    },
    {
     "name": "stdout",
     "output_type": "stream",
     "text": [
      "  Epoch 460/500 | Train Loss: 11.0874 | Val Loss: 8.0974 | Val MAE: 8.097\n"
     ]
    },
    {
     "name": "stderr",
     "output_type": "stream",
     "text": [
      "                                                                              \r"
     ]
    },
    {
     "name": "stdout",
     "output_type": "stream",
     "text": [
      "  Epoch 470/500 | Train Loss: 11.2463 | Val Loss: 8.0677 | Val MAE: 8.068\n"
     ]
    },
    {
     "name": "stderr",
     "output_type": "stream",
     "text": [
      "                                                                              \r"
     ]
    },
    {
     "name": "stdout",
     "output_type": "stream",
     "text": [
      "  Epoch 480/500 | Train Loss: 11.1085 | Val Loss: 8.2142 | Val MAE: 8.214\n"
     ]
    },
    {
     "name": "stderr",
     "output_type": "stream",
     "text": [
      "                                                                              \r"
     ]
    },
    {
     "name": "stdout",
     "output_type": "stream",
     "text": [
      "  Epoch 490/500 | Train Loss: 10.9677 | Val Loss: 8.0396 | Val MAE: 8.040\n"
     ]
    },
    {
     "name": "stderr",
     "output_type": "stream",
     "text": [
      "                                                                              \r"
     ]
    },
    {
     "name": "stdout",
     "output_type": "stream",
     "text": [
      "  Epoch 500/500 | Train Loss: 11.0914 | Val Loss: 8.0769 | Val MAE: 8.077\n",
      "--- Run 3 Finished for MLP_3Layer (Time: 396.35s) ---\n",
      "  Best Validation MAE: 8.007 at epoch 496\n"
     ]
    },
    {
     "name": "stderr",
     "output_type": "stream",
     "text": [
      "                                                                               \r"
     ]
    },
    {
     "name": "stdout",
     "output_type": "stream",
     "text": [
      "  Test MAE for Run 3: 8.735\n",
      "\n",
      "--- Starting Run 4/5 for Model: MLP_3Layer ---\n",
      "Set random seed to 3\n"
     ]
    },
    {
     "name": "stderr",
     "output_type": "stream",
     "text": [
      "                                                                              \r"
     ]
    },
    {
     "name": "stdout",
     "output_type": "stream",
     "text": [
      "  Epoch 1/500 | Train Loss: 54.3265 | Val Loss: 53.5280 | Val MAE: 53.528\n"
     ]
    },
    {
     "name": "stderr",
     "output_type": "stream",
     "text": [
      "                                                                              \r"
     ]
    },
    {
     "name": "stdout",
     "output_type": "stream",
     "text": [
      "  Epoch 10/500 | Train Loss: 20.0389 | Val Loss: 17.8929 | Val MAE: 17.893\n"
     ]
    },
    {
     "name": "stderr",
     "output_type": "stream",
     "text": [
      "                                                                              \r"
     ]
    },
    {
     "name": "stdout",
     "output_type": "stream",
     "text": [
      "  Epoch 20/500 | Train Loss: 19.2296 | Val Loss: 17.1059 | Val MAE: 17.106\n"
     ]
    },
    {
     "name": "stderr",
     "output_type": "stream",
     "text": [
      "                                                                              \r"
     ]
    },
    {
     "name": "stdout",
     "output_type": "stream",
     "text": [
      "  Epoch 30/500 | Train Loss: 18.2170 | Val Loss: 16.2268 | Val MAE: 16.227\n"
     ]
    },
    {
     "name": "stderr",
     "output_type": "stream",
     "text": [
      "                                                                              \r"
     ]
    },
    {
     "name": "stdout",
     "output_type": "stream",
     "text": [
      "  Epoch 40/500 | Train Loss: 16.9669 | Val Loss: 14.9304 | Val MAE: 14.930\n"
     ]
    },
    {
     "name": "stderr",
     "output_type": "stream",
     "text": [
      "                                                                              \r"
     ]
    },
    {
     "name": "stdout",
     "output_type": "stream",
     "text": [
      "  Epoch 50/500 | Train Loss: 15.9436 | Val Loss: 13.4961 | Val MAE: 13.496\n"
     ]
    },
    {
     "name": "stderr",
     "output_type": "stream",
     "text": [
      "                                                                              \r"
     ]
    },
    {
     "name": "stdout",
     "output_type": "stream",
     "text": [
      "  Epoch 60/500 | Train Loss: 14.7363 | Val Loss: 12.4784 | Val MAE: 12.478\n"
     ]
    },
    {
     "name": "stderr",
     "output_type": "stream",
     "text": [
      "                                                                              \r"
     ]
    },
    {
     "name": "stdout",
     "output_type": "stream",
     "text": [
      "  Epoch 70/500 | Train Loss: 14.4596 | Val Loss: 11.8669 | Val MAE: 11.867\n"
     ]
    },
    {
     "name": "stderr",
     "output_type": "stream",
     "text": [
      "                                                                              \r"
     ]
    },
    {
     "name": "stdout",
     "output_type": "stream",
     "text": [
      "  Epoch 80/500 | Train Loss: 14.0185 | Val Loss: 11.5263 | Val MAE: 11.526\n"
     ]
    },
    {
     "name": "stderr",
     "output_type": "stream",
     "text": [
      "                                                                              \r"
     ]
    },
    {
     "name": "stdout",
     "output_type": "stream",
     "text": [
      "  Epoch 90/500 | Train Loss: 14.1494 | Val Loss: 11.2477 | Val MAE: 11.248\n"
     ]
    },
    {
     "name": "stderr",
     "output_type": "stream",
     "text": [
      "                                                                              \r"
     ]
    },
    {
     "name": "stdout",
     "output_type": "stream",
     "text": [
      "  Epoch 100/500 | Train Loss: 13.5642 | Val Loss: 10.8833 | Val MAE: 10.883\n"
     ]
    },
    {
     "name": "stderr",
     "output_type": "stream",
     "text": [
      "                                                                              \r"
     ]
    },
    {
     "name": "stdout",
     "output_type": "stream",
     "text": [
      "  Epoch 110/500 | Train Loss: 13.6529 | Val Loss: 10.7277 | Val MAE: 10.728\n"
     ]
    },
    {
     "name": "stderr",
     "output_type": "stream",
     "text": [
      "                                                                              \r"
     ]
    },
    {
     "name": "stdout",
     "output_type": "stream",
     "text": [
      "  Epoch 120/500 | Train Loss: 13.3398 | Val Loss: 10.5860 | Val MAE: 10.586\n"
     ]
    },
    {
     "name": "stderr",
     "output_type": "stream",
     "text": [
      "                                                                              \r"
     ]
    },
    {
     "name": "stdout",
     "output_type": "stream",
     "text": [
      "  Epoch 130/500 | Train Loss: 13.1529 | Val Loss: 10.1378 | Val MAE: 10.138\n"
     ]
    },
    {
     "name": "stderr",
     "output_type": "stream",
     "text": [
      "                                                                              \r"
     ]
    },
    {
     "name": "stdout",
     "output_type": "stream",
     "text": [
      "  Epoch 140/500 | Train Loss: 12.8433 | Val Loss: 10.2436 | Val MAE: 10.244\n"
     ]
    },
    {
     "name": "stderr",
     "output_type": "stream",
     "text": [
      "                                                                              \r"
     ]
    },
    {
     "name": "stdout",
     "output_type": "stream",
     "text": [
      "  Epoch 150/500 | Train Loss: 12.7490 | Val Loss: 9.9059 | Val MAE: 9.906\n"
     ]
    },
    {
     "name": "stderr",
     "output_type": "stream",
     "text": [
      "                                                                              \r"
     ]
    },
    {
     "name": "stdout",
     "output_type": "stream",
     "text": [
      "  Epoch 160/500 | Train Loss: 12.7188 | Val Loss: 9.8137 | Val MAE: 9.814\n"
     ]
    },
    {
     "name": "stderr",
     "output_type": "stream",
     "text": [
      "                                                                              \r"
     ]
    },
    {
     "name": "stdout",
     "output_type": "stream",
     "text": [
      "  Epoch 170/500 | Train Loss: 12.6498 | Val Loss: 9.7063 | Val MAE: 9.706\n"
     ]
    },
    {
     "name": "stderr",
     "output_type": "stream",
     "text": [
      "                                                                              \r"
     ]
    },
    {
     "name": "stdout",
     "output_type": "stream",
     "text": [
      "  Epoch 180/500 | Train Loss: 12.4875 | Val Loss: 9.9614 | Val MAE: 9.961\n"
     ]
    },
    {
     "name": "stderr",
     "output_type": "stream",
     "text": [
      "                                                                              \r"
     ]
    },
    {
     "name": "stdout",
     "output_type": "stream",
     "text": [
      "  Epoch 190/500 | Train Loss: 12.4725 | Val Loss: 9.3352 | Val MAE: 9.335\n"
     ]
    },
    {
     "name": "stderr",
     "output_type": "stream",
     "text": [
      "                                                                              \r"
     ]
    },
    {
     "name": "stdout",
     "output_type": "stream",
     "text": [
      "  Epoch 200/500 | Train Loss: 12.5619 | Val Loss: 9.2877 | Val MAE: 9.288\n"
     ]
    },
    {
     "name": "stderr",
     "output_type": "stream",
     "text": [
      "                                                                              \r"
     ]
    },
    {
     "name": "stdout",
     "output_type": "stream",
     "text": [
      "  Epoch 210/500 | Train Loss: 12.2213 | Val Loss: 9.1980 | Val MAE: 9.198\n"
     ]
    },
    {
     "name": "stderr",
     "output_type": "stream",
     "text": [
      "                                                                              \r"
     ]
    },
    {
     "name": "stdout",
     "output_type": "stream",
     "text": [
      "  Epoch 220/500 | Train Loss: 12.0009 | Val Loss: 9.0976 | Val MAE: 9.098\n"
     ]
    },
    {
     "name": "stderr",
     "output_type": "stream",
     "text": [
      "                                                                              \r"
     ]
    },
    {
     "name": "stdout",
     "output_type": "stream",
     "text": [
      "  Epoch 230/500 | Train Loss: 12.0319 | Val Loss: 8.9522 | Val MAE: 8.952\n"
     ]
    },
    {
     "name": "stderr",
     "output_type": "stream",
     "text": [
      "                                                                              \r"
     ]
    },
    {
     "name": "stdout",
     "output_type": "stream",
     "text": [
      "  Epoch 240/500 | Train Loss: 11.9876 | Val Loss: 8.9567 | Val MAE: 8.957\n"
     ]
    },
    {
     "name": "stderr",
     "output_type": "stream",
     "text": [
      "                                                                              \r"
     ]
    },
    {
     "name": "stdout",
     "output_type": "stream",
     "text": [
      "  Epoch 250/500 | Train Loss: 11.9641 | Val Loss: 8.9969 | Val MAE: 8.997\n"
     ]
    },
    {
     "name": "stderr",
     "output_type": "stream",
     "text": [
      "                                                                              \r"
     ]
    },
    {
     "name": "stdout",
     "output_type": "stream",
     "text": [
      "  Epoch 260/500 | Train Loss: 11.4501 | Val Loss: 8.7603 | Val MAE: 8.760\n"
     ]
    },
    {
     "name": "stderr",
     "output_type": "stream",
     "text": [
      "                                                                              \r"
     ]
    },
    {
     "name": "stdout",
     "output_type": "stream",
     "text": [
      "  Epoch 270/500 | Train Loss: 11.8132 | Val Loss: 8.8183 | Val MAE: 8.818\n"
     ]
    },
    {
     "name": "stderr",
     "output_type": "stream",
     "text": [
      "                                                                              \r"
     ]
    },
    {
     "name": "stdout",
     "output_type": "stream",
     "text": [
      "  Epoch 280/500 | Train Loss: 11.8056 | Val Loss: 8.7474 | Val MAE: 8.747\n"
     ]
    },
    {
     "name": "stderr",
     "output_type": "stream",
     "text": [
      "                                                                              \r"
     ]
    },
    {
     "name": "stdout",
     "output_type": "stream",
     "text": [
      "  Epoch 290/500 | Train Loss: 11.6747 | Val Loss: 8.6170 | Val MAE: 8.617\n"
     ]
    },
    {
     "name": "stderr",
     "output_type": "stream",
     "text": [
      "                                                                              \r"
     ]
    },
    {
     "name": "stdout",
     "output_type": "stream",
     "text": [
      "  Epoch 300/500 | Train Loss: 11.4496 | Val Loss: 8.5514 | Val MAE: 8.551\n"
     ]
    },
    {
     "name": "stderr",
     "output_type": "stream",
     "text": [
      "                                                                              \r"
     ]
    },
    {
     "name": "stdout",
     "output_type": "stream",
     "text": [
      "  Epoch 310/500 | Train Loss: 11.4736 | Val Loss: 8.6496 | Val MAE: 8.650\n"
     ]
    },
    {
     "name": "stderr",
     "output_type": "stream",
     "text": [
      "                                                                              \r"
     ]
    },
    {
     "name": "stdout",
     "output_type": "stream",
     "text": [
      "  Epoch 320/500 | Train Loss: 12.0691 | Val Loss: 8.4623 | Val MAE: 8.462\n"
     ]
    },
    {
     "name": "stderr",
     "output_type": "stream",
     "text": [
      "                                                                              \r"
     ]
    },
    {
     "name": "stdout",
     "output_type": "stream",
     "text": [
      "  Epoch 330/500 | Train Loss: 11.5678 | Val Loss: 8.4162 | Val MAE: 8.416\n"
     ]
    },
    {
     "name": "stderr",
     "output_type": "stream",
     "text": [
      "                                                                              \r"
     ]
    },
    {
     "name": "stdout",
     "output_type": "stream",
     "text": [
      "  Epoch 340/500 | Train Loss: 11.3904 | Val Loss: 8.4654 | Val MAE: 8.465\n"
     ]
    },
    {
     "name": "stderr",
     "output_type": "stream",
     "text": [
      "                                                                              \r"
     ]
    },
    {
     "name": "stdout",
     "output_type": "stream",
     "text": [
      "  Epoch 350/500 | Train Loss: 11.4012 | Val Loss: 8.4011 | Val MAE: 8.401\n"
     ]
    },
    {
     "name": "stderr",
     "output_type": "stream",
     "text": [
      "                                                                              \r"
     ]
    },
    {
     "name": "stdout",
     "output_type": "stream",
     "text": [
      "  Epoch 360/500 | Train Loss: 11.3943 | Val Loss: 8.3880 | Val MAE: 8.388\n"
     ]
    },
    {
     "name": "stderr",
     "output_type": "stream",
     "text": [
      "                                                                              \r"
     ]
    },
    {
     "name": "stdout",
     "output_type": "stream",
     "text": [
      "  Epoch 370/500 | Train Loss: 11.1997 | Val Loss: 8.2768 | Val MAE: 8.277\n"
     ]
    },
    {
     "name": "stderr",
     "output_type": "stream",
     "text": [
      "                                                                              \r"
     ]
    },
    {
     "name": "stdout",
     "output_type": "stream",
     "text": [
      "  Epoch 380/500 | Train Loss: 11.3898 | Val Loss: 8.3395 | Val MAE: 8.339\n"
     ]
    },
    {
     "name": "stderr",
     "output_type": "stream",
     "text": [
      "                                                                              \r"
     ]
    },
    {
     "name": "stdout",
     "output_type": "stream",
     "text": [
      "  Epoch 390/500 | Train Loss: 11.4090 | Val Loss: 8.3318 | Val MAE: 8.332\n"
     ]
    },
    {
     "name": "stderr",
     "output_type": "stream",
     "text": [
      "                                                                              \r"
     ]
    },
    {
     "name": "stdout",
     "output_type": "stream",
     "text": [
      "  Epoch 400/500 | Train Loss: 11.1823 | Val Loss: 8.1958 | Val MAE: 8.196\n"
     ]
    },
    {
     "name": "stderr",
     "output_type": "stream",
     "text": [
      "                                                                              \r"
     ]
    },
    {
     "name": "stdout",
     "output_type": "stream",
     "text": [
      "  Epoch 410/500 | Train Loss: 10.8920 | Val Loss: 8.1720 | Val MAE: 8.172\n"
     ]
    },
    {
     "name": "stderr",
     "output_type": "stream",
     "text": [
      "                                                                              \r"
     ]
    },
    {
     "name": "stdout",
     "output_type": "stream",
     "text": [
      "  Epoch 420/500 | Train Loss: 11.0571 | Val Loss: 8.1442 | Val MAE: 8.144\n"
     ]
    },
    {
     "name": "stderr",
     "output_type": "stream",
     "text": [
      "                                                                              \r"
     ]
    },
    {
     "name": "stdout",
     "output_type": "stream",
     "text": [
      "  Epoch 430/500 | Train Loss: 11.0473 | Val Loss: 8.1946 | Val MAE: 8.195\n"
     ]
    },
    {
     "name": "stderr",
     "output_type": "stream",
     "text": [
      "                                                                              \r"
     ]
    },
    {
     "name": "stdout",
     "output_type": "stream",
     "text": [
      "  Epoch 440/500 | Train Loss: 11.2062 | Val Loss: 8.2639 | Val MAE: 8.264\n"
     ]
    },
    {
     "name": "stderr",
     "output_type": "stream",
     "text": [
      "                                                                              \r"
     ]
    },
    {
     "name": "stdout",
     "output_type": "stream",
     "text": [
      "  Epoch 450/500 | Train Loss: 11.2053 | Val Loss: 8.0910 | Val MAE: 8.091\n"
     ]
    },
    {
     "name": "stderr",
     "output_type": "stream",
     "text": [
      "                                                                              \r"
     ]
    },
    {
     "name": "stdout",
     "output_type": "stream",
     "text": [
      "  Epoch 460/500 | Train Loss: 11.0798 | Val Loss: 8.1233 | Val MAE: 8.123\n"
     ]
    },
    {
     "name": "stderr",
     "output_type": "stream",
     "text": [
      "                                                                              \r"
     ]
    },
    {
     "name": "stdout",
     "output_type": "stream",
     "text": [
      "  Epoch 470/500 | Train Loss: 10.8079 | Val Loss: 8.0468 | Val MAE: 8.047\n"
     ]
    },
    {
     "name": "stderr",
     "output_type": "stream",
     "text": [
      "                                                                              \r"
     ]
    },
    {
     "name": "stdout",
     "output_type": "stream",
     "text": [
      "  Epoch 480/500 | Train Loss: 10.8798 | Val Loss: 8.0327 | Val MAE: 8.033\n"
     ]
    },
    {
     "name": "stderr",
     "output_type": "stream",
     "text": [
      "                                                                              \r"
     ]
    },
    {
     "name": "stdout",
     "output_type": "stream",
     "text": [
      "  Epoch 490/500 | Train Loss: 10.7964 | Val Loss: 8.0544 | Val MAE: 8.054\n"
     ]
    },
    {
     "name": "stderr",
     "output_type": "stream",
     "text": [
      "                                                                              \r"
     ]
    },
    {
     "name": "stdout",
     "output_type": "stream",
     "text": [
      "  Epoch 500/500 | Train Loss: 10.7091 | Val Loss: 8.0211 | Val MAE: 8.021\n",
      "--- Run 4 Finished for MLP_3Layer (Time: 381.06s) ---\n",
      "  Best Validation MAE: 7.981 at epoch 499\n"
     ]
    },
    {
     "name": "stderr",
     "output_type": "stream",
     "text": [
      "                                                                               \r"
     ]
    },
    {
     "name": "stdout",
     "output_type": "stream",
     "text": [
      "  Test MAE for Run 4: 8.772\n",
      "\n",
      "--- Starting Run 5/5 for Model: MLP_3Layer ---\n",
      "Set random seed to 4\n"
     ]
    },
    {
     "name": "stderr",
     "output_type": "stream",
     "text": [
      "                                                                              \r"
     ]
    },
    {
     "name": "stdout",
     "output_type": "stream",
     "text": [
      "  Epoch 1/500 | Train Loss: 54.2271 | Val Loss: 53.4739 | Val MAE: 53.474\n"
     ]
    },
    {
     "name": "stderr",
     "output_type": "stream",
     "text": [
      "                                                                              \r"
     ]
    },
    {
     "name": "stdout",
     "output_type": "stream",
     "text": [
      "  Epoch 10/500 | Train Loss: 20.3900 | Val Loss: 17.9486 | Val MAE: 17.949\n"
     ]
    },
    {
     "name": "stderr",
     "output_type": "stream",
     "text": [
      "                                                                              \r"
     ]
    },
    {
     "name": "stdout",
     "output_type": "stream",
     "text": [
      "  Epoch 20/500 | Train Loss: 19.6048 | Val Loss: 17.3208 | Val MAE: 17.321\n"
     ]
    },
    {
     "name": "stderr",
     "output_type": "stream",
     "text": [
      "                                                                              \r"
     ]
    },
    {
     "name": "stdout",
     "output_type": "stream",
     "text": [
      "  Epoch 30/500 | Train Loss: 18.9046 | Val Loss: 16.5328 | Val MAE: 16.533\n"
     ]
    },
    {
     "name": "stderr",
     "output_type": "stream",
     "text": [
      "                                                                              \r"
     ]
    },
    {
     "name": "stdout",
     "output_type": "stream",
     "text": [
      "  Epoch 40/500 | Train Loss: 17.9354 | Val Loss: 15.3734 | Val MAE: 15.373\n"
     ]
    },
    {
     "name": "stderr",
     "output_type": "stream",
     "text": [
      "                                                                              \r"
     ]
    },
    {
     "name": "stdout",
     "output_type": "stream",
     "text": [
      "  Epoch 50/500 | Train Loss: 16.8631 | Val Loss: 13.9355 | Val MAE: 13.936\n"
     ]
    },
    {
     "name": "stderr",
     "output_type": "stream",
     "text": [
      "                                                                              \r"
     ]
    },
    {
     "name": "stdout",
     "output_type": "stream",
     "text": [
      "  Epoch 60/500 | Train Loss: 15.8517 | Val Loss: 12.8076 | Val MAE: 12.808\n"
     ]
    },
    {
     "name": "stderr",
     "output_type": "stream",
     "text": [
      "                                                                              \r"
     ]
    },
    {
     "name": "stdout",
     "output_type": "stream",
     "text": [
      "  Epoch 70/500 | Train Loss: 15.0338 | Val Loss: 12.3331 | Val MAE: 12.333\n"
     ]
    },
    {
     "name": "stderr",
     "output_type": "stream",
     "text": [
      "                                                                              \r"
     ]
    },
    {
     "name": "stdout",
     "output_type": "stream",
     "text": [
      "  Epoch 80/500 | Train Loss: 14.8103 | Val Loss: 11.7303 | Val MAE: 11.730\n"
     ]
    },
    {
     "name": "stderr",
     "output_type": "stream",
     "text": [
      "                                                                              \r"
     ]
    },
    {
     "name": "stdout",
     "output_type": "stream",
     "text": [
      "  Epoch 90/500 | Train Loss: 14.5733 | Val Loss: 11.4753 | Val MAE: 11.475\n"
     ]
    },
    {
     "name": "stderr",
     "output_type": "stream",
     "text": [
      "                                                                              \r"
     ]
    },
    {
     "name": "stdout",
     "output_type": "stream",
     "text": [
      "  Epoch 100/500 | Train Loss: 14.3257 | Val Loss: 11.2304 | Val MAE: 11.230\n"
     ]
    },
    {
     "name": "stderr",
     "output_type": "stream",
     "text": [
      "                                                                              \r"
     ]
    },
    {
     "name": "stdout",
     "output_type": "stream",
     "text": [
      "  Epoch 110/500 | Train Loss: 14.2468 | Val Loss: 11.0264 | Val MAE: 11.026\n"
     ]
    },
    {
     "name": "stderr",
     "output_type": "stream",
     "text": [
      "                                                                              \r"
     ]
    },
    {
     "name": "stdout",
     "output_type": "stream",
     "text": [
      "  Epoch 120/500 | Train Loss: 13.8762 | Val Loss: 10.6420 | Val MAE: 10.642\n"
     ]
    },
    {
     "name": "stderr",
     "output_type": "stream",
     "text": [
      "                                                                              \r"
     ]
    },
    {
     "name": "stdout",
     "output_type": "stream",
     "text": [
      "  Epoch 130/500 | Train Loss: 13.9948 | Val Loss: 10.4906 | Val MAE: 10.491\n"
     ]
    },
    {
     "name": "stderr",
     "output_type": "stream",
     "text": [
      "                                                                              \r"
     ]
    },
    {
     "name": "stdout",
     "output_type": "stream",
     "text": [
      "  Epoch 140/500 | Train Loss: 13.4958 | Val Loss: 10.2488 | Val MAE: 10.249\n"
     ]
    },
    {
     "name": "stderr",
     "output_type": "stream",
     "text": [
      "                                                                              \r"
     ]
    },
    {
     "name": "stdout",
     "output_type": "stream",
     "text": [
      "  Epoch 150/500 | Train Loss: 13.3554 | Val Loss: 10.1379 | Val MAE: 10.138\n"
     ]
    },
    {
     "name": "stderr",
     "output_type": "stream",
     "text": [
      "                                                                              \r"
     ]
    },
    {
     "name": "stdout",
     "output_type": "stream",
     "text": [
      "  Epoch 160/500 | Train Loss: 13.5019 | Val Loss: 9.9668 | Val MAE: 9.967\n"
     ]
    },
    {
     "name": "stderr",
     "output_type": "stream",
     "text": [
      "                                                                              \r"
     ]
    },
    {
     "name": "stdout",
     "output_type": "stream",
     "text": [
      "  Epoch 170/500 | Train Loss: 13.0958 | Val Loss: 10.0242 | Val MAE: 10.024\n"
     ]
    },
    {
     "name": "stderr",
     "output_type": "stream",
     "text": [
      "                                                                              \r"
     ]
    },
    {
     "name": "stdout",
     "output_type": "stream",
     "text": [
      "  Epoch 180/500 | Train Loss: 13.1005 | Val Loss: 9.7145 | Val MAE: 9.715\n"
     ]
    },
    {
     "name": "stderr",
     "output_type": "stream",
     "text": [
      "                                                                              \r"
     ]
    },
    {
     "name": "stdout",
     "output_type": "stream",
     "text": [
      "  Epoch 190/500 | Train Loss: 13.2296 | Val Loss: 9.7004 | Val MAE: 9.700\n"
     ]
    },
    {
     "name": "stderr",
     "output_type": "stream",
     "text": [
      "                                                                              \r"
     ]
    },
    {
     "name": "stdout",
     "output_type": "stream",
     "text": [
      "  Epoch 200/500 | Train Loss: 13.0151 | Val Loss: 9.9263 | Val MAE: 9.926\n"
     ]
    },
    {
     "name": "stderr",
     "output_type": "stream",
     "text": [
      "                                                                              \r"
     ]
    },
    {
     "name": "stdout",
     "output_type": "stream",
     "text": [
      "  Epoch 210/500 | Train Loss: 12.7658 | Val Loss: 9.4151 | Val MAE: 9.415\n"
     ]
    },
    {
     "name": "stderr",
     "output_type": "stream",
     "text": [
      "                                                                              \r"
     ]
    },
    {
     "name": "stdout",
     "output_type": "stream",
     "text": [
      "  Epoch 220/500 | Train Loss: 12.9966 | Val Loss: 9.1973 | Val MAE: 9.197\n"
     ]
    },
    {
     "name": "stderr",
     "output_type": "stream",
     "text": [
      "                                                                              \r"
     ]
    },
    {
     "name": "stdout",
     "output_type": "stream",
     "text": [
      "  Epoch 230/500 | Train Loss: 12.5445 | Val Loss: 9.1594 | Val MAE: 9.159\n"
     ]
    },
    {
     "name": "stderr",
     "output_type": "stream",
     "text": [
      "                                                                              \r"
     ]
    },
    {
     "name": "stdout",
     "output_type": "stream",
     "text": [
      "  Epoch 240/500 | Train Loss: 12.4653 | Val Loss: 9.1228 | Val MAE: 9.123\n"
     ]
    },
    {
     "name": "stderr",
     "output_type": "stream",
     "text": [
      "                                                                              \r"
     ]
    },
    {
     "name": "stdout",
     "output_type": "stream",
     "text": [
      "  Epoch 250/500 | Train Loss: 12.7366 | Val Loss: 8.9150 | Val MAE: 8.915\n"
     ]
    },
    {
     "name": "stderr",
     "output_type": "stream",
     "text": [
      "                                                                              \r"
     ]
    },
    {
     "name": "stdout",
     "output_type": "stream",
     "text": [
      "  Epoch 260/500 | Train Loss: 12.4648 | Val Loss: 9.2807 | Val MAE: 9.281\n"
     ]
    },
    {
     "name": "stderr",
     "output_type": "stream",
     "text": [
      "                                                                              \r"
     ]
    },
    {
     "name": "stdout",
     "output_type": "stream",
     "text": [
      "  Epoch 270/500 | Train Loss: 12.2144 | Val Loss: 8.8109 | Val MAE: 8.811\n"
     ]
    },
    {
     "name": "stderr",
     "output_type": "stream",
     "text": [
      "                                                                              \r"
     ]
    },
    {
     "name": "stdout",
     "output_type": "stream",
     "text": [
      "  Epoch 280/500 | Train Loss: 12.1530 | Val Loss: 8.7848 | Val MAE: 8.785\n"
     ]
    },
    {
     "name": "stderr",
     "output_type": "stream",
     "text": [
      "                                                                              \r"
     ]
    },
    {
     "name": "stdout",
     "output_type": "stream",
     "text": [
      "  Epoch 290/500 | Train Loss: 12.0385 | Val Loss: 8.9959 | Val MAE: 8.996\n"
     ]
    },
    {
     "name": "stderr",
     "output_type": "stream",
     "text": [
      "                                                                              \r"
     ]
    },
    {
     "name": "stdout",
     "output_type": "stream",
     "text": [
      "  Epoch 300/500 | Train Loss: 11.9517 | Val Loss: 8.7197 | Val MAE: 8.720\n"
     ]
    },
    {
     "name": "stderr",
     "output_type": "stream",
     "text": [
      "                                                                              \r"
     ]
    },
    {
     "name": "stdout",
     "output_type": "stream",
     "text": [
      "  Epoch 310/500 | Train Loss: 11.9627 | Val Loss: 8.6279 | Val MAE: 8.628\n"
     ]
    },
    {
     "name": "stderr",
     "output_type": "stream",
     "text": [
      "                                                                              \r"
     ]
    },
    {
     "name": "stdout",
     "output_type": "stream",
     "text": [
      "  Epoch 320/500 | Train Loss: 12.1767 | Val Loss: 8.7827 | Val MAE: 8.783\n"
     ]
    },
    {
     "name": "stderr",
     "output_type": "stream",
     "text": [
      "                                                                              \r"
     ]
    },
    {
     "name": "stdout",
     "output_type": "stream",
     "text": [
      "  Epoch 330/500 | Train Loss: 12.1228 | Val Loss: 8.4993 | Val MAE: 8.499\n"
     ]
    },
    {
     "name": "stderr",
     "output_type": "stream",
     "text": [
      "                                                                              \r"
     ]
    },
    {
     "name": "stdout",
     "output_type": "stream",
     "text": [
      "  Epoch 340/500 | Train Loss: 12.0133 | Val Loss: 8.6733 | Val MAE: 8.673\n"
     ]
    },
    {
     "name": "stderr",
     "output_type": "stream",
     "text": [
      "                                                                              \r"
     ]
    },
    {
     "name": "stdout",
     "output_type": "stream",
     "text": [
      "  Epoch 350/500 | Train Loss: 11.6906 | Val Loss: 8.5172 | Val MAE: 8.517\n"
     ]
    },
    {
     "name": "stderr",
     "output_type": "stream",
     "text": [
      "                                                                              \r"
     ]
    },
    {
     "name": "stdout",
     "output_type": "stream",
     "text": [
      "  Epoch 360/500 | Train Loss: 11.8091 | Val Loss: 8.4348 | Val MAE: 8.435\n"
     ]
    },
    {
     "name": "stderr",
     "output_type": "stream",
     "text": [
      "                                                                              \r"
     ]
    },
    {
     "name": "stdout",
     "output_type": "stream",
     "text": [
      "  Epoch 370/500 | Train Loss: 11.7444 | Val Loss: 8.4118 | Val MAE: 8.412\n"
     ]
    },
    {
     "name": "stderr",
     "output_type": "stream",
     "text": [
      "                                                                              \r"
     ]
    },
    {
     "name": "stdout",
     "output_type": "stream",
     "text": [
      "  Epoch 380/500 | Train Loss: 12.0673 | Val Loss: 8.3038 | Val MAE: 8.304\n"
     ]
    },
    {
     "name": "stderr",
     "output_type": "stream",
     "text": [
      "                                                                              \r"
     ]
    },
    {
     "name": "stdout",
     "output_type": "stream",
     "text": [
      "  Epoch 390/500 | Train Loss: 11.9998 | Val Loss: 8.4047 | Val MAE: 8.405\n"
     ]
    },
    {
     "name": "stderr",
     "output_type": "stream",
     "text": [
      "                                                                              \r"
     ]
    },
    {
     "name": "stdout",
     "output_type": "stream",
     "text": [
      "  Epoch 400/500 | Train Loss: 11.5883 | Val Loss: 8.4383 | Val MAE: 8.438\n"
     ]
    },
    {
     "name": "stderr",
     "output_type": "stream",
     "text": [
      "                                                                              \r"
     ]
    },
    {
     "name": "stdout",
     "output_type": "stream",
     "text": [
      "  Epoch 410/500 | Train Loss: 11.5894 | Val Loss: 8.2544 | Val MAE: 8.254\n"
     ]
    },
    {
     "name": "stderr",
     "output_type": "stream",
     "text": [
      "                                                                              \r"
     ]
    },
    {
     "name": "stdout",
     "output_type": "stream",
     "text": [
      "  Epoch 420/500 | Train Loss: 11.7010 | Val Loss: 8.2423 | Val MAE: 8.242\n"
     ]
    },
    {
     "name": "stderr",
     "output_type": "stream",
     "text": [
      "                                                                              \r"
     ]
    },
    {
     "name": "stdout",
     "output_type": "stream",
     "text": [
      "  Epoch 430/500 | Train Loss: 11.3987 | Val Loss: 8.3524 | Val MAE: 8.352\n"
     ]
    },
    {
     "name": "stderr",
     "output_type": "stream",
     "text": [
      "                                                                              \r"
     ]
    },
    {
     "name": "stdout",
     "output_type": "stream",
     "text": [
      "  Epoch 440/500 | Train Loss: 11.5313 | Val Loss: 8.1710 | Val MAE: 8.171\n"
     ]
    },
    {
     "name": "stderr",
     "output_type": "stream",
     "text": [
      "                                                                              \r"
     ]
    },
    {
     "name": "stdout",
     "output_type": "stream",
     "text": [
      "  Epoch 450/500 | Train Loss: 11.8146 | Val Loss: 8.1938 | Val MAE: 8.194\n"
     ]
    },
    {
     "name": "stderr",
     "output_type": "stream",
     "text": [
      "                                                                              \r"
     ]
    },
    {
     "name": "stdout",
     "output_type": "stream",
     "text": [
      "  Epoch 460/500 | Train Loss: 11.3079 | Val Loss: 8.0922 | Val MAE: 8.092\n"
     ]
    },
    {
     "name": "stderr",
     "output_type": "stream",
     "text": [
      "                                                                              \r"
     ]
    },
    {
     "name": "stdout",
     "output_type": "stream",
     "text": [
      "  Epoch 470/500 | Train Loss: 11.4124 | Val Loss: 8.0748 | Val MAE: 8.075\n"
     ]
    },
    {
     "name": "stderr",
     "output_type": "stream",
     "text": [
      "                                                                              \r"
     ]
    },
    {
     "name": "stdout",
     "output_type": "stream",
     "text": [
      "  Epoch 480/500 | Train Loss: 11.2977 | Val Loss: 8.0699 | Val MAE: 8.070\n"
     ]
    },
    {
     "name": "stderr",
     "output_type": "stream",
     "text": [
      "                                                                              \r"
     ]
    },
    {
     "name": "stdout",
     "output_type": "stream",
     "text": [
      "  Epoch 490/500 | Train Loss: 11.0848 | Val Loss: 8.0390 | Val MAE: 8.039\n"
     ]
    },
    {
     "name": "stderr",
     "output_type": "stream",
     "text": [
      "                                                                              \r"
     ]
    },
    {
     "name": "stdout",
     "output_type": "stream",
     "text": [
      "  Epoch 500/500 | Train Loss: 11.4289 | Val Loss: 8.0573 | Val MAE: 8.057\n",
      "--- Run 5 Finished for MLP_3Layer (Time: 387.63s) ---\n",
      "  Best Validation MAE: 7.995 at epoch 493\n"
     ]
    },
    {
     "name": "stderr",
     "output_type": "stream",
     "text": [
      "                                                                               \r"
     ]
    },
    {
     "name": "stdout",
     "output_type": "stream",
     "text": [
      "  Test MAE for Run 5: 8.787\n",
      "========================= Finished Testing Model: MLP_3Layer =========================\n",
      "\n",
      "========================= Testing Model: MLP_3Layer_AttentionBN (5 runs) =========================\n",
      "\n",
      "--- Starting Run 1/5 for Model: MLP_3Layer_AttentionBN ---\n",
      "Set random seed to 0\n"
     ]
    },
    {
     "name": "stderr",
     "output_type": "stream",
     "text": [
      "                                                                              \r"
     ]
    },
    {
     "name": "stdout",
     "output_type": "stream",
     "text": [
      "  Epoch 1/500 | Train Loss: 54.5143 | Val Loss: 53.7179 | Val MAE: 53.718\n"
     ]
    },
    {
     "name": "stderr",
     "output_type": "stream",
     "text": [
      "                                                                              \r"
     ]
    },
    {
     "name": "stdout",
     "output_type": "stream",
     "text": [
      "  Epoch 10/500 | Train Loss: 53.4221 | Val Loss: 53.0221 | Val MAE: 53.022\n"
     ]
    },
    {
     "name": "stderr",
     "output_type": "stream",
     "text": [
      "                                                                              \r"
     ]
    },
    {
     "name": "stdout",
     "output_type": "stream",
     "text": [
      "  Epoch 20/500 | Train Loss: 51.9781 | Val Loss: 51.7408 | Val MAE: 51.741\n"
     ]
    },
    {
     "name": "stderr",
     "output_type": "stream",
     "text": [
      "                                                                              \r"
     ]
    },
    {
     "name": "stdout",
     "output_type": "stream",
     "text": [
      "  Epoch 30/500 | Train Loss: 49.9888 | Val Loss: 49.7773 | Val MAE: 49.777\n"
     ]
    },
    {
     "name": "stderr",
     "output_type": "stream",
     "text": [
      "                                                                              \r"
     ]
    },
    {
     "name": "stdout",
     "output_type": "stream",
     "text": [
      "  Epoch 40/500 | Train Loss: 47.2690 | Val Loss: 47.1935 | Val MAE: 47.193\n"
     ]
    },
    {
     "name": "stderr",
     "output_type": "stream",
     "text": [
      "                                                                              \r"
     ]
    },
    {
     "name": "stdout",
     "output_type": "stream",
     "text": [
      "  Epoch 50/500 | Train Loss: 43.9849 | Val Loss: 43.3783 | Val MAE: 43.378\n"
     ]
    },
    {
     "name": "stderr",
     "output_type": "stream",
     "text": [
      "                                                                              \r"
     ]
    },
    {
     "name": "stdout",
     "output_type": "stream",
     "text": [
      "  Epoch 60/500 | Train Loss: 40.0860 | Val Loss: 40.0186 | Val MAE: 40.019\n"
     ]
    },
    {
     "name": "stderr",
     "output_type": "stream",
     "text": [
      "                                                                              \r"
     ]
    },
    {
     "name": "stdout",
     "output_type": "stream",
     "text": [
      "  Epoch 70/500 | Train Loss: 35.7736 | Val Loss: 35.1984 | Val MAE: 35.198\n"
     ]
    },
    {
     "name": "stderr",
     "output_type": "stream",
     "text": [
      "                                                                              \r"
     ]
    },
    {
     "name": "stdout",
     "output_type": "stream",
     "text": [
      "  Epoch 80/500 | Train Loss: 31.4147 | Val Loss: 31.2479 | Val MAE: 31.248\n"
     ]
    },
    {
     "name": "stderr",
     "output_type": "stream",
     "text": [
      "                                                                              \r"
     ]
    },
    {
     "name": "stdout",
     "output_type": "stream",
     "text": [
      "  Epoch 90/500 | Train Loss: 26.6715 | Val Loss: 26.9605 | Val MAE: 26.960\n"
     ]
    },
    {
     "name": "stderr",
     "output_type": "stream",
     "text": [
      "                                                                              \r"
     ]
    },
    {
     "name": "stdout",
     "output_type": "stream",
     "text": [
      "  Epoch 100/500 | Train Loss: 22.1792 | Val Loss: 29.5185 | Val MAE: 29.519\n"
     ]
    },
    {
     "name": "stderr",
     "output_type": "stream",
     "text": [
      "                                                                              \r"
     ]
    },
    {
     "name": "stdout",
     "output_type": "stream",
     "text": [
      "  Epoch 110/500 | Train Loss: 17.3320 | Val Loss: 16.2304 | Val MAE: 16.230\n"
     ]
    },
    {
     "name": "stderr",
     "output_type": "stream",
     "text": [
      "                                                                              \r"
     ]
    },
    {
     "name": "stdout",
     "output_type": "stream",
     "text": [
      "  Epoch 120/500 | Train Loss: 13.7310 | Val Loss: 9.7699 | Val MAE: 9.770\n"
     ]
    },
    {
     "name": "stderr",
     "output_type": "stream",
     "text": [
      "                                                                              \r"
     ]
    },
    {
     "name": "stdout",
     "output_type": "stream",
     "text": [
      "  Epoch 130/500 | Train Loss: 11.6497 | Val Loss: 8.9611 | Val MAE: 8.961\n"
     ]
    },
    {
     "name": "stderr",
     "output_type": "stream",
     "text": [
      "                                                                              \r"
     ]
    },
    {
     "name": "stdout",
     "output_type": "stream",
     "text": [
      "  Epoch 140/500 | Train Loss: 10.4161 | Val Loss: 16.5076 | Val MAE: 16.508\n"
     ]
    },
    {
     "name": "stderr",
     "output_type": "stream",
     "text": [
      "                                                                              \r"
     ]
    },
    {
     "name": "stdout",
     "output_type": "stream",
     "text": [
      "  Epoch 150/500 | Train Loss: 9.9807 | Val Loss: 8.3746 | Val MAE: 8.375\n"
     ]
    },
    {
     "name": "stderr",
     "output_type": "stream",
     "text": [
      "                                                                              \r"
     ]
    },
    {
     "name": "stdout",
     "output_type": "stream",
     "text": [
      "  Epoch 160/500 | Train Loss: 9.5559 | Val Loss: 7.2715 | Val MAE: 7.271\n"
     ]
    },
    {
     "name": "stderr",
     "output_type": "stream",
     "text": [
      "                                                                              \r"
     ]
    },
    {
     "name": "stdout",
     "output_type": "stream",
     "text": [
      "  Epoch 170/500 | Train Loss: 9.3526 | Val Loss: 7.6508 | Val MAE: 7.651\n"
     ]
    },
    {
     "name": "stderr",
     "output_type": "stream",
     "text": [
      "                                                                              \r"
     ]
    },
    {
     "name": "stdout",
     "output_type": "stream",
     "text": [
      "  Epoch 180/500 | Train Loss: 9.7217 | Val Loss: 7.3899 | Val MAE: 7.390\n"
     ]
    },
    {
     "name": "stderr",
     "output_type": "stream",
     "text": [
      "                                                                              \r"
     ]
    },
    {
     "name": "stdout",
     "output_type": "stream",
     "text": [
      "  Epoch 190/500 | Train Loss: 9.5759 | Val Loss: 7.5358 | Val MAE: 7.536\n"
     ]
    },
    {
     "name": "stderr",
     "output_type": "stream",
     "text": [
      "                                                                              \r"
     ]
    },
    {
     "name": "stdout",
     "output_type": "stream",
     "text": [
      "  Early stopping triggered at epoch 194.\n",
      "--- Run 1 Finished for MLP_3Layer_AttentionBN (Time: 151.80s) ---\n",
      "  Best Validation MAE: 7.099 at epoch 154\n"
     ]
    },
    {
     "name": "stderr",
     "output_type": "stream",
     "text": [
      "                                                                               \r"
     ]
    },
    {
     "name": "stdout",
     "output_type": "stream",
     "text": [
      "  Test MAE for Run 1: 7.572\n",
      "\n",
      "--- Starting Run 2/5 for Model: MLP_3Layer_AttentionBN ---\n",
      "Set random seed to 1\n"
     ]
    },
    {
     "name": "stderr",
     "output_type": "stream",
     "text": [
      "                                                                              \r"
     ]
    },
    {
     "name": "stdout",
     "output_type": "stream",
     "text": [
      "  Epoch 1/500 | Train Loss: 54.0405 | Val Loss: 53.3709 | Val MAE: 53.371\n"
     ]
    },
    {
     "name": "stderr",
     "output_type": "stream",
     "text": [
      "                                                                              \r"
     ]
    },
    {
     "name": "stdout",
     "output_type": "stream",
     "text": [
      "  Epoch 10/500 | Train Loss: 52.9291 | Val Loss: 52.4473 | Val MAE: 52.447\n"
     ]
    },
    {
     "name": "stderr",
     "output_type": "stream",
     "text": [
      "                                                                              \r"
     ]
    },
    {
     "name": "stdout",
     "output_type": "stream",
     "text": [
      "  Epoch 20/500 | Train Loss: 51.3432 | Val Loss: 50.8104 | Val MAE: 50.810\n"
     ]
    },
    {
     "name": "stderr",
     "output_type": "stream",
     "text": [
      "                                                                              \r"
     ]
    },
    {
     "name": "stdout",
     "output_type": "stream",
     "text": [
      "  Epoch 30/500 | Train Loss: 49.1375 | Val Loss: 48.5923 | Val MAE: 48.592\n"
     ]
    },
    {
     "name": "stderr",
     "output_type": "stream",
     "text": [
      "                                                                              \r"
     ]
    },
    {
     "name": "stdout",
     "output_type": "stream",
     "text": [
      "  Epoch 40/500 | Train Loss: 46.0998 | Val Loss: 46.7942 | Val MAE: 46.794\n"
     ]
    },
    {
     "name": "stderr",
     "output_type": "stream",
     "text": [
      "                                                                              \r"
     ]
    },
    {
     "name": "stdout",
     "output_type": "stream",
     "text": [
      "  Epoch 50/500 | Train Loss: 42.6963 | Val Loss: 42.2829 | Val MAE: 42.283\n"
     ]
    },
    {
     "name": "stderr",
     "output_type": "stream",
     "text": [
      "                                                                              \r"
     ]
    },
    {
     "name": "stdout",
     "output_type": "stream",
     "text": [
      "  Epoch 60/500 | Train Loss: 38.9871 | Val Loss: 37.1324 | Val MAE: 37.132\n"
     ]
    },
    {
     "name": "stderr",
     "output_type": "stream",
     "text": [
      "                                                                              \r"
     ]
    },
    {
     "name": "stdout",
     "output_type": "stream",
     "text": [
      "  Epoch 70/500 | Train Loss: 34.8053 | Val Loss: 35.8870 | Val MAE: 35.887\n"
     ]
    },
    {
     "name": "stderr",
     "output_type": "stream",
     "text": [
      "                                                                              \r"
     ]
    },
    {
     "name": "stdout",
     "output_type": "stream",
     "text": [
      "  Epoch 80/500 | Train Loss: 30.4518 | Val Loss: 32.7546 | Val MAE: 32.755\n"
     ]
    },
    {
     "name": "stderr",
     "output_type": "stream",
     "text": [
      "                                                                              \r"
     ]
    },
    {
     "name": "stdout",
     "output_type": "stream",
     "text": [
      "  Epoch 90/500 | Train Loss: 26.1105 | Val Loss: 24.4200 | Val MAE: 24.420\n"
     ]
    },
    {
     "name": "stderr",
     "output_type": "stream",
     "text": [
      "                                                                              \r"
     ]
    },
    {
     "name": "stdout",
     "output_type": "stream",
     "text": [
      "  Epoch 100/500 | Train Loss: 21.4381 | Val Loss: 21.6530 | Val MAE: 21.653\n"
     ]
    },
    {
     "name": "stderr",
     "output_type": "stream",
     "text": [
      "                                                                              \r"
     ]
    },
    {
     "name": "stdout",
     "output_type": "stream",
     "text": [
      "  Epoch 110/500 | Train Loss: 17.2198 | Val Loss: 17.3461 | Val MAE: 17.346\n"
     ]
    },
    {
     "name": "stderr",
     "output_type": "stream",
     "text": [
      "                                                                              \r"
     ]
    },
    {
     "name": "stdout",
     "output_type": "stream",
     "text": [
      "  Epoch 120/500 | Train Loss: 14.4904 | Val Loss: 16.0867 | Val MAE: 16.087\n"
     ]
    },
    {
     "name": "stderr",
     "output_type": "stream",
     "text": [
      "                                                                             \r"
     ]
    },
    {
     "name": "stdout",
     "output_type": "stream",
     "text": [
      "  Epoch 130/500 | Train Loss: 12.5448 | Val Loss: 8.2035 | Val MAE: 8.204\n"
     ]
    },
    {
     "name": "stderr",
     "output_type": "stream",
     "text": [
      "                                                                              \r"
     ]
    },
    {
     "name": "stdout",
     "output_type": "stream",
     "text": [
      "  Epoch 140/500 | Train Loss: 11.2895 | Val Loss: 17.4500 | Val MAE: 17.450\n"
     ]
    },
    {
     "name": "stderr",
     "output_type": "stream",
     "text": [
      "                                                                              \r"
     ]
    },
    {
     "name": "stdout",
     "output_type": "stream",
     "text": [
      "  Epoch 150/500 | Train Loss: 10.8465 | Val Loss: 9.6365 | Val MAE: 9.637\n"
     ]
    },
    {
     "name": "stderr",
     "output_type": "stream",
     "text": [
      "                                                                              \r"
     ]
    },
    {
     "name": "stdout",
     "output_type": "stream",
     "text": [
      "  Epoch 160/500 | Train Loss: 10.7975 | Val Loss: 8.1782 | Val MAE: 8.178\n"
     ]
    },
    {
     "name": "stderr",
     "output_type": "stream",
     "text": [
      "                                                                              \r"
     ]
    },
    {
     "name": "stdout",
     "output_type": "stream",
     "text": [
      "  Epoch 170/500 | Train Loss: 10.2488 | Val Loss: 7.1766 | Val MAE: 7.177\n"
     ]
    },
    {
     "name": "stderr",
     "output_type": "stream",
     "text": [
      "                                                                              \r"
     ]
    },
    {
     "name": "stdout",
     "output_type": "stream",
     "text": [
      "  Epoch 180/500 | Train Loss: 10.0324 | Val Loss: 8.1782 | Val MAE: 8.178\n"
     ]
    },
    {
     "name": "stderr",
     "output_type": "stream",
     "text": [
      "                                                                              \r"
     ]
    },
    {
     "name": "stdout",
     "output_type": "stream",
     "text": [
      "  Epoch 190/500 | Train Loss: 9.8945 | Val Loss: 7.0730 | Val MAE: 7.073\n"
     ]
    },
    {
     "name": "stderr",
     "output_type": "stream",
     "text": [
      "                                                                              \r"
     ]
    },
    {
     "name": "stdout",
     "output_type": "stream",
     "text": [
      "  Epoch 200/500 | Train Loss: 10.0893 | Val Loss: 8.0606 | Val MAE: 8.061\n"
     ]
    },
    {
     "name": "stderr",
     "output_type": "stream",
     "text": [
      "                                                                              \r"
     ]
    },
    {
     "name": "stdout",
     "output_type": "stream",
     "text": [
      "  Epoch 210/500 | Train Loss: 9.7315 | Val Loss: 7.6606 | Val MAE: 7.661\n"
     ]
    },
    {
     "name": "stderr",
     "output_type": "stream",
     "text": [
      "                                                                              \r"
     ]
    },
    {
     "name": "stdout",
     "output_type": "stream",
     "text": [
      "  Epoch 220/500 | Train Loss: 9.7049 | Val Loss: 7.8612 | Val MAE: 7.861\n"
     ]
    },
    {
     "name": "stderr",
     "output_type": "stream",
     "text": [
      "                                                                      \r"
     ]
    },
    {
     "name": "stdout",
     "output_type": "stream",
     "text": [
      "  Early stopping triggered at epoch 226.\n",
      "--- Run 2 Finished for MLP_3Layer_AttentionBN (Time: 177.25s) ---\n",
      "  Best Validation MAE: 6.904 at epoch 186\n"
     ]
    },
    {
     "name": "stderr",
     "output_type": "stream",
     "text": [
      "                                                                               \r"
     ]
    },
    {
     "name": "stdout",
     "output_type": "stream",
     "text": [
      "  Test MAE for Run 2: 7.610\n",
      "\n",
      "--- Starting Run 3/5 for Model: MLP_3Layer_AttentionBN ---\n",
      "Set random seed to 2\n"
     ]
    },
    {
     "name": "stderr",
     "output_type": "stream",
     "text": [
      "                                                                      \r"
     ]
    },
    {
     "name": "stdout",
     "output_type": "stream",
     "text": [
      "  Epoch 1/500 | Train Loss: 54.5517 | Val Loss: 53.7427 | Val MAE: 53.743\n"
     ]
    },
    {
     "name": "stderr",
     "output_type": "stream",
     "text": [
      "                                                                      \r"
     ]
    },
    {
     "name": "stdout",
     "output_type": "stream",
     "text": [
      "  Epoch 10/500 | Train Loss: 53.5074 | Val Loss: 52.9056 | Val MAE: 52.906\n"
     ]
    },
    {
     "name": "stderr",
     "output_type": "stream",
     "text": [
      "                                                                              \r"
     ]
    },
    {
     "name": "stdout",
     "output_type": "stream",
     "text": [
      "  Epoch 20/500 | Train Loss: 52.1307 | Val Loss: 51.6454 | Val MAE: 51.645\n"
     ]
    },
    {
     "name": "stderr",
     "output_type": "stream",
     "text": [
      "                                                                              \r"
     ]
    },
    {
     "name": "stdout",
     "output_type": "stream",
     "text": [
      "  Epoch 30/500 | Train Loss: 50.1194 | Val Loss: 49.7774 | Val MAE: 49.777\n"
     ]
    },
    {
     "name": "stderr",
     "output_type": "stream",
     "text": [
      "                                                                              \r"
     ]
    },
    {
     "name": "stdout",
     "output_type": "stream",
     "text": [
      "  Epoch 40/500 | Train Loss: 47.4525 | Val Loss: 47.1194 | Val MAE: 47.119\n"
     ]
    },
    {
     "name": "stderr",
     "output_type": "stream",
     "text": [
      "                                                                              \r"
     ]
    },
    {
     "name": "stdout",
     "output_type": "stream",
     "text": [
      "  Epoch 50/500 | Train Loss: 44.1650 | Val Loss: 43.6969 | Val MAE: 43.697\n"
     ]
    },
    {
     "name": "stderr",
     "output_type": "stream",
     "text": [
      "                                                                              \r"
     ]
    },
    {
     "name": "stdout",
     "output_type": "stream",
     "text": [
      "  Epoch 60/500 | Train Loss: 40.3715 | Val Loss: 39.5262 | Val MAE: 39.526\n"
     ]
    },
    {
     "name": "stderr",
     "output_type": "stream",
     "text": [
      "                                                                              \r"
     ]
    },
    {
     "name": "stdout",
     "output_type": "stream",
     "text": [
      "  Epoch 70/500 | Train Loss: 36.3122 | Val Loss: 36.0852 | Val MAE: 36.085\n"
     ]
    },
    {
     "name": "stderr",
     "output_type": "stream",
     "text": [
      "                                                                              \r"
     ]
    },
    {
     "name": "stdout",
     "output_type": "stream",
     "text": [
      "  Epoch 80/500 | Train Loss: 32.0067 | Val Loss: 31.7467 | Val MAE: 31.747\n"
     ]
    },
    {
     "name": "stderr",
     "output_type": "stream",
     "text": [
      "                                                                              \r"
     ]
    },
    {
     "name": "stdout",
     "output_type": "stream",
     "text": [
      "  Epoch 90/500 | Train Loss: 27.2817 | Val Loss: 28.4991 | Val MAE: 28.499\n"
     ]
    },
    {
     "name": "stderr",
     "output_type": "stream",
     "text": [
      "                                                                              \r"
     ]
    },
    {
     "name": "stdout",
     "output_type": "stream",
     "text": [
      "  Epoch 100/500 | Train Loss: 22.8401 | Val Loss: 31.7723 | Val MAE: 31.772\n"
     ]
    },
    {
     "name": "stderr",
     "output_type": "stream",
     "text": [
      "                                                                              \r"
     ]
    },
    {
     "name": "stdout",
     "output_type": "stream",
     "text": [
      "  Epoch 110/500 | Train Loss: 18.1705 | Val Loss: 16.4980 | Val MAE: 16.498\n"
     ]
    },
    {
     "name": "stderr",
     "output_type": "stream",
     "text": [
      "                                                                              \r"
     ]
    },
    {
     "name": "stdout",
     "output_type": "stream",
     "text": [
      "  Epoch 120/500 | Train Loss: 14.3978 | Val Loss: 16.3151 | Val MAE: 16.315\n"
     ]
    },
    {
     "name": "stderr",
     "output_type": "stream",
     "text": [
      "                                                                              \r"
     ]
    },
    {
     "name": "stdout",
     "output_type": "stream",
     "text": [
      "  Epoch 130/500 | Train Loss: 12.0967 | Val Loss: 10.1414 | Val MAE: 10.141\n"
     ]
    },
    {
     "name": "stderr",
     "output_type": "stream",
     "text": [
      "                                                                              \r"
     ]
    },
    {
     "name": "stdout",
     "output_type": "stream",
     "text": [
      "  Epoch 140/500 | Train Loss: 10.7337 | Val Loss: 9.8425 | Val MAE: 9.843\n"
     ]
    },
    {
     "name": "stderr",
     "output_type": "stream",
     "text": [
      "                                                                              \r"
     ]
    },
    {
     "name": "stdout",
     "output_type": "stream",
     "text": [
      "  Epoch 150/500 | Train Loss: 9.9472 | Val Loss: 7.5100 | Val MAE: 7.510\n"
     ]
    },
    {
     "name": "stderr",
     "output_type": "stream",
     "text": [
      "                                                                              \r"
     ]
    },
    {
     "name": "stdout",
     "output_type": "stream",
     "text": [
      "  Epoch 160/500 | Train Loss: 9.7170 | Val Loss: 9.9641 | Val MAE: 9.964\n"
     ]
    },
    {
     "name": "stderr",
     "output_type": "stream",
     "text": [
      "                                                                              \r"
     ]
    },
    {
     "name": "stdout",
     "output_type": "stream",
     "text": [
      "  Epoch 170/500 | Train Loss: 10.0142 | Val Loss: 10.2384 | Val MAE: 10.238\n"
     ]
    },
    {
     "name": "stderr",
     "output_type": "stream",
     "text": [
      "                                                                              \r"
     ]
    },
    {
     "name": "stdout",
     "output_type": "stream",
     "text": [
      "  Epoch 180/500 | Train Loss: 9.6909 | Val Loss: 7.1256 | Val MAE: 7.126\n"
     ]
    },
    {
     "name": "stderr",
     "output_type": "stream",
     "text": [
      "                                                                              \r"
     ]
    },
    {
     "name": "stdout",
     "output_type": "stream",
     "text": [
      "  Epoch 190/500 | Train Loss: 9.6094 | Val Loss: 7.4068 | Val MAE: 7.407\n"
     ]
    },
    {
     "name": "stderr",
     "output_type": "stream",
     "text": [
      "                                                                              \r"
     ]
    },
    {
     "name": "stdout",
     "output_type": "stream",
     "text": [
      "  Epoch 200/500 | Train Loss: 9.4963 | Val Loss: 7.4162 | Val MAE: 7.416\n"
     ]
    },
    {
     "name": "stderr",
     "output_type": "stream",
     "text": [
      "                                                                              \r"
     ]
    },
    {
     "name": "stdout",
     "output_type": "stream",
     "text": [
      "  Epoch 210/500 | Train Loss: 9.8912 | Val Loss: 12.7907 | Val MAE: 12.791\n"
     ]
    },
    {
     "name": "stderr",
     "output_type": "stream",
     "text": [
      "                                                                              \r"
     ]
    },
    {
     "name": "stdout",
     "output_type": "stream",
     "text": [
      "  Early stopping triggered at epoch 217.\n",
      "--- Run 3 Finished for MLP_3Layer_AttentionBN (Time: 169.60s) ---\n",
      "  Best Validation MAE: 6.850 at epoch 177\n"
     ]
    },
    {
     "name": "stderr",
     "output_type": "stream",
     "text": [
      "                                                                               \r"
     ]
    },
    {
     "name": "stdout",
     "output_type": "stream",
     "text": [
      "  Test MAE for Run 3: 7.246\n",
      "\n",
      "--- Starting Run 4/5 for Model: MLP_3Layer_AttentionBN ---\n",
      "Set random seed to 3\n"
     ]
    },
    {
     "name": "stderr",
     "output_type": "stream",
     "text": [
      "                                                                              \r"
     ]
    },
    {
     "name": "stdout",
     "output_type": "stream",
     "text": [
      "  Epoch 1/500 | Train Loss: 54.1643 | Val Loss: 53.4651 | Val MAE: 53.465\n"
     ]
    },
    {
     "name": "stderr",
     "output_type": "stream",
     "text": [
      "                                                                              \r"
     ]
    },
    {
     "name": "stdout",
     "output_type": "stream",
     "text": [
      "  Epoch 10/500 | Train Loss: 53.1211 | Val Loss: 52.6222 | Val MAE: 52.622\n"
     ]
    },
    {
     "name": "stderr",
     "output_type": "stream",
     "text": [
      "                                                                              \r"
     ]
    },
    {
     "name": "stdout",
     "output_type": "stream",
     "text": [
      "  Epoch 20/500 | Train Loss: 51.5468 | Val Loss: 51.1549 | Val MAE: 51.155\n"
     ]
    },
    {
     "name": "stderr",
     "output_type": "stream",
     "text": [
      "                                                                              \r"
     ]
    },
    {
     "name": "stdout",
     "output_type": "stream",
     "text": [
      "  Epoch 30/500 | Train Loss: 49.4104 | Val Loss: 49.1030 | Val MAE: 49.103\n"
     ]
    },
    {
     "name": "stderr",
     "output_type": "stream",
     "text": [
      "                                                                              \r"
     ]
    },
    {
     "name": "stdout",
     "output_type": "stream",
     "text": [
      "  Epoch 40/500 | Train Loss: 46.6000 | Val Loss: 46.0599 | Val MAE: 46.060\n"
     ]
    },
    {
     "name": "stderr",
     "output_type": "stream",
     "text": [
      "                                                                              \r"
     ]
    },
    {
     "name": "stdout",
     "output_type": "stream",
     "text": [
      "  Epoch 50/500 | Train Loss: 43.0748 | Val Loss: 43.4673 | Val MAE: 43.467\n"
     ]
    },
    {
     "name": "stderr",
     "output_type": "stream",
     "text": [
      "                                                                              \r"
     ]
    },
    {
     "name": "stdout",
     "output_type": "stream",
     "text": [
      "  Epoch 60/500 | Train Loss: 39.2228 | Val Loss: 39.2686 | Val MAE: 39.269\n"
     ]
    },
    {
     "name": "stderr",
     "output_type": "stream",
     "text": [
      "                                                                              \r"
     ]
    },
    {
     "name": "stdout",
     "output_type": "stream",
     "text": [
      "  Epoch 70/500 | Train Loss: 34.9860 | Val Loss: 34.4433 | Val MAE: 34.443\n"
     ]
    },
    {
     "name": "stderr",
     "output_type": "stream",
     "text": [
      "                                                                              \r"
     ]
    },
    {
     "name": "stdout",
     "output_type": "stream",
     "text": [
      "  Epoch 80/500 | Train Loss: 30.4128 | Val Loss: 27.4994 | Val MAE: 27.499\n"
     ]
    },
    {
     "name": "stderr",
     "output_type": "stream",
     "text": [
      "                                                                              \r"
     ]
    },
    {
     "name": "stdout",
     "output_type": "stream",
     "text": [
      "  Epoch 90/500 | Train Loss: 25.7878 | Val Loss: 25.4244 | Val MAE: 25.424\n"
     ]
    },
    {
     "name": "stderr",
     "output_type": "stream",
     "text": [
      "                                                                              \r"
     ]
    },
    {
     "name": "stdout",
     "output_type": "stream",
     "text": [
      "  Epoch 100/500 | Train Loss: 21.1005 | Val Loss: 25.7165 | Val MAE: 25.717\n"
     ]
    },
    {
     "name": "stderr",
     "output_type": "stream",
     "text": [
      "                                                                              \r"
     ]
    },
    {
     "name": "stdout",
     "output_type": "stream",
     "text": [
      "  Epoch 110/500 | Train Loss: 16.7811 | Val Loss: 15.1494 | Val MAE: 15.149\n"
     ]
    },
    {
     "name": "stderr",
     "output_type": "stream",
     "text": [
      "                                                                              \r"
     ]
    },
    {
     "name": "stdout",
     "output_type": "stream",
     "text": [
      "  Epoch 120/500 | Train Loss: 13.4865 | Val Loss: 10.4259 | Val MAE: 10.426\n"
     ]
    },
    {
     "name": "stderr",
     "output_type": "stream",
     "text": [
      "                                                                              \r"
     ]
    },
    {
     "name": "stdout",
     "output_type": "stream",
     "text": [
      "  Epoch 130/500 | Train Loss: 11.1834 | Val Loss: 9.2287 | Val MAE: 9.229\n"
     ]
    },
    {
     "name": "stderr",
     "output_type": "stream",
     "text": [
      "                                                                              \r"
     ]
    },
    {
     "name": "stdout",
     "output_type": "stream",
     "text": [
      "  Epoch 140/500 | Train Loss: 10.4486 | Val Loss: 7.9936 | Val MAE: 7.994\n"
     ]
    },
    {
     "name": "stderr",
     "output_type": "stream",
     "text": [
      "                                                                              \r"
     ]
    },
    {
     "name": "stdout",
     "output_type": "stream",
     "text": [
      "  Epoch 150/500 | Train Loss: 10.1541 | Val Loss: 7.0829 | Val MAE: 7.083\n"
     ]
    },
    {
     "name": "stderr",
     "output_type": "stream",
     "text": [
      "                                                                              \r"
     ]
    },
    {
     "name": "stdout",
     "output_type": "stream",
     "text": [
      "  Epoch 160/500 | Train Loss: 9.8399 | Val Loss: 7.9993 | Val MAE: 7.999\n"
     ]
    },
    {
     "name": "stderr",
     "output_type": "stream",
     "text": [
      "                                                                              \r"
     ]
    },
    {
     "name": "stdout",
     "output_type": "stream",
     "text": [
      "  Epoch 170/500 | Train Loss: 10.0065 | Val Loss: 6.9022 | Val MAE: 6.902\n"
     ]
    },
    {
     "name": "stderr",
     "output_type": "stream",
     "text": [
      "                                                                              \r"
     ]
    },
    {
     "name": "stdout",
     "output_type": "stream",
     "text": [
      "  Epoch 180/500 | Train Loss: 9.5622 | Val Loss: 7.0435 | Val MAE: 7.044\n"
     ]
    },
    {
     "name": "stderr",
     "output_type": "stream",
     "text": [
      "                                                                              \r"
     ]
    },
    {
     "name": "stdout",
     "output_type": "stream",
     "text": [
      "  Epoch 190/500 | Train Loss: 9.7363 | Val Loss: 7.0613 | Val MAE: 7.061\n"
     ]
    },
    {
     "name": "stderr",
     "output_type": "stream",
     "text": [
      "                                                                              \r"
     ]
    },
    {
     "name": "stdout",
     "output_type": "stream",
     "text": [
      "  Epoch 200/500 | Train Loss: 9.5181 | Val Loss: 7.0597 | Val MAE: 7.060\n"
     ]
    },
    {
     "name": "stderr",
     "output_type": "stream",
     "text": [
      "                                                                      \r"
     ]
    },
    {
     "name": "stdout",
     "output_type": "stream",
     "text": [
      "  Epoch 210/500 | Train Loss: 9.6049 | Val Loss: 7.1980 | Val MAE: 7.198\n"
     ]
    },
    {
     "name": "stderr",
     "output_type": "stream",
     "text": [
      "                                                                              \r"
     ]
    },
    {
     "name": "stdout",
     "output_type": "stream",
     "text": [
      "  Epoch 220/500 | Train Loss: 9.4523 | Val Loss: 8.7409 | Val MAE: 8.741\n"
     ]
    },
    {
     "name": "stderr",
     "output_type": "stream",
     "text": [
      "                                                                              \r"
     ]
    },
    {
     "name": "stdout",
     "output_type": "stream",
     "text": [
      "  Epoch 230/500 | Train Loss: 9.5785 | Val Loss: 9.9854 | Val MAE: 9.985\n"
     ]
    },
    {
     "name": "stderr",
     "output_type": "stream",
     "text": [
      "                                                                              \r"
     ]
    },
    {
     "name": "stdout",
     "output_type": "stream",
     "text": [
      "  Epoch 240/500 | Train Loss: 9.3778 | Val Loss: 6.8441 | Val MAE: 6.844\n"
     ]
    },
    {
     "name": "stderr",
     "output_type": "stream",
     "text": [
      "                                                                              \r"
     ]
    },
    {
     "name": "stdout",
     "output_type": "stream",
     "text": [
      "  Epoch 250/500 | Train Loss: 9.7151 | Val Loss: 6.9918 | Val MAE: 6.992\n"
     ]
    },
    {
     "name": "stderr",
     "output_type": "stream",
     "text": [
      "                                                                              \r"
     ]
    },
    {
     "name": "stdout",
     "output_type": "stream",
     "text": [
      "  Early stopping triggered at epoch 255.\n",
      "--- Run 4 Finished for MLP_3Layer_AttentionBN (Time: 191.67s) ---\n",
      "  Best Validation MAE: 6.695 at epoch 215\n"
     ]
    },
    {
     "name": "stderr",
     "output_type": "stream",
     "text": [
      "                                                                               \r"
     ]
    },
    {
     "name": "stdout",
     "output_type": "stream",
     "text": [
      "  Test MAE for Run 4: 7.654\n",
      "\n",
      "--- Starting Run 5/5 for Model: MLP_3Layer_AttentionBN ---\n",
      "Set random seed to 4\n"
     ]
    },
    {
     "name": "stderr",
     "output_type": "stream",
     "text": [
      "                                                                              \r"
     ]
    },
    {
     "name": "stdout",
     "output_type": "stream",
     "text": [
      "  Epoch 1/500 | Train Loss: 54.2273 | Val Loss: 53.5021 | Val MAE: 53.502\n"
     ]
    },
    {
     "name": "stderr",
     "output_type": "stream",
     "text": [
      "                                                                              \r"
     ]
    },
    {
     "name": "stdout",
     "output_type": "stream",
     "text": [
      "  Epoch 10/500 | Train Loss: 53.2086 | Val Loss: 52.7449 | Val MAE: 52.745\n"
     ]
    },
    {
     "name": "stderr",
     "output_type": "stream",
     "text": [
      "                                                                              \r"
     ]
    },
    {
     "name": "stdout",
     "output_type": "stream",
     "text": [
      "  Epoch 20/500 | Train Loss: 51.6393 | Val Loss: 51.2362 | Val MAE: 51.236\n"
     ]
    },
    {
     "name": "stderr",
     "output_type": "stream",
     "text": [
      "                                                                              \r"
     ]
    },
    {
     "name": "stdout",
     "output_type": "stream",
     "text": [
      "  Epoch 30/500 | Train Loss: 49.3956 | Val Loss: 49.0930 | Val MAE: 49.093\n"
     ]
    },
    {
     "name": "stderr",
     "output_type": "stream",
     "text": [
      "                                                                              \r"
     ]
    },
    {
     "name": "stdout",
     "output_type": "stream",
     "text": [
      "  Epoch 40/500 | Train Loss: 46.5263 | Val Loss: 46.0960 | Val MAE: 46.096\n"
     ]
    },
    {
     "name": "stderr",
     "output_type": "stream",
     "text": [
      "                                                                              \r"
     ]
    },
    {
     "name": "stdout",
     "output_type": "stream",
     "text": [
      "  Epoch 50/500 | Train Loss: 42.9647 | Val Loss: 42.9125 | Val MAE: 42.913\n"
     ]
    },
    {
     "name": "stderr",
     "output_type": "stream",
     "text": [
      "                                                                      \r"
     ]
    },
    {
     "name": "stdout",
     "output_type": "stream",
     "text": [
      "  Epoch 60/500 | Train Loss: 39.1673 | Val Loss: 38.6735 | Val MAE: 38.673\n"
     ]
    },
    {
     "name": "stderr",
     "output_type": "stream",
     "text": [
      "                                                                              \r"
     ]
    },
    {
     "name": "stdout",
     "output_type": "stream",
     "text": [
      "  Epoch 70/500 | Train Loss: 34.9134 | Val Loss: 34.7858 | Val MAE: 34.786\n"
     ]
    },
    {
     "name": "stderr",
     "output_type": "stream",
     "text": [
      "                                                                              \r"
     ]
    },
    {
     "name": "stdout",
     "output_type": "stream",
     "text": [
      "  Epoch 80/500 | Train Loss: 30.6672 | Val Loss: 29.1375 | Val MAE: 29.137\n"
     ]
    },
    {
     "name": "stderr",
     "output_type": "stream",
     "text": [
      "                                                                              \r"
     ]
    },
    {
     "name": "stdout",
     "output_type": "stream",
     "text": [
      "  Epoch 90/500 | Train Loss: 25.9344 | Val Loss: 27.8319 | Val MAE: 27.832\n"
     ]
    },
    {
     "name": "stderr",
     "output_type": "stream",
     "text": [
      "                                                                              \r"
     ]
    },
    {
     "name": "stdout",
     "output_type": "stream",
     "text": [
      "  Epoch 100/500 | Train Loss: 21.4572 | Val Loss: 26.3990 | Val MAE: 26.399\n"
     ]
    },
    {
     "name": "stderr",
     "output_type": "stream",
     "text": [
      "                                                                              \r"
     ]
    },
    {
     "name": "stdout",
     "output_type": "stream",
     "text": [
      "  Epoch 110/500 | Train Loss: 17.2840 | Val Loss: 13.1442 | Val MAE: 13.144\n"
     ]
    },
    {
     "name": "stderr",
     "output_type": "stream",
     "text": [
      "                                                                              \r"
     ]
    },
    {
     "name": "stdout",
     "output_type": "stream",
     "text": [
      "  Epoch 120/500 | Train Loss: 13.8949 | Val Loss: 12.5194 | Val MAE: 12.519\n"
     ]
    },
    {
     "name": "stderr",
     "output_type": "stream",
     "text": [
      "                                                                              \r"
     ]
    },
    {
     "name": "stdout",
     "output_type": "stream",
     "text": [
      "  Epoch 130/500 | Train Loss: 11.7669 | Val Loss: 8.6949 | Val MAE: 8.695\n"
     ]
    },
    {
     "name": "stderr",
     "output_type": "stream",
     "text": [
      "                                                                              \r"
     ]
    },
    {
     "name": "stdout",
     "output_type": "stream",
     "text": [
      "  Epoch 140/500 | Train Loss: 10.3264 | Val Loss: 9.9627 | Val MAE: 9.963\n"
     ]
    },
    {
     "name": "stderr",
     "output_type": "stream",
     "text": [
      "                                                                              \r"
     ]
    },
    {
     "name": "stdout",
     "output_type": "stream",
     "text": [
      "  Epoch 150/500 | Train Loss: 10.2195 | Val Loss: 9.7936 | Val MAE: 9.794\n"
     ]
    },
    {
     "name": "stderr",
     "output_type": "stream",
     "text": [
      "                                                                              \r"
     ]
    },
    {
     "name": "stdout",
     "output_type": "stream",
     "text": [
      "  Epoch 160/500 | Train Loss: 9.9638 | Val Loss: 8.5270 | Val MAE: 8.527\n"
     ]
    },
    {
     "name": "stderr",
     "output_type": "stream",
     "text": [
      "                                                                              \r"
     ]
    },
    {
     "name": "stdout",
     "output_type": "stream",
     "text": [
      "  Epoch 170/500 | Train Loss: 9.8932 | Val Loss: 8.5252 | Val MAE: 8.525\n"
     ]
    },
    {
     "name": "stderr",
     "output_type": "stream",
     "text": [
      "                                                                      \r"
     ]
    },
    {
     "name": "stdout",
     "output_type": "stream",
     "text": [
      "  Epoch 180/500 | Train Loss: 9.9329 | Val Loss: 10.0135 | Val MAE: 10.013\n"
     ]
    },
    {
     "name": "stderr",
     "output_type": "stream",
     "text": [
      "                                                                              \r"
     ]
    },
    {
     "name": "stdout",
     "output_type": "stream",
     "text": [
      "  Epoch 190/500 | Train Loss: 9.9712 | Val Loss: 7.4655 | Val MAE: 7.466\n"
     ]
    },
    {
     "name": "stderr",
     "output_type": "stream",
     "text": [
      "                                                                              \r"
     ]
    },
    {
     "name": "stdout",
     "output_type": "stream",
     "text": [
      "  Epoch 200/500 | Train Loss: 9.7247 | Val Loss: 6.9395 | Val MAE: 6.939\n"
     ]
    },
    {
     "name": "stderr",
     "output_type": "stream",
     "text": [
      "                                                                              \r"
     ]
    },
    {
     "name": "stdout",
     "output_type": "stream",
     "text": [
      "  Epoch 210/500 | Train Loss: 9.4876 | Val Loss: 7.1340 | Val MAE: 7.134\n"
     ]
    },
    {
     "name": "stderr",
     "output_type": "stream",
     "text": [
      "                                                                              \r"
     ]
    },
    {
     "name": "stdout",
     "output_type": "stream",
     "text": [
      "  Epoch 220/500 | Train Loss: 9.7324 | Val Loss: 7.3162 | Val MAE: 7.316\n"
     ]
    },
    {
     "name": "stderr",
     "output_type": "stream",
     "text": [
      "                                                                              \r"
     ]
    },
    {
     "name": "stdout",
     "output_type": "stream",
     "text": [
      "  Epoch 230/500 | Train Loss: 9.4805 | Val Loss: 7.7360 | Val MAE: 7.736\n"
     ]
    },
    {
     "name": "stderr",
     "output_type": "stream",
     "text": [
      "                                                                              \r"
     ]
    },
    {
     "name": "stdout",
     "output_type": "stream",
     "text": [
      "  Epoch 240/500 | Train Loss: 9.2489 | Val Loss: 7.5620 | Val MAE: 7.562\n"
     ]
    },
    {
     "name": "stderr",
     "output_type": "stream",
     "text": [
      "                                                                              \r"
     ]
    },
    {
     "name": "stdout",
     "output_type": "stream",
     "text": [
      "  Epoch 250/500 | Train Loss: 9.4818 | Val Loss: 7.0612 | Val MAE: 7.061\n"
     ]
    },
    {
     "name": "stderr",
     "output_type": "stream",
     "text": [
      "                                                                              \r"
     ]
    },
    {
     "name": "stdout",
     "output_type": "stream",
     "text": [
      "  Epoch 260/500 | Train Loss: 9.2271 | Val Loss: 7.7415 | Val MAE: 7.742\n"
     ]
    },
    {
     "name": "stderr",
     "output_type": "stream",
     "text": [
      "                                                                              \r"
     ]
    },
    {
     "name": "stdout",
     "output_type": "stream",
     "text": [
      "  Epoch 270/500 | Train Loss: 9.7524 | Val Loss: 7.0505 | Val MAE: 7.051\n"
     ]
    },
    {
     "name": "stderr",
     "output_type": "stream",
     "text": [
      "                                                                              \r"
     ]
    },
    {
     "name": "stdout",
     "output_type": "stream",
     "text": [
      "  Epoch 280/500 | Train Loss: 9.1394 | Val Loss: 7.5020 | Val MAE: 7.502\n"
     ]
    },
    {
     "name": "stderr",
     "output_type": "stream",
     "text": [
      "                                                                            \r"
     ]
    },
    {
     "name": "stdout",
     "output_type": "stream",
     "text": [
      "  Epoch 290/500 | Train Loss: 9.0663 | Val Loss: 8.3933 | Val MAE: 8.393\n"
     ]
    },
    {
     "name": "stderr",
     "output_type": "stream",
     "text": [
      "                                                                              \r"
     ]
    },
    {
     "name": "stdout",
     "output_type": "stream",
     "text": [
      "  Early stopping triggered at epoch 299.\n",
      "--- Run 5 Finished for MLP_3Layer_AttentionBN (Time: 227.88s) ---\n",
      "  Best Validation MAE: 6.728 at epoch 259\n"
     ]
    },
    {
     "name": "stderr",
     "output_type": "stream",
     "text": [
      "                                                                               \r"
     ]
    },
    {
     "name": "stdout",
     "output_type": "stream",
     "text": [
      "  Test MAE for Run 5: 7.189\n",
      "========================= Finished Testing Model: MLP_3Layer_AttentionBN =========================\n",
      "\n",
      "\n",
      "============================================================\n",
      "      Final Average MAE Results Across Runs\n",
      "============================================================\n",
      "Model                     | Avg Test MAE    | Std Dev Test MAE   | Num Valid Runs \n",
      "------------------------------------------------------------\n",
      "MLP_2Layer                | 9.080           | 0.096              | 5              \n",
      "MLP_3Layer                | 8.768           | 0.032              | 5              \n",
      "MLP_3Layer_AttentionBN    | 7.454           | 0.219              | 5              \n",
      "============================================================\n",
      "\n",
      "\n",
      "============================================================\n",
      "      Average Best Validation MAE Results Across Runs\n",
      "============================================================\n",
      "Model                     | Avg Val MAE     | Std Dev Val MAE    | Num Valid Runs \n",
      "------------------------------------------------------------\n",
      "MLP_2Layer                | 8.351           | 0.099              | 5              \n",
      "MLP_3Layer                | 8.019           | 0.053              | 5              \n",
      "MLP_3Layer_AttentionBN    | 6.855           | 0.161              | 5              \n",
      "============================================================\n",
      "\n",
      "MLP comparison script finished.\n"
     ]
    }
   ],
   "source": [
    "\n",
    "# --- Main Execution ---\n",
    "if __name__ == \"__main__\":\n",
    "    # --- Setup Datasets and DataLoaders (Once) ---\n",
    "    datasets = {}\n",
    "    loaders = {}\n",
    "    try:\n",
    "        print(\"\\n--- Setting up Datasets and DataLoaders ---\")\n",
    "        for split in SPLITS:\n",
    "            datasets[split] = AgePredictionDataset(npy_dir=FEATURE_ROOT / split, csv_path=CSV_PATH, split_name=split)\n",
    "            shuffle = (split == 'train')\n",
    "            drop_last = (split == 'train')\n",
    "            loaders[split] = DataLoader(datasets[split],\n",
    "                                        batch_size=BATCH_SIZE,\n",
    "                                        shuffle=shuffle,\n",
    "                                        num_workers=NUM_WORKERS,\n",
    "                                        pin_memory=True,\n",
    "                                        drop_last=drop_last,\n",
    "                                        # Persistent workers can speed up if NUM_WORKERS > 0\n",
    "                                        persistent_workers=True if NUM_WORKERS > 0 else False)\n",
    "        print(\"--- Datasets and DataLoaders Ready ---\")\n",
    "\n",
    "    except (FileNotFoundError, ValueError, RuntimeError) as e:\n",
    "        print(f\"\\nError initializing datasets/loaders: {e}\")\n",
    "        raise SystemExit(\"Dataset/Loader initialization failed.\")\n",
    "\n",
    "    # --- Define Models to Test ---\n",
    "    models_to_test = {\n",
    "        \"MLP_2Layer\": AgeMLP_2Layer,\n",
    "        \"MLP_3Layer\": AgeMLP_3Layer,\n",
    "        \"MLP_3Layer_AttentionBN\": AgeMLP_3Layer_AttentionBN\n",
    "    }\n",
    "\n",
    "    # --- Store results for all runs ---\n",
    "    all_results = {name: {'val_mae': [], 'test_mae': []} for name in models_to_test.keys()}\n",
    "\n",
    "    # --- Train and Evaluate Each Model Multiple Times ---\n",
    "    for name, model_class in models_to_test.items():\n",
    "        print(f\"\\n{'='*25} Testing Model: {name} ({NUM_RUNS} runs) {'='*25}\")\n",
    "        for run in range(NUM_RUNS):\n",
    "            val_mae, test_mae = train_evaluate_single_run(model_class, name, run, loaders, DEVICE)\n",
    "            if val_mae is not None:\n",
    "                all_results[name]['val_mae'].append(val_mae)\n",
    "            if test_mae is not None:\n",
    "                all_results[name]['test_mae'].append(test_mae)\n",
    "        print(f\"{'='*25} Finished Testing Model: {name} {'='*25}\")\n",
    "\n",
    "\n",
    "    # --- Final Results Summary ---\n",
    "    print(\"\\n\\n\" + \"=\"*60)\n",
    "    print(\"      Final Average MAE Results Across Runs\")\n",
    "    print(\"=\"*60)\n",
    "    print(f\"{'Model':<25} | {'Avg Test MAE':<15} | {'Std Dev Test MAE':<18} | {'Num Valid Runs':<15}\")\n",
    "    print(\"-\"*60)\n",
    "\n",
    "    for name, results in all_results.items():\n",
    "        test_maes = results['test_mae']\n",
    "        num_valid_runs = len(test_maes)\n",
    "        if num_valid_runs > 0:\n",
    "            avg_test_mae = statistics.mean(test_maes)\n",
    "            # Calculate standard deviation only if more than one run succeeded\n",
    "            std_dev_test_mae = statistics.stdev(test_maes) if num_valid_runs > 1 else 0.0\n",
    "            print(f\"{name:<25} | {avg_test_mae:<15.3f} | {std_dev_test_mae:<18.3f} | {num_valid_runs:<15}\")\n",
    "        else:\n",
    "            print(f\"{name:<25} | {'N/A':<15} | {'N/A':<18} | {num_valid_runs:<15}\")\n",
    "\n",
    "    print(\"=\"*60)\n",
    "\n",
    "    # Optional: Print validation MAE stats too\n",
    "    print(\"\\n\\n\" + \"=\"*60)\n",
    "    print(\"      Average Best Validation MAE Results Across Runs\")\n",
    "    print(\"=\"*60)\n",
    "    print(f\"{'Model':<25} | {'Avg Val MAE':<15} | {'Std Dev Val MAE':<18} | {'Num Valid Runs':<15}\")\n",
    "    print(\"-\"*60)\n",
    "    for name, results in all_results.items():\n",
    "        val_maes = results['val_mae']\n",
    "        num_valid_runs = len(val_maes)\n",
    "        if num_valid_runs > 0:\n",
    "            avg_val_mae = statistics.mean(val_maes)\n",
    "            std_dev_val_mae = statistics.stdev(val_maes) if num_valid_runs > 1 else 0.0\n",
    "            print(f\"{name:<25} | {avg_val_mae:<15.3f} | {std_dev_val_mae:<18.3f} | {num_valid_runs:<15}\")\n",
    "        else:\n",
    "             print(f\"{name:<25} | {'N/A':<15} | {'N/A':<18} | {num_valid_runs:<15}\")\n",
    "    print(\"=\"*60)\n",
    "\n",
    "\n",
    "    print(\"\\nMLP comparison script finished.\")\n"
   ]
  },
  {
   "cell_type": "code",
   "execution_count": 8,
   "id": "344df919",
   "metadata": {},
   "outputs": [
    {
     "name": "stdout",
     "output_type": "stream",
     "text": [
      "\n",
      "\n",
      "============================================================\n",
      "      Final Average MAE Results Across Runs\n",
      "============================================================\n",
      "Model                     | Avg Test MAE    | Std Dev Test MAE   | Num Valid Runs \n",
      "------------------------------------------------------------\n",
      "MLP_2Layer                | 9.080           | 0.096              | 5              \n",
      "MLP_3Layer                | 8.768           | 0.032              | 5              \n",
      "MLP_3Layer_AttentionBN    | 7.454           | 0.219              | 5              \n",
      "============================================================\n",
      "\n",
      "\n",
      "============================================================\n",
      "      Average Best Validation MAE Results Across Runs\n",
      "============================================================\n",
      "Model                     | Avg Val MAE     | Std Dev Val MAE    | Num Valid Runs \n",
      "------------------------------------------------------------\n",
      "MLP_2Layer                | 8.351           | 0.099              | 5              \n",
      "MLP_3Layer                | 8.019           | 0.053              | 5              \n",
      "MLP_3Layer_AttentionBN    | 6.855           | 0.161              | 5              \n",
      "============================================================\n"
     ]
    }
   ],
   "source": [
    "print(\"\\n\\n\" + \"=\"*60)\n",
    "print(\"      Final Average MAE Results Across Runs\")\n",
    "print(\"=\"*60)\n",
    "print(f\"{'Model':<25} | {'Avg Test MAE':<15} | {'Std Dev Test MAE':<18} | {'Num Valid Runs':<15}\")\n",
    "print(\"-\"*60)\n",
    "\n",
    "for name, results in all_results.items():\n",
    "    test_maes = results['test_mae']\n",
    "    num_valid_runs = len(test_maes)\n",
    "    if num_valid_runs > 0:\n",
    "        avg_test_mae = statistics.mean(test_maes)\n",
    "        # Calculate standard deviation only if more than one run succeeded\n",
    "        std_dev_test_mae = statistics.stdev(test_maes) if num_valid_runs > 1 else 0.0\n",
    "        print(f\"{name:<25} | {avg_test_mae:<15.3f} | {std_dev_test_mae:<18.3f} | {num_valid_runs:<15}\")\n",
    "    else:\n",
    "        print(f\"{name:<25} | {'N/A':<15} | {'N/A':<18} | {num_valid_runs:<15}\")\n",
    "\n",
    "print(\"=\"*60)\n",
    "\n",
    "# Optional: Print validation MAE stats too\n",
    "print(\"\\n\\n\" + \"=\"*60)\n",
    "print(\"      Average Best Validation MAE Results Across Runs\")\n",
    "print(\"=\"*60)\n",
    "print(f\"{'Model':<25} | {'Avg Val MAE':<15} | {'Std Dev Val MAE':<18} | {'Num Valid Runs':<15}\")\n",
    "print(\"-\"*60)\n",
    "for name, results in all_results.items():\n",
    "    val_maes = results['val_mae']\n",
    "    num_valid_runs = len(val_maes)\n",
    "    if num_valid_runs > 0:\n",
    "        avg_val_mae = statistics.mean(val_maes)\n",
    "        std_dev_val_mae = statistics.stdev(val_maes) if num_valid_runs > 1 else 0.0\n",
    "        print(f\"{name:<25} | {avg_val_mae:<15.3f} | {std_dev_val_mae:<18.3f} | {num_valid_runs:<15}\")\n",
    "    else:\n",
    "        print(f\"{name:<25} | {'N/A':<15} | {'N/A':<18} | {num_valid_runs:<15}\")\n",
    "print(\"=\"*60)\n"
   ]
  },
  {
   "cell_type": "code",
   "execution_count": 9,
   "id": "fc0afca9",
   "metadata": {},
   "outputs": [
    {
     "name": "stdout",
     "output_type": "stream",
     "text": [
      "\n",
      "\n",
      "============================================================\n",
      "      Detailed MAE Results Per Run\n",
      "============================================================\n",
      "\n",
      "Model: MLP_2Layer\n",
      "  Test MAEs (Runs 1-5): 9.099, 8.949, 9.018, 9.171, 9.165\n",
      "  Best Validation MAEs (Runs 1-5): 8.363, 8.211, 8.303, 8.467, 8.409\n",
      "\n",
      "Model: MLP_3Layer\n",
      "  Test MAEs (Runs 1-5): 8.738, 8.810, 8.735, 8.772, 8.787\n",
      "  Best Validation MAEs (Runs 1-5): 8.000, 8.112, 8.007, 7.981, 7.995\n",
      "\n",
      "Model: MLP_3Layer_AttentionBN\n",
      "  Test MAEs (Runs 1-5): 7.572, 7.610, 7.246, 7.654, 7.189\n",
      "  Best Validation MAEs (Runs 1-5): 7.099, 6.904, 6.850, 6.695, 6.728\n",
      "\n",
      "\n",
      "============================================================\n",
      "      Final Average MAE Results Across Runs\n",
      "============================================================\n",
      "Model                     | Avg Test MAE    | Std Dev Test MAE   | Num Valid Runs \n",
      "------------------------------------------------------------\n",
      "MLP_2Layer                | 9.080           | 0.096              | 5              \n",
      "MLP_3Layer                | 8.768           | 0.032              | 5              \n",
      "MLP_3Layer_AttentionBN    | 7.454           | 0.219              | 5              \n",
      "============================================================\n",
      "\n",
      "\n",
      "============================================================\n",
      "      Average Best Validation MAE Results Across Runs\n",
      "============================================================\n",
      "Model                     | Avg Val MAE     | Std Dev Val MAE    | Num Valid Runs \n",
      "------------------------------------------------------------\n",
      "MLP_2Layer                | 8.351           | 0.099              | 5              \n",
      "MLP_3Layer                | 8.019           | 0.053              | 5              \n",
      "MLP_3Layer_AttentionBN    | 6.855           | 0.161              | 5              \n",
      "============================================================\n"
     ]
    }
   ],
   "source": [
    "# --- Detailed Run Results ---\n",
    "print(\"\\n\\n\" + \"=\"*60)\n",
    "print(\"      Detailed MAE Results Per Run\")\n",
    "print(\"=\"*60)\n",
    "\n",
    "for name, results in all_results.items():\n",
    "    print(f\"\\nModel: {name}\")\n",
    "    test_maes = results.get('test_mae', [])\n",
    "    val_maes = results.get('val_mae', [])\n",
    "\n",
    "    if test_maes:\n",
    "        # Format MAEs to 3 decimal places for printing\n",
    "        formatted_test_maes = [f\"{mae:.3f}\" for mae in test_maes]\n",
    "        print(f\"  Test MAEs (Runs 1-{len(test_maes)}): {', '.join(formatted_test_maes)}\")\n",
    "    else:\n",
    "        print(\"  Test MAEs: No successful test runs.\")\n",
    "\n",
    "    if val_maes:\n",
    "        # Format MAEs to 3 decimal places for printing\n",
    "        formatted_val_maes = [f\"{mae:.3f}\" for mae in val_maes]\n",
    "        print(f\"  Best Validation MAEs (Runs 1-{len(val_maes)}): {', '.join(formatted_val_maes)}\")\n",
    "    else:\n",
    "        print(\"  Best Validation MAEs: No successful validation runs.\")\n",
    "\n",
    "# --- Final Average Results Summary (copied from previous cell for completeness) ---\n",
    "print(\"\\n\\n\" + \"=\"*60)\n",
    "print(\"      Final Average MAE Results Across Runs\")\n",
    "print(\"=\"*60)\n",
    "print(f\"{'Model':<25} | {'Avg Test MAE':<15} | {'Std Dev Test MAE':<18} | {'Num Valid Runs':<15}\")\n",
    "print(\"-\"*60)\n",
    "\n",
    "for name, results in all_results.items():\n",
    "    test_maes = results.get('test_mae', [])\n",
    "    num_valid_runs = len(test_maes)\n",
    "    if num_valid_runs > 0:\n",
    "        avg_test_mae = statistics.mean(test_maes)\n",
    "        std_dev_test_mae = statistics.stdev(test_maes) if num_valid_runs > 1 else 0.0\n",
    "        print(f\"{name:<25} | {avg_test_mae:<15.3f} | {std_dev_test_mae:<18.3f} | {num_valid_runs:<15}\")\n",
    "    else:\n",
    "        print(f\"{name:<25} | {'N/A':<15} | {'N/A':<18} | {num_valid_runs:<15}\")\n",
    "\n",
    "print(\"=\"*60)\n",
    "\n",
    "print(\"\\n\\n\" + \"=\"*60)\n",
    "print(\"      Average Best Validation MAE Results Across Runs\")\n",
    "print(\"=\"*60)\n",
    "print(f\"{'Model':<25} | {'Avg Val MAE':<15} | {'Std Dev Val MAE':<18} | {'Num Valid Runs':<15}\")\n",
    "print(\"-\"*60)\n",
    "for name, results in all_results.items():\n",
    "    val_maes = results.get('val_mae', [])\n",
    "    num_valid_runs = len(val_maes)\n",
    "    if num_valid_runs > 0:\n",
    "        avg_val_mae = statistics.mean(val_maes)\n",
    "        std_dev_val_mae = statistics.stdev(val_maes) if num_valid_runs > 1 else 0.0\n",
    "        print(f\"{name:<25} | {avg_val_mae:<15.3f} | {std_dev_val_mae:<18.3f} | {num_valid_runs:<15}\")\n",
    "    else:\n",
    "        print(f\"{name:<25} | {'N/A':<15} | {'N/A':<18} | {num_valid_runs:<15}\")\n",
    "print(\"=\"*60)"
   ]
  }
 ],
 "metadata": {
  "kernelspec": {
   "display_name": "medsam",
   "language": "python",
   "name": "python3"
  },
  "language_info": {
   "codemirror_mode": {
    "name": "ipython",
    "version": 3
   },
   "file_extension": ".py",
   "mimetype": "text/x-python",
   "name": "python",
   "nbconvert_exporter": "python",
   "pygments_lexer": "ipython3",
   "version": "3.10.16"
  }
 },
 "nbformat": 4,
 "nbformat_minor": 5
}
